{
 "cells": [
  {
   "cell_type": "code",
   "execution_count": null,
   "id": "c19aad59",
   "metadata": {
    "papermill": {
     "duration": 0.008789,
     "end_time": "2024-07-27T03:16:37.702530",
     "exception": false,
     "start_time": "2024-07-27T03:16:37.693741",
     "status": "completed"
    },
    "tags": []
   },
   "outputs": [],
   "source": []
  },
  {
   "cell_type": "markdown",
   "id": "c55bffb4",
   "metadata": {
    "_cell_guid": "5d8eeb36-27fd-4f68-998e-ab1aa91e404c",
    "_uuid": "68f745ed-1dc1-436a-bd6b-a17bfcdb3d40",
    "papermill": {
     "duration": 0.007962,
     "end_time": "2024-07-27T03:16:37.719470",
     "exception": false,
     "start_time": "2024-07-27T03:16:37.711508",
     "status": "completed"
    },
    "tags": []
   },
   "source": [
    "## Solution of a Driven Damped Pendulum using a Kolmogorov-Arnold Network (KAN)\n",
    "\n",
    "***Author: Brandon Ismalej (brandon.ismalej.671@my.csun.edu) - (https://github.com/Brandon-Ism)***"
   ]
  },
  {
   "cell_type": "code",
   "execution_count": 1,
   "id": "b3c39200",
   "metadata": {
    "_cell_guid": "59d9f22a-0374-4717-8833-3bc05bddd5ba",
    "_uuid": "b435cd46-7a36-47f2-bc69-098887f9a823",
    "collapsed": false,
    "execution": {
     "iopub.execute_input": "2024-07-27T03:16:37.737599Z",
     "iopub.status.busy": "2024-07-27T03:16:37.737204Z",
     "iopub.status.idle": "2024-07-27T03:16:55.029130Z",
     "shell.execute_reply": "2024-07-27T03:16:55.027451Z"
    },
    "jupyter": {
     "outputs_hidden": false
    },
    "papermill": {
     "duration": 17.30456,
     "end_time": "2024-07-27T03:16:55.032303",
     "exception": false,
     "start_time": "2024-07-27T03:16:37.727743",
     "status": "completed"
    },
    "tags": []
   },
   "outputs": [
    {
     "name": "stdout",
     "output_type": "stream",
     "text": [
      "Collecting pykan\r\n",
      "  Downloading pykan-0.2.3-py3-none-any.whl.metadata (14 kB)\r\n",
      "Requirement already satisfied: torch in /opt/conda/lib/python3.10/site-packages (2.1.2+cpu)\r\n",
      "Requirement already satisfied: numpy in /opt/conda/lib/python3.10/site-packages (1.26.4)\r\n",
      "Requirement already satisfied: matplotlib in /opt/conda/lib/python3.10/site-packages (3.7.5)\r\n",
      "Requirement already satisfied: scikit-learn in /opt/conda/lib/python3.10/site-packages (1.2.2)\r\n",
      "Requirement already satisfied: tqdm in /opt/conda/lib/python3.10/site-packages (4.66.4)\r\n",
      "Requirement already satisfied: sympy in /opt/conda/lib/python3.10/site-packages (1.13.0)\r\n",
      "Requirement already satisfied: setuptools in /opt/conda/lib/python3.10/site-packages (69.0.3)\r\n",
      "Requirement already satisfied: filelock in /opt/conda/lib/python3.10/site-packages (from torch) (3.13.1)\r\n",
      "Requirement already satisfied: typing-extensions in /opt/conda/lib/python3.10/site-packages (from torch) (4.9.0)\r\n",
      "Requirement already satisfied: networkx in /opt/conda/lib/python3.10/site-packages (from torch) (3.2.1)\r\n",
      "Requirement already satisfied: jinja2 in /opt/conda/lib/python3.10/site-packages (from torch) (3.1.2)\r\n",
      "Requirement already satisfied: fsspec in /opt/conda/lib/python3.10/site-packages (from torch) (2024.5.0)\r\n",
      "Requirement already satisfied: contourpy>=1.0.1 in /opt/conda/lib/python3.10/site-packages (from matplotlib) (1.2.0)\r\n",
      "Requirement already satisfied: cycler>=0.10 in /opt/conda/lib/python3.10/site-packages (from matplotlib) (0.12.1)\r\n",
      "Requirement already satisfied: fonttools>=4.22.0 in /opt/conda/lib/python3.10/site-packages (from matplotlib) (4.47.0)\r\n",
      "Requirement already satisfied: kiwisolver>=1.0.1 in /opt/conda/lib/python3.10/site-packages (from matplotlib) (1.4.5)\r\n",
      "Requirement already satisfied: packaging>=20.0 in /opt/conda/lib/python3.10/site-packages (from matplotlib) (21.3)\r\n",
      "Requirement already satisfied: pillow>=6.2.0 in /opt/conda/lib/python3.10/site-packages (from matplotlib) (9.5.0)\r\n",
      "Requirement already satisfied: pyparsing>=2.3.1 in /opt/conda/lib/python3.10/site-packages (from matplotlib) (3.1.1)\r\n",
      "Requirement already satisfied: python-dateutil>=2.7 in /opt/conda/lib/python3.10/site-packages (from matplotlib) (2.9.0.post0)\r\n",
      "Requirement already satisfied: scipy>=1.3.2 in /opt/conda/lib/python3.10/site-packages (from scikit-learn) (1.11.4)\r\n",
      "Requirement already satisfied: joblib>=1.1.1 in /opt/conda/lib/python3.10/site-packages (from scikit-learn) (1.4.2)\r\n",
      "Requirement already satisfied: threadpoolctl>=2.0.0 in /opt/conda/lib/python3.10/site-packages (from scikit-learn) (3.2.0)\r\n",
      "Requirement already satisfied: mpmath<1.4,>=1.1.0 in /opt/conda/lib/python3.10/site-packages (from sympy) (1.3.0)\r\n",
      "Requirement already satisfied: six>=1.5 in /opt/conda/lib/python3.10/site-packages (from python-dateutil>=2.7->matplotlib) (1.16.0)\r\n",
      "Requirement already satisfied: MarkupSafe>=2.0 in /opt/conda/lib/python3.10/site-packages (from jinja2->torch) (2.1.3)\r\n",
      "Downloading pykan-0.2.3-py3-none-any.whl (95 kB)\r\n",
      "\u001b[2K   \u001b[90m━━━━━━━━━━━━━━━━━━━━━━━━━━━━━━━━━━━━━━━━\u001b[0m \u001b[32m95.2/95.2 kB\u001b[0m \u001b[31m3.4 MB/s\u001b[0m eta \u001b[36m0:00:00\u001b[0m\r\n",
      "\u001b[?25hInstalling collected packages: pykan\r\n",
      "Successfully installed pykan-0.2.3\r\n"
     ]
    }
   ],
   "source": [
    "!pip install pykan torch numpy matplotlib scikit-learn tqdm sympy setuptools"
   ]
  },
  {
   "cell_type": "code",
   "execution_count": 2,
   "id": "2a85f34c",
   "metadata": {
    "_cell_guid": "785cc72e-9002-4f47-8046-3a785903dcd9",
    "_uuid": "62afd436-ac95-4c64-ab96-2db4955861ea",
    "collapsed": false,
    "execution": {
     "iopub.execute_input": "2024-07-27T03:16:55.053232Z",
     "iopub.status.busy": "2024-07-27T03:16:55.052807Z",
     "iopub.status.idle": "2024-07-27T03:17:01.844710Z",
     "shell.execute_reply": "2024-07-27T03:17:01.843318Z"
    },
    "jupyter": {
     "outputs_hidden": false
    },
    "papermill": {
     "duration": 6.805833,
     "end_time": "2024-07-27T03:17:01.847730",
     "exception": false,
     "start_time": "2024-07-27T03:16:55.041897",
     "status": "completed"
    },
    "tags": []
   },
   "outputs": [],
   "source": [
    "import numpy as np\n",
    "import pandas as pd\n",
    "import matplotlib.pyplot as plt\n",
    "from scipy.integrate import solve_ivp\n",
    "import torch\n",
    "import torch.nn as nn\n",
    "from torch import autograd\n",
    "from kan import KAN\n",
    "import os"
   ]
  },
  {
   "cell_type": "code",
   "execution_count": 3,
   "id": "89629c6c",
   "metadata": {
    "_cell_guid": "6924e723-1ea8-48c2-88f8-f1f504d016f9",
    "_uuid": "dcdd6524-a17e-4641-9688-373e2fa987fc",
    "collapsed": false,
    "execution": {
     "iopub.execute_input": "2024-07-27T03:17:01.870832Z",
     "iopub.status.busy": "2024-07-27T03:17:01.870248Z",
     "iopub.status.idle": "2024-07-27T03:17:01.878565Z",
     "shell.execute_reply": "2024-07-27T03:17:01.877242Z"
    },
    "jupyter": {
     "outputs_hidden": false
    },
    "papermill": {
     "duration": 0.022886,
     "end_time": "2024-07-27T03:17:01.881337",
     "exception": false,
     "start_time": "2024-07-27T03:17:01.858451",
     "status": "completed"
    },
    "tags": []
   },
   "outputs": [],
   "source": [
    "from sympy import symbols, Function\n",
    "gamma_sym = symbols('gamma')\n",
    "gamma_func = Function('gamma')\n",
    "\n",
    "# Clear previous definitions\n",
    "del gamma_sym\n",
    "del gamma_func"
   ]
  },
  {
   "cell_type": "code",
   "execution_count": 4,
   "id": "6b8b78fa",
   "metadata": {
    "_cell_guid": "41048f0f-b358-4ad0-af91-041222ec00d3",
    "_uuid": "ef00c6d5-6d7b-486d-85e5-7f05a15412f0",
    "collapsed": false,
    "execution": {
     "iopub.execute_input": "2024-07-27T03:17:01.902440Z",
     "iopub.status.busy": "2024-07-27T03:17:01.901985Z",
     "iopub.status.idle": "2024-07-27T03:17:01.908570Z",
     "shell.execute_reply": "2024-07-27T03:17:01.906901Z"
    },
    "jupyter": {
     "outputs_hidden": false
    },
    "papermill": {
     "duration": 0.020878,
     "end_time": "2024-07-27T03:17:01.911616",
     "exception": false,
     "start_time": "2024-07-27T03:17:01.890738",
     "status": "completed"
    },
    "tags": []
   },
   "outputs": [],
   "source": [
    "# Initialize Constants\n",
    "Omega_val = 2 * np.pi  \n",
    "omega_val = Omega_val * 1.5 \n",
    "lambda_val = omega_val / 2 \n",
    "gamma_val = 1.1\n",
    "omegaSQ_val = omega_val ** 2\n",
    "f_val = gamma_val * omegaSQ_val"
   ]
  },
  {
   "cell_type": "code",
   "execution_count": 5,
   "id": "f6948e5c",
   "metadata": {
    "_cell_guid": "6ebae6af-d0ed-41ac-b075-6597faadc74e",
    "_uuid": "89dea9d4-f895-4ee3-8ad8-ec0714be9c91",
    "collapsed": false,
    "execution": {
     "iopub.execute_input": "2024-07-27T03:17:01.933086Z",
     "iopub.status.busy": "2024-07-27T03:17:01.932667Z",
     "iopub.status.idle": "2024-07-27T03:17:02.038282Z",
     "shell.execute_reply": "2024-07-27T03:17:02.037059Z"
    },
    "jupyter": {
     "outputs_hidden": false
    },
    "papermill": {
     "duration": 0.119781,
     "end_time": "2024-07-27T03:17:02.041233",
     "exception": false,
     "start_time": "2024-07-27T03:17:01.921452",
     "status": "completed"
    },
    "tags": []
   },
   "outputs": [],
   "source": [
    "# Define the driven damped pendulum differential equation\n",
    "def driven_damped_pendulum(t, y, omega, lambda_, gamma, Omega):\n",
    "    theta, omega_dot = y\n",
    "    dydt = [omega_dot, -lambda_ * omega_dot - omega**2 * np.sin(theta) + gamma * np.cos(Omega * t)]\n",
    "    return dydt\n",
    "\n",
    "# Initial conditions\n",
    "y0 = [0.0, 0.0]\n",
    "\n",
    "# Time points\n",
    "t = np.linspace(0, 15, 15000)\n",
    "\n",
    "# Solve the differential equation using solve_ivp\n",
    "sol = solve_ivp(driven_damped_pendulum, [t[0], t[-1]], y0, args=(omega_val, lambda_val, gamma_val, Omega_val), t_eval=t, method='LSODA', rtol=1e-6, atol=1e-8)"
   ]
  },
  {
   "cell_type": "code",
   "execution_count": 6,
   "id": "72e058de",
   "metadata": {
    "execution": {
     "iopub.execute_input": "2024-07-27T03:17:02.062712Z",
     "iopub.status.busy": "2024-07-27T03:17:02.062258Z",
     "iopub.status.idle": "2024-07-27T03:17:02.335042Z",
     "shell.execute_reply": "2024-07-27T03:17:02.333753Z"
    },
    "papermill": {
     "duration": 0.286749,
     "end_time": "2024-07-27T03:17:02.338084",
     "exception": false,
     "start_time": "2024-07-27T03:17:02.051335",
     "status": "completed"
    },
    "tags": []
   },
   "outputs": [],
   "source": [
    "# Save ODE solver results to CSV\n",
    "ode_df = pd.DataFrame({'t': sol.t, 'theta': sol.y[0], 'omega_dot': sol.y[1]})\n",
    "ode_df.to_csv('ode_solver_results.csv', index=False)\n"
   ]
  },
  {
   "cell_type": "code",
   "execution_count": 7,
   "id": "b3ac6fa1",
   "metadata": {
    "_cell_guid": "9f380b32-bd07-4507-8820-d6310327beb8",
    "_uuid": "81e25335-7220-46f6-b8db-25ea81a40589",
    "collapsed": false,
    "execution": {
     "iopub.execute_input": "2024-07-27T03:17:02.359321Z",
     "iopub.status.busy": "2024-07-27T03:17:02.358331Z",
     "iopub.status.idle": "2024-07-27T03:17:02.420116Z",
     "shell.execute_reply": "2024-07-27T03:17:02.418906Z"
    },
    "jupyter": {
     "outputs_hidden": false
    },
    "papermill": {
     "duration": 0.075809,
     "end_time": "2024-07-27T03:17:02.423329",
     "exception": false,
     "start_time": "2024-07-27T03:17:02.347520",
     "status": "completed"
    },
    "tags": []
   },
   "outputs": [],
   "source": [
    "# Generate training data\n",
    "x = torch.tensor(t, dtype=torch.float32).view(-1, 1)\n",
    "y = torch.tensor(sol.y[0], dtype=torch.float32).view(-1, 1)\n",
    "x_physics = torch.linspace(0, 5, 5000).view(-1,1).requires_grad_(True) # sample locations over the problem domain\n",
    "x_boundary = torch.tensor([[0.0]]).requires_grad_(True)"
   ]
  },
  {
   "cell_type": "code",
   "execution_count": 8,
   "id": "4bcd1a42",
   "metadata": {
    "_cell_guid": "d585596b-2c73-49f7-81f4-e24b78e94f8b",
    "_uuid": "782a2712-bf9d-4894-bbd0-be7781016551",
    "collapsed": false,
    "execution": {
     "iopub.execute_input": "2024-07-27T03:17:02.444843Z",
     "iopub.status.busy": "2024-07-27T03:17:02.444396Z",
     "iopub.status.idle": "2024-07-27T03:17:02.450563Z",
     "shell.execute_reply": "2024-07-27T03:17:02.449331Z"
    },
    "jupyter": {
     "outputs_hidden": false
    },
    "papermill": {
     "duration": 0.019937,
     "end_time": "2024-07-27T03:17:02.453136",
     "exception": false,
     "start_time": "2024-07-27T03:17:02.433199",
     "status": "completed"
    },
    "tags": []
   },
   "outputs": [
    {
     "name": "stdout",
     "output_type": "stream",
     "text": [
      "{<class 'torch.Tensor'>}\n"
     ]
    }
   ],
   "source": [
    "print({type(x_physics)})"
   ]
  },
  {
   "cell_type": "code",
   "execution_count": 9,
   "id": "a822b475",
   "metadata": {
    "_cell_guid": "117ea5ec-45be-4493-bcc3-7391acf10102",
    "_uuid": "f4591d67-1d78-4758-936e-0de3583283db",
    "collapsed": false,
    "execution": {
     "iopub.execute_input": "2024-07-27T03:17:02.474465Z",
     "iopub.status.busy": "2024-07-27T03:17:02.473951Z",
     "iopub.status.idle": "2024-07-27T03:17:04.681618Z",
     "shell.execute_reply": "2024-07-27T03:17:04.680326Z"
    },
    "jupyter": {
     "outputs_hidden": false
    },
    "papermill": {
     "duration": 2.22184,
     "end_time": "2024-07-27T03:17:04.684580",
     "exception": false,
     "start_time": "2024-07-27T03:17:02.462740",
     "status": "completed"
    },
    "tags": []
   },
   "outputs": [
    {
     "name": "stdout",
     "output_type": "stream",
     "text": [
      "checkpoint directory created: ./model\n",
      "saving model version 0.0\n"
     ]
    }
   ],
   "source": [
    "from kan import *\n",
    "# Define the KAN model\n",
    "physics_weight = 1e-3\n",
    "model = KAN(width=[1,10,10,1], grid=5, k=3, seed=0)\n",
    "#model = KAN(width=[1,10,1], grid=5, k=3, grid_eps=1.0) #noise scale base error after pykan updates\n",
    "model.update_grid_from_samples(x_physics)\n",
    "optimizer = torch.optim.Adam(model.parameters(), lr=1e-2)"
   ]
  },
  {
   "cell_type": "code",
   "execution_count": 10,
   "id": "8988d04b",
   "metadata": {
    "_cell_guid": "f98b7333-6498-471c-8048-4816387eb063",
    "_uuid": "939e23a9-581c-4c4a-9314-1f0903b9f4c3",
    "collapsed": false,
    "execution": {
     "iopub.execute_input": "2024-07-27T03:17:04.706346Z",
     "iopub.status.busy": "2024-07-27T03:17:04.705665Z",
     "iopub.status.idle": "2024-07-27T03:17:04.713640Z",
     "shell.execute_reply": "2024-07-27T03:17:04.712387Z"
    },
    "jupyter": {
     "outputs_hidden": false
    },
    "papermill": {
     "duration": 0.021978,
     "end_time": "2024-07-27T03:17:04.716376",
     "exception": false,
     "start_time": "2024-07-27T03:17:04.694398",
     "status": "completed"
    },
    "tags": []
   },
   "outputs": [],
   "source": [
    "# Convert to torch.Tensor\n",
    "Omega = torch.tensor(Omega_val, dtype=torch.float32)\n",
    "omega = torch.tensor(omega_val, dtype=torch.float32)\n",
    "lambda_ = torch.tensor(lambda_val, dtype=torch.float32)\n",
    "gamma = torch.tensor(gamma_val, dtype=torch.float32)  \n",
    "omegaSQ = torch.tensor(omegaSQ_val, dtype=torch.float32)\n",
    "f = torch.tensor(f_val, dtype=torch.float32)"
   ]
  },
  {
   "cell_type": "code",
   "execution_count": null,
   "id": "9e7a6c48",
   "metadata": {
    "_cell_guid": "dc2f83ff-c8e6-44a8-8d93-a5852ecd7883",
    "_uuid": "3959a336-356f-4beb-804d-c648a6b97216",
    "collapsed": false,
    "jupyter": {
     "outputs_hidden": false
    },
    "papermill": {
     "duration": 0.010149,
     "end_time": "2024-07-27T03:17:04.736158",
     "exception": false,
     "start_time": "2024-07-27T03:17:04.726009",
     "status": "completed"
    },
    "tags": []
   },
   "outputs": [],
   "source": []
  },
  {
   "cell_type": "code",
   "execution_count": 11,
   "id": "8321f073",
   "metadata": {
    "_cell_guid": "a0173ada-cce0-4bb6-964d-f8c1582c456b",
    "_uuid": "c9a4b1d2-0bc8-4234-9ce3-5585ab420f54",
    "collapsed": false,
    "execution": {
     "iopub.execute_input": "2024-07-27T03:17:04.759946Z",
     "iopub.status.busy": "2024-07-27T03:17:04.759026Z",
     "iopub.status.idle": "2024-07-27T04:15:36.944268Z",
     "shell.execute_reply": "2024-07-27T04:15:36.942689Z"
    },
    "jupyter": {
     "outputs_hidden": false
    },
    "papermill": {
     "duration": 3512.209949,
     "end_time": "2024-07-27T04:15:36.956273",
     "exception": false,
     "start_time": "2024-07-27T03:17:04.746324",
     "status": "completed"
    },
    "tags": []
   },
   "outputs": [
    {
     "name": "stdout",
     "output_type": "stream",
     "text": [
      "Epoch [1000/5000], Total Loss: 0.0000\n",
      "Epoch [2000/5000], Total Loss: 0.0000\n",
      "Epoch [3000/5000], Total Loss: 0.0000\n",
      "Epoch [4000/5000], Total Loss: 0.0000\n",
      "Epoch [5000/5000], Total Loss: 0.0017\n"
     ]
    }
   ],
   "source": [
    "# Training loop\n",
    "\n",
    "epochs = 5000\n",
    "losses = {'boundaryloss': [], 'physicsloss': [], 'totalloss': []}\n",
    "\n",
    "for i in range(epochs):\n",
    "    optimizer.zero_grad()\n",
    "    \n",
    "    # Compute the \"physics loss\"\n",
    "    yhp = model(x_physics)\n",
    "    dx  = torch.autograd.grad(yhp, x_physics, torch.ones_like(yhp), create_graph=True)[0] # computes dy/dx\n",
    "    dx2 = torch.autograd.grad(dx, x_physics, torch.ones_like(dx), create_graph=True)[0]  # computes d^2y/dx^2\n",
    "    physics = dx2 + lambda_ * dx + omega**2 * torch.sin(yhp) - gamma * torch.cos(Omega * x_physics)  # residual of the driven damped pendulum differential equation\n",
    "    physicsloss = physics_weight * torch.mean(physics**2)\n",
    "    \n",
    "    # Compute the \"boundary loss\"\n",
    "    y_boundary = model(x_boundary)\n",
    "    dx_boundary = torch.autograd.grad(y_boundary, x_boundary, torch.ones_like(y_boundary), create_graph=True)[0]\n",
    "    boundaryloss = torch.squeeze((y_boundary - 0.0)**2 + dx_boundary**2)\n",
    "    \n",
    "    # Combine losses\n",
    "    loss = boundaryloss + physicsloss\n",
    "    loss.backward()  # Backpropagation\n",
    "    optimizer.step()  # Update parameters\n",
    "    \n",
    "    # Store losses\n",
    "    losses['boundaryloss'].append(boundaryloss.detach().item())\n",
    "    losses['physicsloss'].append(physicsloss.detach().item())\n",
    "    losses['totalloss'].append(loss.detach().item())\n",
    "\n",
    "    if (i+1) % 1000 == 0:\n",
    "        print(f'Epoch [{i+1}/{epochs}], Total Loss: {loss.item():.4f}')"
   ]
  },
  {
   "cell_type": "code",
   "execution_count": 12,
   "id": "e40625e7",
   "metadata": {
    "_cell_guid": "353854a1-d6e1-4e1b-8f69-1adde5640a1a",
    "_uuid": "7b45c174-a317-41f0-bf7d-1b26b8dbe4df",
    "collapsed": false,
    "execution": {
     "iopub.execute_input": "2024-07-27T04:15:36.979446Z",
     "iopub.status.busy": "2024-07-27T04:15:36.979005Z",
     "iopub.status.idle": "2024-07-27T04:15:36.985828Z",
     "shell.execute_reply": "2024-07-27T04:15:36.984659Z"
    },
    "jupyter": {
     "outputs_hidden": false
    },
    "papermill": {
     "duration": 0.022216,
     "end_time": "2024-07-27T04:15:36.988883",
     "exception": false,
     "start_time": "2024-07-27T04:15:36.966667",
     "status": "completed"
    },
    "tags": []
   },
   "outputs": [
    {
     "name": "stdout",
     "output_type": "stream",
     "text": [
      "\n",
      "Final Losses:\n",
      "Boundary Loss: 0.0001\n",
      "Physics Loss: 0.0016\n",
      "Total Loss: 0.0017\n"
     ]
    }
   ],
   "source": [
    "# Print final losses\n",
    "print(\"\\nFinal Losses:\")\n",
    "print(f\"Boundary Loss: {losses['boundaryloss'][-1]:.4f}\")\n",
    "print(f\"Physics Loss: {losses['physicsloss'][-1]:.4f}\")\n",
    "print(f\"Total Loss: {losses['totalloss'][-1]:.4f}\")"
   ]
  },
  {
   "cell_type": "code",
   "execution_count": 13,
   "id": "d09b85e6",
   "metadata": {
    "execution": {
     "iopub.execute_input": "2024-07-27T04:15:37.011522Z",
     "iopub.status.busy": "2024-07-27T04:15:37.011125Z",
     "iopub.status.idle": "2024-07-27T04:15:37.062198Z",
     "shell.execute_reply": "2024-07-27T04:15:37.061056Z"
    },
    "papermill": {
     "duration": 0.066236,
     "end_time": "2024-07-27T04:15:37.065099",
     "exception": false,
     "start_time": "2024-07-27T04:15:36.998863",
     "status": "completed"
    },
    "tags": []
   },
   "outputs": [],
   "source": [
    "# Save KAN loss values to CSV\n",
    "loss_df = pd.DataFrame(losses)\n",
    "loss_df.to_csv('kan_loss_values.csv', index=False)\n"
   ]
  },
  {
   "cell_type": "code",
   "execution_count": 14,
   "id": "ded909e7",
   "metadata": {
    "_cell_guid": "37f4ec8a-e372-446c-96eb-47911999a70a",
    "_uuid": "8257ed73-7936-413c-8598-b21c74184459",
    "collapsed": false,
    "execution": {
     "iopub.execute_input": "2024-07-27T04:15:37.155826Z",
     "iopub.status.busy": "2024-07-27T04:15:37.154414Z",
     "iopub.status.idle": "2024-07-27T04:15:37.336995Z",
     "shell.execute_reply": "2024-07-27T04:15:37.335757Z"
    },
    "jupyter": {
     "outputs_hidden": false
    },
    "papermill": {
     "duration": 0.263828,
     "end_time": "2024-07-27T04:15:37.339744",
     "exception": false,
     "start_time": "2024-07-27T04:15:37.075916",
     "status": "completed"
    },
    "tags": []
   },
   "outputs": [],
   "source": [
    "# Predict using the KAN model\n",
    "x_test = torch.tensor(t, dtype=torch.float32).view(-1, 1)\n",
    "y_kan = model(x_test).detach().numpy()"
   ]
  },
  {
   "cell_type": "code",
   "execution_count": 15,
   "id": "747785a8",
   "metadata": {
    "execution": {
     "iopub.execute_input": "2024-07-27T04:15:37.363574Z",
     "iopub.status.busy": "2024-07-27T04:15:37.363176Z",
     "iopub.status.idle": "2024-07-27T04:15:37.432988Z",
     "shell.execute_reply": "2024-07-27T04:15:37.431464Z"
    },
    "papermill": {
     "duration": 0.084499,
     "end_time": "2024-07-27T04:15:37.435854",
     "exception": false,
     "start_time": "2024-07-27T04:15:37.351355",
     "status": "completed"
    },
    "tags": []
   },
   "outputs": [],
   "source": [
    "# Save KAN results to CSV\n",
    "kan_df = pd.DataFrame({'t': t, 'theta': y_kan.squeeze()})\n",
    "kan_df.to_csv('kan_results.csv', index=False)"
   ]
  },
  {
   "cell_type": "markdown",
   "id": "4d982095",
   "metadata": {
    "_cell_guid": "949bba2c-23da-4230-b57a-5d983112cf9f",
    "_uuid": "e732526a-daff-41d7-88a9-f1df8d1fab25",
    "papermill": {
     "duration": 0.010098,
     "end_time": "2024-07-27T04:15:37.456714",
     "exception": false,
     "start_time": "2024-07-27T04:15:37.446616",
     "status": "completed"
    },
    "tags": []
   },
   "source": []
  },
  {
   "cell_type": "code",
   "execution_count": 16,
   "id": "e205e557",
   "metadata": {
    "_cell_guid": "89dcc15e-85d1-4226-89f6-4d68eaa5080b",
    "_uuid": "c2be89f8-a2aa-468d-8d3c-d505fb5d03fd",
    "collapsed": false,
    "execution": {
     "iopub.execute_input": "2024-07-27T04:15:37.479538Z",
     "iopub.status.busy": "2024-07-27T04:15:37.478985Z",
     "iopub.status.idle": "2024-07-27T04:15:38.121536Z",
     "shell.execute_reply": "2024-07-27T04:15:38.120218Z"
    },
    "jupyter": {
     "outputs_hidden": false
    },
    "papermill": {
     "duration": 0.657442,
     "end_time": "2024-07-27T04:15:38.124445",
     "exception": false,
     "start_time": "2024-07-27T04:15:37.467003",
     "status": "completed"
    },
    "tags": []
   },
   "outputs": [
    {
     "data": {
      "image/png": "[encoded data removed]",
      "text/plain": [
       "<Figure size 1200x800 with 1 Axes>"
      ]
     },
     "metadata": {},
     "output_type": "display_data"
    }
   ],
   "source": [
    "# Plot both the numerical and KAN solutions \n",
    "plt.figure(figsize=(12, 8))  \n",
    "plt.plot(sol.t, sol.y[0], label='Numerical Solution')\n",
    "plt.plot(t, y_kan, label='KAN Solution')\n",
    "plt.xlabel('t')\n",
    "plt.ylabel('phi(t)')\n",
    "plt.legend()\n",
    "plt.title('Numerical vs KAN Solution')\n",
    "\n",
    "# limits for zooming in\n",
    "plt.xlim(0, 20)  \n",
    "plt.ylim(-0.05, 0.05)  \n",
    "\n",
    "plt.savefig('/kaggle/working/KAN_0008.png')\n",
    "plt.show()"
   ]
  },
  {
   "cell_type": "code",
   "execution_count": 17,
   "id": "95075d19",
   "metadata": {
    "_cell_guid": "2b84e640-6ae9-48f5-b37c-53d81b172c80",
    "_uuid": "bdf2b29c-f270-4d67-b83d-f0d054d4acc9",
    "collapsed": false,
    "execution": {
     "iopub.execute_input": "2024-07-27T04:15:38.150498Z",
     "iopub.status.busy": "2024-07-27T04:15:38.150020Z",
     "iopub.status.idle": "2024-07-27T04:15:38.155610Z",
     "shell.execute_reply": "2024-07-27T04:15:38.154188Z"
    },
    "jupyter": {
     "outputs_hidden": false
    },
    "papermill": {
     "duration": 0.022057,
     "end_time": "2024-07-27T04:15:38.158345",
     "exception": false,
     "start_time": "2024-07-27T04:15:38.136288",
     "status": "completed"
    },
    "tags": []
   },
   "outputs": [],
   "source": [
    "# Plot the KAN grid\n",
    "\n",
    "#model.plot()"
   ]
  },
  {
   "cell_type": "code",
   "execution_count": 18,
   "id": "9ed1b1e1",
   "metadata": {
    "_cell_guid": "9fbd4a9c-1ee7-4467-8b9c-7d338939a2da",
    "_uuid": "23da37a9-d5fa-465b-9639-800e38ad3de5",
    "collapsed": false,
    "execution": {
     "iopub.execute_input": "2024-07-27T04:15:38.184053Z",
     "iopub.status.busy": "2024-07-27T04:15:38.183598Z",
     "iopub.status.idle": "2024-07-27T04:15:38.188566Z",
     "shell.execute_reply": "2024-07-27T04:15:38.187222Z"
    },
    "jupyter": {
     "outputs_hidden": false
    },
    "papermill": {
     "duration": 0.021128,
     "end_time": "2024-07-27T04:15:38.191158",
     "exception": false,
     "start_time": "2024-07-27T04:15:38.170030",
     "status": "completed"
    },
    "tags": []
   },
   "outputs": [],
   "source": [
    "# Try time up to 20\n",
    "#"
   ]
  }
 ],
 "metadata": {
  "kaggle": {
   "accelerator": "none",
   "dataSources": [],
   "isGpuEnabled": false,
   "isInternetEnabled": true,
   "language": "python",
   "sourceType": "notebook"
  },
  "kernelspec": {
   "display_name": "Python 3",
   "language": "python",
   "name": "python3"
  },
  "language_info": {
   "codemirror_mode": {
    "name": "ipython",
    "version": 3
   },
   "file_extension": ".py",
   "mimetype": "text/x-python",
   "name": "python",
   "nbconvert_exporter": "python",
   "pygments_lexer": "ipython3",
   "version": "3.10.13"
  },
  "papermill": {
   "default_parameters": {},
   "duration": 3545.187736,
   "end_time": "2024-07-27T04:15:39.636619",
   "environment_variables": {},
   "exception": null,
   "input_path": "__notebook__.ipynb",
   "output_path": "__notebook__.ipynb",
   "parameters": {},
   "start_time": "2024-07-27T03:16:34.448883",
   "version": "2.5.0"
  }
 },
 "nbformat": 4,
 "nbformat_minor": 5
}
