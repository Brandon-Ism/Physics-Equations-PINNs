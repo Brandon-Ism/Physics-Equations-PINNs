{
 "cells": [
  {
   "cell_type": "code",
   "execution_count": null,
   "id": "d24d1400",
   "metadata": {
    "_cell_guid": "ac1f72fe-ff32-46e6-aede-f62a56938912",
    "_uuid": "22292fad-392a-492a-bf20-58c88774d047",
    "collapsed": false,
    "jupyter": {
     "outputs_hidden": false
    },
    "papermill": {
     "duration": 0.00957,
     "end_time": "2024-07-27T23:20:27.806148",
     "exception": false,
     "start_time": "2024-07-27T23:20:27.796578",
     "status": "completed"
    },
    "tags": []
   },
   "outputs": [],
   "source": []
  },
  {
   "cell_type": "markdown",
   "id": "92819018",
   "metadata": {
    "_cell_guid": "96f61f85-ccce-4326-a722-f728ff237f17",
    "_uuid": "be03921d-99d0-4eec-9d79-b6feab71f4b2",
    "papermill": {
     "duration": 0.008942,
     "end_time": "2024-07-27T23:20:27.824353",
     "exception": false,
     "start_time": "2024-07-27T23:20:27.815411",
     "status": "completed"
    },
    "tags": []
   },
   "source": [
    "## Solution of a Driven Damped Pendulum using a Kolmogorov-Arnold Network (KAN)\n",
    "\n",
    "***Author: Brandon Ismalej (brandon.ismalej.671@my.csun.edu) - (https://github.com/Brandon-Ism)***"
   ]
  },
  {
   "cell_type": "code",
   "execution_count": 1,
   "id": "dd78dee1",
   "metadata": {
    "_cell_guid": "92eeaab3-94c4-472a-bbfd-c1eff68c658c",
    "_uuid": "68ac6c7b-2b0f-40df-9d54-64a5c985fcc5",
    "collapsed": false,
    "execution": {
     "iopub.execute_input": "2024-07-27T23:20:27.844662Z",
     "iopub.status.busy": "2024-07-27T23:20:27.843895Z",
     "iopub.status.idle": "2024-07-27T23:20:44.545826Z",
     "shell.execute_reply": "2024-07-27T23:20:44.544368Z"
    },
    "jupyter": {
     "outputs_hidden": false
    },
    "papermill": {
     "duration": 16.715203,
     "end_time": "2024-07-27T23:20:44.548635",
     "exception": false,
     "start_time": "2024-07-27T23:20:27.833432",
     "status": "completed"
    },
    "tags": []
   },
   "outputs": [
    {
     "name": "stdout",
     "output_type": "stream",
     "text": [
      "Collecting pykan\r\n",
      "  Downloading pykan-0.2.3-py3-none-any.whl.metadata (14 kB)\r\n",
      "Requirement already satisfied: torch in /opt/conda/lib/python3.10/site-packages (2.1.2+cpu)\r\n",
      "Requirement already satisfied: numpy in /opt/conda/lib/python3.10/site-packages (1.26.4)\r\n",
      "Requirement already satisfied: matplotlib in /opt/conda/lib/python3.10/site-packages (3.7.5)\r\n",
      "Requirement already satisfied: scikit-learn in /opt/conda/lib/python3.10/site-packages (1.2.2)\r\n",
      "Requirement already satisfied: tqdm in /opt/conda/lib/python3.10/site-packages (4.66.4)\r\n",
      "Requirement already satisfied: sympy in /opt/conda/lib/python3.10/site-packages (1.13.0)\r\n",
      "Requirement already satisfied: setuptools in /opt/conda/lib/python3.10/site-packages (69.0.3)\r\n",
      "Requirement already satisfied: filelock in /opt/conda/lib/python3.10/site-packages (from torch) (3.13.1)\r\n",
      "Requirement already satisfied: typing-extensions in /opt/conda/lib/python3.10/site-packages (from torch) (4.9.0)\r\n",
      "Requirement already satisfied: networkx in /opt/conda/lib/python3.10/site-packages (from torch) (3.2.1)\r\n",
      "Requirement already satisfied: jinja2 in /opt/conda/lib/python3.10/site-packages (from torch) (3.1.2)\r\n",
      "Requirement already satisfied: fsspec in /opt/conda/lib/python3.10/site-packages (from torch) (2024.5.0)\r\n",
      "Requirement already satisfied: contourpy>=1.0.1 in /opt/conda/lib/python3.10/site-packages (from matplotlib) (1.2.0)\r\n",
      "Requirement already satisfied: cycler>=0.10 in /opt/conda/lib/python3.10/site-packages (from matplotlib) (0.12.1)\r\n",
      "Requirement already satisfied: fonttools>=4.22.0 in /opt/conda/lib/python3.10/site-packages (from matplotlib) (4.47.0)\r\n",
      "Requirement already satisfied: kiwisolver>=1.0.1 in /opt/conda/lib/python3.10/site-packages (from matplotlib) (1.4.5)\r\n",
      "Requirement already satisfied: packaging>=20.0 in /opt/conda/lib/python3.10/site-packages (from matplotlib) (21.3)\r\n",
      "Requirement already satisfied: pillow>=6.2.0 in /opt/conda/lib/python3.10/site-packages (from matplotlib) (9.5.0)\r\n",
      "Requirement already satisfied: pyparsing>=2.3.1 in /opt/conda/lib/python3.10/site-packages (from matplotlib) (3.1.1)\r\n",
      "Requirement already satisfied: python-dateutil>=2.7 in /opt/conda/lib/python3.10/site-packages (from matplotlib) (2.9.0.post0)\r\n",
      "Requirement already satisfied: scipy>=1.3.2 in /opt/conda/lib/python3.10/site-packages (from scikit-learn) (1.11.4)\r\n",
      "Requirement already satisfied: joblib>=1.1.1 in /opt/conda/lib/python3.10/site-packages (from scikit-learn) (1.4.2)\r\n",
      "Requirement already satisfied: threadpoolctl>=2.0.0 in /opt/conda/lib/python3.10/site-packages (from scikit-learn) (3.2.0)\r\n",
      "Requirement already satisfied: mpmath<1.4,>=1.1.0 in /opt/conda/lib/python3.10/site-packages (from sympy) (1.3.0)\r\n",
      "Requirement already satisfied: six>=1.5 in /opt/conda/lib/python3.10/site-packages (from python-dateutil>=2.7->matplotlib) (1.16.0)\r\n",
      "Requirement already satisfied: MarkupSafe>=2.0 in /opt/conda/lib/python3.10/site-packages (from jinja2->torch) (2.1.3)\r\n",
      "Downloading pykan-0.2.3-py3-none-any.whl (95 kB)\r\n",
      "\u001b[2K   \u001b[90m━━━━━━━━━━━━━━━━━━━━━━━━━━━━━━━━━━━━━━━━\u001b[0m \u001b[32m95.2/95.2 kB\u001b[0m \u001b[31m3.1 MB/s\u001b[0m eta \u001b[36m0:00:00\u001b[0m\r\n",
      "\u001b[?25hInstalling collected packages: pykan\r\n",
      "Successfully installed pykan-0.2.3\r\n"
     ]
    }
   ],
   "source": [
    "!pip install pykan torch numpy matplotlib scikit-learn tqdm sympy setuptools"
   ]
  },
  {
   "cell_type": "code",
   "execution_count": 2,
   "id": "244a1db5",
   "metadata": {
    "_cell_guid": "e9647765-4ae6-459a-b40f-de041e32c4d8",
    "_uuid": "88d0168c-58a2-483e-8556-b051a384c723",
    "collapsed": false,
    "execution": {
     "iopub.execute_input": "2024-07-27T23:20:44.571964Z",
     "iopub.status.busy": "2024-07-27T23:20:44.571506Z",
     "iopub.status.idle": "2024-07-27T23:20:50.938958Z",
     "shell.execute_reply": "2024-07-27T23:20:50.937572Z"
    },
    "jupyter": {
     "outputs_hidden": false
    },
    "papermill": {
     "duration": 6.382879,
     "end_time": "2024-07-27T23:20:50.942210",
     "exception": false,
     "start_time": "2024-07-27T23:20:44.559331",
     "status": "completed"
    },
    "tags": []
   },
   "outputs": [],
   "source": [
    "import numpy as np\n",
    "import pandas as pd\n",
    "import matplotlib.pyplot as plt\n",
    "from scipy.integrate import solve_ivp\n",
    "import torch\n",
    "import torch.nn as nn\n",
    "from torch import autograd\n",
    "from kan import KAN\n",
    "import math\n",
    "import os"
   ]
  },
  {
   "cell_type": "code",
   "execution_count": 3,
   "id": "71aaec0f",
   "metadata": {
    "_cell_guid": "2870a184-668f-4f0f-83e0-806ae561e759",
    "_uuid": "904b2814-b5a3-4f53-b4c2-fe946727552a",
    "collapsed": false,
    "execution": {
     "iopub.execute_input": "2024-07-27T23:20:50.966089Z",
     "iopub.status.busy": "2024-07-27T23:20:50.965348Z",
     "iopub.status.idle": "2024-07-27T23:20:50.975941Z",
     "shell.execute_reply": "2024-07-27T23:20:50.974632Z"
    },
    "jupyter": {
     "outputs_hidden": false
    },
    "papermill": {
     "duration": 0.025514,
     "end_time": "2024-07-27T23:20:50.978648",
     "exception": false,
     "start_time": "2024-07-27T23:20:50.953134",
     "status": "completed"
    },
    "tags": []
   },
   "outputs": [],
   "source": [
    "from sympy import symbols, Function\n",
    "gamma_sym = symbols('gamma')\n",
    "gamma_func = Function('gamma')\n",
    "\n",
    "# Clear previous definitions\n",
    "del gamma_sym\n",
    "del gamma_func"
   ]
  },
  {
   "cell_type": "code",
   "execution_count": 4,
   "id": "9331c1b1",
   "metadata": {
    "_cell_guid": "bfb39d57-818b-4001-8d3a-b7a8dfabf636",
    "_uuid": "168c94ef-e9e5-458a-b9eb-5a588e6ee142",
    "collapsed": false,
    "execution": {
     "iopub.execute_input": "2024-07-27T23:20:51.002132Z",
     "iopub.status.busy": "2024-07-27T23:20:51.001596Z",
     "iopub.status.idle": "2024-07-27T23:20:51.008478Z",
     "shell.execute_reply": "2024-07-27T23:20:51.007169Z"
    },
    "jupyter": {
     "outputs_hidden": false
    },
    "papermill": {
     "duration": 0.021901,
     "end_time": "2024-07-27T23:20:51.011378",
     "exception": false,
     "start_time": "2024-07-27T23:20:50.989477",
     "status": "completed"
    },
    "tags": []
   },
   "outputs": [],
   "source": [
    "# Initialize Constants\n",
    "Omega_val = 2 * np.pi  \n",
    "omega_val = Omega_val * 1.5 \n",
    "lambda_val = omega_val / 2 \n",
    "gamma_val = 1.3\n",
    "omegaSQ_val = omega_val ** 2\n",
    "f_val = gamma_val * omegaSQ_val"
   ]
  },
  {
   "cell_type": "code",
   "execution_count": 5,
   "id": "ecee8f1d",
   "metadata": {
    "execution": {
     "iopub.execute_input": "2024-07-27T23:20:51.036676Z",
     "iopub.status.busy": "2024-07-27T23:20:51.036281Z",
     "iopub.status.idle": "2024-07-27T23:20:51.043092Z",
     "shell.execute_reply": "2024-07-27T23:20:51.041835Z"
    },
    "papermill": {
     "duration": 0.022553,
     "end_time": "2024-07-27T23:20:51.046317",
     "exception": false,
     "start_time": "2024-07-27T23:20:51.023764",
     "status": "completed"
    },
    "tags": []
   },
   "outputs": [],
   "source": [
    "# This is the function for scipy odeint that helps it to solve the diff equation\n",
    "# Differential equation\n",
    "def helper(t, theta):\n",
    "    theta, z = theta\n",
    "    dthetadt = [z, f_val * math.cos(Omega_val * t) - omegaSQ_val * math.sin(theta) - lambda_val * z]\n",
    "    return dthetadt"
   ]
  },
  {
   "cell_type": "code",
   "execution_count": 6,
   "id": "01292235",
   "metadata": {
    "_cell_guid": "c3476c99-25b3-4504-8bb3-8ff76490ba92",
    "_uuid": "c3eef8ea-4035-47fd-98ed-d251f087d7c1",
    "collapsed": false,
    "execution": {
     "iopub.execute_input": "2024-07-27T23:20:51.070984Z",
     "iopub.status.busy": "2024-07-27T23:20:51.070598Z",
     "iopub.status.idle": "2024-07-27T23:20:51.226242Z",
     "shell.execute_reply": "2024-07-27T23:20:51.224866Z"
    },
    "jupyter": {
     "outputs_hidden": false
    },
    "papermill": {
     "duration": 0.171519,
     "end_time": "2024-07-27T23:20:51.229305",
     "exception": false,
     "start_time": "2024-07-27T23:20:51.057786",
     "status": "completed"
    },
    "tags": []
   },
   "outputs": [],
   "source": [
    "# Define the driven damped pendulum differential equation\n",
    "#def driven_damped_pendulum(t, y, omega, lambda_, gamma, Omega):\n",
    "#    theta, omega_dot = y\n",
    "#   dydt = [omega_dot, -lambda_ * omega_dot - omega**2 * np.sin(theta) + gamma * np.cos(Omega * t)]\n",
    " #   return dydt\n",
    "\n",
    "\n",
    "    \n",
    "# Initial conditions\n",
    "y0 = [0, 0]\n",
    "start_val = 0\n",
    "end_val = 15\n",
    "\n",
    "initial_conditions = [0, 0]\n",
    "\n",
    "# Time points\n",
    "t = np.linspace(start_val, end_val, 15000)\n",
    "\n",
    "\n",
    "sol = solve_ivp(helper, [start_val, end_val], initial_conditions, t_eval=t, method='LSODA', rtol=1e-6, atol=1e-8)    \n",
    "\n",
    "# Solve the differential equation using solve_ivp\n",
    "# sol = solve_ivp(driven_damped_pendulum, [t[0], t[-1]], y0, args=(omega_val, lambda_val, gamma_val, Omega_val), t_eval=t, method='LSODA', rtol=1e-6, atol=1e-8)"
   ]
  },
  {
   "cell_type": "code",
   "execution_count": 7,
   "id": "eb1567f4",
   "metadata": {
    "_cell_guid": "adfb4632-6af8-4209-9f79-25468e8b6d52",
    "_uuid": "07b5db48-de35-4191-8743-2f427f55309d",
    "collapsed": false,
    "execution": {
     "iopub.execute_input": "2024-07-27T23:20:51.252064Z",
     "iopub.status.busy": "2024-07-27T23:20:51.251553Z",
     "iopub.status.idle": "2024-07-27T23:20:51.945128Z",
     "shell.execute_reply": "2024-07-27T23:20:51.943910Z"
    },
    "jupyter": {
     "outputs_hidden": false
    },
    "papermill": {
     "duration": 0.708257,
     "end_time": "2024-07-27T23:20:51.947946",
     "exception": false,
     "start_time": "2024-07-27T23:20:51.239689",
     "status": "completed"
    },
    "tags": []
   },
   "outputs": [
    {
     "data": {
      "image/png": "[encoded data removed]",
      "text/plain": [
       "<Figure size 1200x800 with 1 Axes>"
      ]
     },
     "metadata": {},
     "output_type": "display_data"
    }
   ],
   "source": [
    "plt.figure(figsize=(12, 8))\n",
    "plt.plot(sol.t, sol.y[0], label='Numerical Solution')\n",
    "plt.xlabel('t')\n",
    "plt.ylabel('phi(t) ')\n",
    "plt.grid(True)\n",
    "#plt.legend(loc='center left', bbox_to_anchor=(1, 0.5))\n",
    "plt.savefig('numerical_only.png')\n",
    "plt.show()"
   ]
  },
  {
   "cell_type": "code",
   "execution_count": 8,
   "id": "9d58eea2",
   "metadata": {
    "_cell_guid": "2b436ad6-0307-45f1-849e-be7fe4dbfcfe",
    "_uuid": "0cce8dbf-3ca7-4211-8040-6e21cb5271de",
    "collapsed": false,
    "execution": {
     "iopub.execute_input": "2024-07-27T23:20:51.972677Z",
     "iopub.status.busy": "2024-07-27T23:20:51.972289Z",
     "iopub.status.idle": "2024-07-27T23:20:52.101399Z",
     "shell.execute_reply": "2024-07-27T23:20:52.100280Z"
    },
    "jupyter": {
     "outputs_hidden": false
    },
    "papermill": {
     "duration": 0.144181,
     "end_time": "2024-07-27T23:20:52.103987",
     "exception": false,
     "start_time": "2024-07-27T23:20:51.959806",
     "status": "completed"
    },
    "tags": []
   },
   "outputs": [],
   "source": [
    "# Save ODE solver results to CSV\n",
    "ode_df = pd.DataFrame({'t': sol.t, 'theta': sol.y[0], 'omega_dot': sol.y[1]})\n",
    "ode_df.to_csv('ode_solver_results.csv', index=False)"
   ]
  },
  {
   "cell_type": "code",
   "execution_count": 9,
   "id": "892c4858",
   "metadata": {
    "_cell_guid": "eddc193e-1df4-47b2-913d-7d15706b85ba",
    "_uuid": "272580de-e597-4161-90c5-37b8fe7b33b8",
    "collapsed": false,
    "execution": {
     "iopub.execute_input": "2024-07-27T23:20:52.127756Z",
     "iopub.status.busy": "2024-07-27T23:20:52.127324Z",
     "iopub.status.idle": "2024-07-27T23:20:52.187549Z",
     "shell.execute_reply": "2024-07-27T23:20:52.186468Z"
    },
    "jupyter": {
     "outputs_hidden": false
    },
    "papermill": {
     "duration": 0.075294,
     "end_time": "2024-07-27T23:20:52.190262",
     "exception": false,
     "start_time": "2024-07-27T23:20:52.114968",
     "status": "completed"
    },
    "tags": []
   },
   "outputs": [],
   "source": [
    "# Generate training data\n",
    "x = torch.tensor(t, dtype=torch.float32).view(-1, 1)\n",
    "y = torch.tensor(sol.y[0], dtype=torch.float32).view(-1, 1)\n",
    "x_physics = torch.linspace(0, 5, 10000).view(-1,1).requires_grad_(True) # sample locations over the problem domain\n",
    "x_boundary = torch.tensor([[0.0]]).requires_grad_(True)"
   ]
  },
  {
   "cell_type": "code",
   "execution_count": 10,
   "id": "f6f9e578",
   "metadata": {
    "_cell_guid": "d4326473-c58b-4ff0-b561-71d2043d1265",
    "_uuid": "caca6ccd-5066-475d-a4ac-3315d4a15979",
    "collapsed": false,
    "execution": {
     "iopub.execute_input": "2024-07-27T23:20:52.214037Z",
     "iopub.status.busy": "2024-07-27T23:20:52.213640Z",
     "iopub.status.idle": "2024-07-27T23:20:52.219295Z",
     "shell.execute_reply": "2024-07-27T23:20:52.218305Z"
    },
    "jupyter": {
     "outputs_hidden": false
    },
    "papermill": {
     "duration": 0.020498,
     "end_time": "2024-07-27T23:20:52.221899",
     "exception": false,
     "start_time": "2024-07-27T23:20:52.201401",
     "status": "completed"
    },
    "tags": []
   },
   "outputs": [
    {
     "name": "stdout",
     "output_type": "stream",
     "text": [
      "{<class 'torch.Tensor'>}\n"
     ]
    }
   ],
   "source": [
    "print({type(x_physics)})"
   ]
  },
  {
   "cell_type": "code",
   "execution_count": 11,
   "id": "2e05a58f",
   "metadata": {
    "_cell_guid": "d26c7a18-d7d8-4131-aed8-f1e82fb0a2ea",
    "_uuid": "ceca27fa-edbf-4832-bee3-9445337023fb",
    "collapsed": false,
    "execution": {
     "iopub.execute_input": "2024-07-27T23:20:52.245610Z",
     "iopub.status.busy": "2024-07-27T23:20:52.245236Z",
     "iopub.status.idle": "2024-07-27T23:20:54.541282Z",
     "shell.execute_reply": "2024-07-27T23:20:54.540152Z"
    },
    "jupyter": {
     "outputs_hidden": false
    },
    "papermill": {
     "duration": 2.310943,
     "end_time": "2024-07-27T23:20:54.543921",
     "exception": false,
     "start_time": "2024-07-27T23:20:52.232978",
     "status": "completed"
    },
    "tags": []
   },
   "outputs": [
    {
     "name": "stdout",
     "output_type": "stream",
     "text": [
      "checkpoint directory created: ./model\n",
      "saving model version 0.0\n"
     ]
    }
   ],
   "source": [
    "from kan import *\n",
    "# Define the KAN model\n",
    "physics_weight = 1e-3\n",
    "model = KAN(width=[1,10,10,1], grid=5, k=3, seed=0)\n",
    "#model = KAN(width=[1,10,1], grid=5, k=3, grid_eps=1.0) #noise scale base error after pykan updates\n",
    "model.update_grid_from_samples(x_physics)\n",
    "optimizer = torch.optim.Adam(model.parameters(), lr=1e-2)"
   ]
  },
  {
   "cell_type": "code",
   "execution_count": 12,
   "id": "82b5b683",
   "metadata": {
    "_cell_guid": "4fcc04e5-b0d4-44e4-8659-881bb30d1a93",
    "_uuid": "909e0a4f-a12d-41c7-b608-5268ec4a7bee",
    "collapsed": false,
    "execution": {
     "iopub.execute_input": "2024-07-27T23:20:54.569379Z",
     "iopub.status.busy": "2024-07-27T23:20:54.568116Z",
     "iopub.status.idle": "2024-07-27T23:20:54.575951Z",
     "shell.execute_reply": "2024-07-27T23:20:54.574732Z"
    },
    "jupyter": {
     "outputs_hidden": false
    },
    "papermill": {
     "duration": 0.022748,
     "end_time": "2024-07-27T23:20:54.578436",
     "exception": false,
     "start_time": "2024-07-27T23:20:54.555688",
     "status": "completed"
    },
    "tags": []
   },
   "outputs": [],
   "source": [
    "# Convert to torch.Tensor\n",
    "Omega = torch.tensor(Omega_val, dtype=torch.float32)\n",
    "omega = torch.tensor(omega_val, dtype=torch.float32)\n",
    "lambda_ = torch.tensor(lambda_val, dtype=torch.float32)\n",
    "gamma = torch.tensor(gamma_val, dtype=torch.float32)  \n",
    "omegaSQ = torch.tensor(omegaSQ_val, dtype=torch.float32)\n",
    "f = torch.tensor(f_val, dtype=torch.float32)"
   ]
  },
  {
   "cell_type": "code",
   "execution_count": null,
   "id": "fd411f9d",
   "metadata": {
    "_cell_guid": "a907b814-2b88-466e-a6d4-f3dfa837b7e4",
    "_uuid": "06163793-920d-4a8d-a282-6d31bb707a1f",
    "collapsed": false,
    "jupyter": {
     "outputs_hidden": false
    },
    "papermill": {
     "duration": 0.010755,
     "end_time": "2024-07-27T23:20:54.600435",
     "exception": false,
     "start_time": "2024-07-27T23:20:54.589680",
     "status": "completed"
    },
    "tags": []
   },
   "outputs": [],
   "source": []
  },
  {
   "cell_type": "code",
   "execution_count": 13,
   "id": "feff1cde",
   "metadata": {
    "_cell_guid": "d11f0f9e-f8ab-4094-90dc-f2519b51804a",
    "_uuid": "a4abf6a4-137a-4382-a2a7-0192320bcdc6",
    "collapsed": false,
    "execution": {
     "iopub.execute_input": "2024-07-27T23:20:54.624708Z",
     "iopub.status.busy": "2024-07-27T23:20:54.623927Z",
     "iopub.status.idle": "2024-07-28T02:19:52.133296Z",
     "shell.execute_reply": "2024-07-28T02:19:52.132206Z"
    },
    "jupyter": {
     "outputs_hidden": false
    },
    "papermill": {
     "duration": 10737.545622,
     "end_time": "2024-07-28T02:19:52.157227",
     "exception": false,
     "start_time": "2024-07-27T23:20:54.611605",
     "status": "completed"
    },
    "tags": []
   },
   "outputs": [
    {
     "name": "stdout",
     "output_type": "stream",
     "text": [
      "Epoch [100/10000], Total Loss: 0.0016\n",
      "Epoch [200/10000], Total Loss: 0.0007\n",
      "Epoch [300/10000], Total Loss: 0.0004\n",
      "Epoch [400/10000], Total Loss: 0.0002\n",
      "Epoch [500/10000], Total Loss: 0.0001\n",
      "Epoch [600/10000], Total Loss: 0.0001\n",
      "Epoch [700/10000], Total Loss: 0.0001\n",
      "Epoch [800/10000], Total Loss: 0.0000\n",
      "Epoch [900/10000], Total Loss: 0.0000\n",
      "Epoch [1000/10000], Total Loss: 0.0000\n",
      "Epoch [1100/10000], Total Loss: 0.0000\n",
      "Epoch [1200/10000], Total Loss: 0.0000\n",
      "Epoch [1300/10000], Total Loss: 0.0000\n",
      "Epoch [1400/10000], Total Loss: 0.0000\n",
      "Epoch [1500/10000], Total Loss: 0.0000\n",
      "Epoch [1600/10000], Total Loss: 0.0000\n",
      "Epoch [1700/10000], Total Loss: 0.0000\n",
      "Epoch [1800/10000], Total Loss: 0.0000\n",
      "Epoch [1900/10000], Total Loss: 0.0000\n",
      "Epoch [2000/10000], Total Loss: 0.0000\n",
      "Epoch [2100/10000], Total Loss: 0.0000\n",
      "Epoch [2200/10000], Total Loss: 0.0000\n",
      "Epoch [2300/10000], Total Loss: 0.0000\n",
      "Epoch [2400/10000], Total Loss: 0.0000\n",
      "Epoch [2500/10000], Total Loss: 0.0000\n",
      "Epoch [2600/10000], Total Loss: 0.0000\n",
      "Epoch [2700/10000], Total Loss: 0.0000\n",
      "Epoch [2800/10000], Total Loss: 0.0000\n",
      "Epoch [2900/10000], Total Loss: 0.0000\n",
      "Epoch [3000/10000], Total Loss: 0.0000\n",
      "Epoch [3100/10000], Total Loss: 0.0000\n",
      "Epoch [3200/10000], Total Loss: 0.0000\n",
      "Epoch [3300/10000], Total Loss: 0.0000\n",
      "Epoch [3400/10000], Total Loss: 0.0000\n",
      "Epoch [3500/10000], Total Loss: 0.0000\n",
      "Epoch [3600/10000], Total Loss: 0.0000\n",
      "Epoch [3700/10000], Total Loss: 0.0000\n",
      "Epoch [3800/10000], Total Loss: 0.0000\n",
      "Epoch [3900/10000], Total Loss: 0.0000\n",
      "Epoch [4000/10000], Total Loss: 0.0000\n",
      "Epoch [4100/10000], Total Loss: 0.0000\n",
      "Epoch [4200/10000], Total Loss: 0.0000\n",
      "Epoch [4300/10000], Total Loss: 0.0000\n",
      "Epoch [4400/10000], Total Loss: 0.0000\n",
      "Epoch [4500/10000], Total Loss: 0.0000\n",
      "Epoch [4600/10000], Total Loss: 0.0000\n",
      "Epoch [4700/10000], Total Loss: 0.0001\n",
      "Epoch [4800/10000], Total Loss: 0.0000\n",
      "Epoch [4900/10000], Total Loss: 0.0000\n",
      "Epoch [5000/10000], Total Loss: 0.0000\n",
      "Epoch [5100/10000], Total Loss: 0.0000\n",
      "Epoch [5200/10000], Total Loss: 0.0002\n",
      "Epoch [5300/10000], Total Loss: 0.0000\n",
      "Epoch [5400/10000], Total Loss: 0.0000\n",
      "Epoch [5500/10000], Total Loss: 0.0000\n",
      "Epoch [5600/10000], Total Loss: 0.0000\n",
      "Epoch [5700/10000], Total Loss: 0.0000\n",
      "Epoch [5800/10000], Total Loss: 0.0000\n",
      "Epoch [5900/10000], Total Loss: 0.0000\n",
      "Epoch [6000/10000], Total Loss: 0.0000\n",
      "Epoch [6100/10000], Total Loss: 0.0000\n",
      "Epoch [6200/10000], Total Loss: 0.0000\n",
      "Epoch [6300/10000], Total Loss: 0.0000\n",
      "Epoch [6400/10000], Total Loss: 0.0000\n",
      "Epoch [6500/10000], Total Loss: 0.0003\n",
      "Epoch [6600/10000], Total Loss: 0.0000\n",
      "Epoch [6700/10000], Total Loss: 0.0000\n",
      "Epoch [6800/10000], Total Loss: 0.0000\n",
      "Epoch [6900/10000], Total Loss: 0.0000\n",
      "Epoch [7000/10000], Total Loss: 0.0000\n",
      "Epoch [7100/10000], Total Loss: 0.0000\n",
      "Epoch [7200/10000], Total Loss: 0.0000\n",
      "Epoch [7300/10000], Total Loss: 0.0000\n",
      "Epoch [7400/10000], Total Loss: 0.0000\n",
      "Epoch [7500/10000], Total Loss: 0.0000\n",
      "Epoch [7600/10000], Total Loss: 0.0000\n",
      "Epoch [7700/10000], Total Loss: 0.0000\n",
      "Epoch [7800/10000], Total Loss: 0.0000\n",
      "Epoch [7900/10000], Total Loss: 0.0000\n",
      "Epoch [8000/10000], Total Loss: 0.0000\n",
      "Epoch [8100/10000], Total Loss: 0.0000\n",
      "Epoch [8200/10000], Total Loss: 0.0000\n",
      "Epoch [8300/10000], Total Loss: 0.0022\n",
      "Epoch [8400/10000], Total Loss: 0.0000\n",
      "Epoch [8500/10000], Total Loss: 0.0000\n",
      "Epoch [8600/10000], Total Loss: 0.0003\n",
      "Epoch [8700/10000], Total Loss: 0.0000\n",
      "Epoch [8800/10000], Total Loss: 0.0000\n",
      "Epoch [8900/10000], Total Loss: 0.0000\n",
      "Epoch [9000/10000], Total Loss: 0.0035\n",
      "Epoch [9100/10000], Total Loss: 0.0001\n",
      "Epoch [9200/10000], Total Loss: 0.0000\n",
      "Epoch [9300/10000], Total Loss: 0.0000\n",
      "Epoch [9400/10000], Total Loss: 0.0000\n",
      "Epoch [9500/10000], Total Loss: 0.0000\n",
      "Epoch [9600/10000], Total Loss: 0.0000\n",
      "Epoch [9700/10000], Total Loss: 0.0000\n",
      "Epoch [9800/10000], Total Loss: 0.0000\n",
      "Epoch [9900/10000], Total Loss: 0.0000\n",
      "Epoch [10000/10000], Total Loss: 0.0000\n"
     ]
    }
   ],
   "source": [
    "# Training loop\n",
    "\n",
    "epochs = 10000\n",
    "losses = {'boundaryloss': [], 'physicsloss': [], 'totalloss': []}\n",
    "\n",
    "for i in range(epochs):\n",
    "    optimizer.zero_grad()\n",
    "    \n",
    "    # Compute the \"physics loss\"\n",
    "    yhp = model(x_physics)\n",
    "    dx  = torch.autograd.grad(yhp, x_physics, torch.ones_like(yhp), create_graph=True)[0] # computes dy/dx\n",
    "    dx2 = torch.autograd.grad(dx, x_physics, torch.ones_like(dx), create_graph=True)[0]  # computes d^2y/dx^2\n",
    "    physics = dx2 + lambda_ * dx + omega**2 * torch.sin(yhp) - gamma * torch.cos(Omega * x_physics)  # residual of the driven damped pendulum differential equation\n",
    "    physicsloss = physics_weight * torch.mean(physics**2)\n",
    "    \n",
    "    # Compute the \"boundary loss\"\n",
    "    y_boundary = model(x_boundary)\n",
    "    dx_boundary = torch.autograd.grad(y_boundary, x_boundary, torch.ones_like(y_boundary), create_graph=True)[0]\n",
    "    boundaryloss = torch.squeeze((y_boundary - 0.0)**2 + dx_boundary**2)\n",
    "    \n",
    "    # Combine losses\n",
    "    loss = boundaryloss + physicsloss\n",
    "    loss.backward()  # Backpropagation\n",
    "    optimizer.step()  # Update parameters\n",
    "    \n",
    "    # Store losses\n",
    "    losses['boundaryloss'].append(boundaryloss.detach().item())\n",
    "    losses['physicsloss'].append(physicsloss.detach().item())\n",
    "    losses['totalloss'].append(loss.detach().item())\n",
    "\n",
    "    if (i+1) % 100 == 0:\n",
    "        print(f'Epoch [{i+1}/{epochs}], Total Loss: {loss.item():.4f}')"
   ]
  },
  {
   "cell_type": "code",
   "execution_count": 14,
   "id": "8f0fac60",
   "metadata": {
    "_cell_guid": "77290ac0-7598-435c-985d-bfed2600925c",
    "_uuid": "a75003a6-3c04-4c7e-a9a1-8de627c8f696",
    "collapsed": false,
    "execution": {
     "iopub.execute_input": "2024-07-28T02:19:52.200196Z",
     "iopub.status.busy": "2024-07-28T02:19:52.199770Z",
     "iopub.status.idle": "2024-07-28T02:19:52.206167Z",
     "shell.execute_reply": "2024-07-28T02:19:52.205121Z"
    },
    "jupyter": {
     "outputs_hidden": false
    },
    "papermill": {
     "duration": 0.030842,
     "end_time": "2024-07-28T02:19:52.208755",
     "exception": false,
     "start_time": "2024-07-28T02:19:52.177913",
     "status": "completed"
    },
    "tags": []
   },
   "outputs": [
    {
     "name": "stdout",
     "output_type": "stream",
     "text": [
      "\n",
      "Final Losses:\n",
      "Boundary Loss: 0.0000\n",
      "Physics Loss: 0.0000\n",
      "Total Loss: 0.0000\n"
     ]
    }
   ],
   "source": [
    "# Print final losses\n",
    "print(\"\\nFinal Losses:\")\n",
    "print(f\"Boundary Loss: {losses['boundaryloss'][-1]:.4f}\")\n",
    "print(f\"Physics Loss: {losses['physicsloss'][-1]:.4f}\")\n",
    "print(f\"Total Loss: {losses['totalloss'][-1]:.4f}\")"
   ]
  },
  {
   "cell_type": "code",
   "execution_count": 15,
   "id": "af8b81bc",
   "metadata": {
    "_cell_guid": "80ce8f4a-e535-447d-8a39-014d8a38ebc0",
    "_uuid": "256afe15-f4db-45a6-8d48-c7f7284dc154",
    "collapsed": false,
    "execution": {
     "iopub.execute_input": "2024-07-28T02:19:52.251626Z",
     "iopub.status.busy": "2024-07-28T02:19:52.250690Z",
     "iopub.status.idle": "2024-07-28T02:19:52.345169Z",
     "shell.execute_reply": "2024-07-28T02:19:52.343791Z"
    },
    "jupyter": {
     "outputs_hidden": false
    },
    "papermill": {
     "duration": 0.118845,
     "end_time": "2024-07-28T02:19:52.347927",
     "exception": false,
     "start_time": "2024-07-28T02:19:52.229082",
     "status": "completed"
    },
    "tags": []
   },
   "outputs": [],
   "source": [
    "# Save KAN loss values to CSV\n",
    "loss_df = pd.DataFrame(losses)\n",
    "loss_df.to_csv('kan_loss_values.csv', index=False)"
   ]
  },
  {
   "cell_type": "code",
   "execution_count": 16,
   "id": "d5a21cba",
   "metadata": {
    "_cell_guid": "244b39fa-7bf7-4316-961b-67f6dd3be3fe",
    "_uuid": "60fc94c6-1977-4458-a8a8-ea3704e8c575",
    "collapsed": false,
    "execution": {
     "iopub.execute_input": "2024-07-28T02:19:52.390755Z",
     "iopub.status.busy": "2024-07-28T02:19:52.389783Z",
     "iopub.status.idle": "2024-07-28T02:19:52.539715Z",
     "shell.execute_reply": "2024-07-28T02:19:52.538507Z"
    },
    "jupyter": {
     "outputs_hidden": false
    },
    "papermill": {
     "duration": 0.174263,
     "end_time": "2024-07-28T02:19:52.542578",
     "exception": false,
     "start_time": "2024-07-28T02:19:52.368315",
     "status": "completed"
    },
    "tags": []
   },
   "outputs": [],
   "source": [
    "# Predict using the KAN model\n",
    "x_test = torch.tensor(t, dtype=torch.float32).view(-1, 1)\n",
    "y_kan = model(x_test).detach().numpy()"
   ]
  },
  {
   "cell_type": "code",
   "execution_count": 17,
   "id": "c49e6b42",
   "metadata": {
    "_cell_guid": "9f0ca22e-8c6f-4590-88c8-a7eb6ac71903",
    "_uuid": "3736628e-e490-4f78-8843-506cc22174fc",
    "collapsed": false,
    "execution": {
     "iopub.execute_input": "2024-07-28T02:19:52.586983Z",
     "iopub.status.busy": "2024-07-28T02:19:52.586030Z",
     "iopub.status.idle": "2024-07-28T02:19:52.654679Z",
     "shell.execute_reply": "2024-07-28T02:19:52.653547Z"
    },
    "jupyter": {
     "outputs_hidden": false
    },
    "papermill": {
     "duration": 0.092969,
     "end_time": "2024-07-28T02:19:52.657579",
     "exception": false,
     "start_time": "2024-07-28T02:19:52.564610",
     "status": "completed"
    },
    "tags": []
   },
   "outputs": [],
   "source": [
    "# Save KAN results to CSV\n",
    "kan_df = pd.DataFrame({'t': t, 'theta': y_kan.squeeze()})\n",
    "kan_df.to_csv('kan_results.csv', index=False)"
   ]
  },
  {
   "cell_type": "code",
   "execution_count": 18,
   "id": "05ca82d4",
   "metadata": {
    "_cell_guid": "f140f4db-912d-4085-bba8-c5ab433f9fc1",
    "_uuid": "ef4c76d6-a61f-400a-9312-b5c54ea340ba",
    "collapsed": false,
    "execution": {
     "iopub.execute_input": "2024-07-28T02:19:52.701319Z",
     "iopub.status.busy": "2024-07-28T02:19:52.700781Z",
     "iopub.status.idle": "2024-07-28T02:19:53.333409Z",
     "shell.execute_reply": "2024-07-28T02:19:53.332302Z"
    },
    "jupyter": {
     "outputs_hidden": false
    },
    "papermill": {
     "duration": 0.657206,
     "end_time": "2024-07-28T02:19:53.335885",
     "exception": false,
     "start_time": "2024-07-28T02:19:52.678679",
     "status": "completed"
    },
    "tags": []
   },
   "outputs": [
    {
     "data": {
      "image/png": "[encoded data removed]",
      "text/plain": [
       "<Figure size 1200x800 with 1 Axes>"
      ]
     },
     "metadata": {},
     "output_type": "display_data"
    }
   ],
   "source": [
    "# Plot both the numerical and KAN solutions \n",
    "plt.figure(figsize=(12, 8))  \n",
    "plt.plot(sol.t, sol.y[0], label='Numerical Solution')\n",
    "plt.plot(t, y_kan, label='KAN Solution')\n",
    "plt.xlabel('t')\n",
    "plt.ylabel('phi(t)')\n",
    "plt.legend()\n",
    "plt.title('Numerical vs KAN Solution')\n",
    "\n",
    "\n",
    "plt.savefig('/kaggle/working/KAN_vs_Numerical.png')\n",
    "plt.show()"
   ]
  },
  {
   "cell_type": "code",
   "execution_count": 19,
   "id": "be0177ae",
   "metadata": {
    "execution": {
     "iopub.execute_input": "2024-07-28T02:19:53.457944Z",
     "iopub.status.busy": "2024-07-28T02:19:53.457563Z",
     "iopub.status.idle": "2024-07-28T02:19:54.026702Z",
     "shell.execute_reply": "2024-07-28T02:19:54.025454Z"
    },
    "papermill": {
     "duration": 0.594414,
     "end_time": "2024-07-28T02:19:54.029037",
     "exception": false,
     "start_time": "2024-07-28T02:19:53.434623",
     "status": "completed"
    },
    "tags": []
   },
   "outputs": [
    {
     "data": {
      "image/png": "[encoded data removed]",
      "text/plain": [
       "<Figure size 1200x800 with 1 Axes>"
      ]
     },
     "metadata": {},
     "output_type": "display_data"
    }
   ],
   "source": [
    "# Plot both the numerical and KAN solutions \n",
    "plt.figure(figsize=(12, 8))  \n",
    "plt.plot(t, y_kan, label='KAN Solution')\n",
    "plt.xlabel('t')\n",
    "plt.ylabel('phi(t)')\n",
    "plt.legend()\n",
    "plt.title('KAN Solution Only')\n",
    "\n",
    "\n",
    "plt.savefig('/kaggle/working/KAN_only.png')\n",
    "plt.show()"
   ]
  },
  {
   "cell_type": "code",
   "execution_count": 20,
   "id": "9c51b5aa",
   "metadata": {
    "_cell_guid": "84b4a872-6025-41c4-b7cc-ca91d94ac6c4",
    "_uuid": "ee80465d-9417-4a35-9d08-78c3f29c2fdf",
    "collapsed": false,
    "execution": {
     "iopub.execute_input": "2024-07-28T02:19:54.075215Z",
     "iopub.status.busy": "2024-07-28T02:19:54.074374Z",
     "iopub.status.idle": "2024-07-28T02:19:54.079264Z",
     "shell.execute_reply": "2024-07-28T02:19:54.078152Z"
    },
    "jupyter": {
     "outputs_hidden": false
    },
    "papermill": {
     "duration": 0.030563,
     "end_time": "2024-07-28T02:19:54.081520",
     "exception": false,
     "start_time": "2024-07-28T02:19:54.050957",
     "status": "completed"
    },
    "tags": []
   },
   "outputs": [],
   "source": [
    "# Plot the KAN grid\n",
    "\n",
    "#model.plot()"
   ]
  },
  {
   "cell_type": "code",
   "execution_count": 21,
   "id": "85ea22a3",
   "metadata": {
    "_cell_guid": "038d8267-2a9e-4121-b221-251ba7dac18d",
    "_uuid": "ec3d7c10-1cf6-44ef-b6d2-513793c0c4a7",
    "collapsed": false,
    "execution": {
     "iopub.execute_input": "2024-07-28T02:19:54.128430Z",
     "iopub.status.busy": "2024-07-28T02:19:54.127413Z",
     "iopub.status.idle": "2024-07-28T02:19:54.132321Z",
     "shell.execute_reply": "2024-07-28T02:19:54.131250Z"
    },
    "jupyter": {
     "outputs_hidden": false
    },
    "papermill": {
     "duration": 0.030569,
     "end_time": "2024-07-28T02:19:54.134493",
     "exception": false,
     "start_time": "2024-07-28T02:19:54.103924",
     "status": "completed"
    },
    "tags": []
   },
   "outputs": [],
   "source": [
    "# Try time up to 20\n",
    "#"
   ]
  }
 ],
 "metadata": {
  "kaggle": {
   "accelerator": "none",
   "dataSources": [],
   "isGpuEnabled": false,
   "isInternetEnabled": true,
   "language": "python",
   "sourceType": "notebook"
  },
  "kernelspec": {
   "display_name": "Python 3",
   "language": "python",
   "name": "python3"
  },
  "language_info": {
   "codemirror_mode": {
    "name": "ipython",
    "version": 3
   },
   "file_extension": ".py",
   "mimetype": "text/x-python",
   "name": "python",
   "nbconvert_exporter": "python",
   "pygments_lexer": "ipython3",
   "version": "3.10.13"
  },
  "papermill": {
   "default_parameters": {},
   "duration": 10770.988498,
   "end_time": "2024-07-28T02:19:55.708346",
   "environment_variables": {},
   "exception": null,
   "input_path": "__notebook__.ipynb",
   "output_path": "__notebook__.ipynb",
   "parameters": {},
   "start_time": "2024-07-27T23:20:24.719848",
   "version": "2.5.0"
  }
 },
 "nbformat": 4,
 "nbformat_minor": 5
}
