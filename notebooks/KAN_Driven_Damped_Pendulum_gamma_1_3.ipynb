{
 "cells": [
  {
   "cell_type": "code",
   "execution_count": null,
   "id": "9a58eb3f",
   "metadata": {
    "_cell_guid": "425450ef-8130-40f5-b041-daec62601de4",
    "_uuid": "b175275b-8c09-4a20-8717-1c82c44f182a",
    "collapsed": false,
    "jupyter": {
     "outputs_hidden": false
    },
    "papermill": {
     "duration": 0.009432,
     "end_time": "2024-07-30T07:00:05.153767",
     "exception": false,
     "start_time": "2024-07-30T07:00:05.144335",
     "status": "completed"
    },
    "tags": []
   },
   "outputs": [],
   "source": []
  },
  {
   "cell_type": "markdown",
   "id": "d5dd008b",
   "metadata": {
    "_cell_guid": "1e007119-baf2-4bfb-b616-d461b76b505b",
    "_uuid": "50e13cae-2cb6-43f2-905b-61c766b1f299",
    "papermill": {
     "duration": 0.00858,
     "end_time": "2024-07-30T07:00:05.171299",
     "exception": false,
     "start_time": "2024-07-30T07:00:05.162719",
     "status": "completed"
    },
    "tags": []
   },
   "source": [
    "## Solution of a Driven Damped Pendulum using a Kolmogorov-Arnold Network (KAN)\n",
    "\n",
    "***Author: Brandon Ismalej (brandon.ismalej.671@my.csun.edu) - (https://github.com/Brandon-Ism)***"
   ]
  },
  {
   "cell_type": "code",
   "execution_count": 1,
   "id": "701692e7",
   "metadata": {
    "_cell_guid": "fffbb33f-a1e9-4f6b-8d70-e6695fc5503b",
    "_uuid": "41a386e0-c76b-45fa-8a22-c11e88355eb0",
    "collapsed": false,
    "execution": {
     "iopub.execute_input": "2024-07-30T07:00:05.192342Z",
     "iopub.status.busy": "2024-07-30T07:00:05.190972Z",
     "iopub.status.idle": "2024-07-30T07:00:22.611214Z",
     "shell.execute_reply": "2024-07-30T07:00:22.609946Z"
    },
    "jupyter": {
     "outputs_hidden": false
    },
    "papermill": {
     "duration": 17.433635,
     "end_time": "2024-07-30T07:00:22.614247",
     "exception": false,
     "start_time": "2024-07-30T07:00:05.180612",
     "status": "completed"
    },
    "tags": []
   },
   "outputs": [
    {
     "name": "stdout",
     "output_type": "stream",
     "text": [
      "Collecting pykan\r\n",
      "  Downloading pykan-0.2.3-py3-none-any.whl.metadata (14 kB)\r\n",
      "Requirement already satisfied: torch in /opt/conda/lib/python3.10/site-packages (2.1.2+cpu)\r\n",
      "Requirement already satisfied: numpy in /opt/conda/lib/python3.10/site-packages (1.26.4)\r\n",
      "Requirement already satisfied: matplotlib in /opt/conda/lib/python3.10/site-packages (3.7.5)\r\n",
      "Requirement already satisfied: scikit-learn in /opt/conda/lib/python3.10/site-packages (1.2.2)\r\n",
      "Requirement already satisfied: tqdm in /opt/conda/lib/python3.10/site-packages (4.66.4)\r\n",
      "Requirement already satisfied: sympy in /opt/conda/lib/python3.10/site-packages (1.13.0)\r\n",
      "Requirement already satisfied: setuptools in /opt/conda/lib/python3.10/site-packages (69.0.3)\r\n",
      "Requirement already satisfied: filelock in /opt/conda/lib/python3.10/site-packages (from torch) (3.13.1)\r\n",
      "Requirement already satisfied: typing-extensions in /opt/conda/lib/python3.10/site-packages (from torch) (4.9.0)\r\n",
      "Requirement already satisfied: networkx in /opt/conda/lib/python3.10/site-packages (from torch) (3.2.1)\r\n",
      "Requirement already satisfied: jinja2 in /opt/conda/lib/python3.10/site-packages (from torch) (3.1.2)\r\n",
      "Requirement already satisfied: fsspec in /opt/conda/lib/python3.10/site-packages (from torch) (2024.5.0)\r\n",
      "Requirement already satisfied: contourpy>=1.0.1 in /opt/conda/lib/python3.10/site-packages (from matplotlib) (1.2.0)\r\n",
      "Requirement already satisfied: cycler>=0.10 in /opt/conda/lib/python3.10/site-packages (from matplotlib) (0.12.1)\r\n",
      "Requirement already satisfied: fonttools>=4.22.0 in /opt/conda/lib/python3.10/site-packages (from matplotlib) (4.47.0)\r\n",
      "Requirement already satisfied: kiwisolver>=1.0.1 in /opt/conda/lib/python3.10/site-packages (from matplotlib) (1.4.5)\r\n",
      "Requirement already satisfied: packaging>=20.0 in /opt/conda/lib/python3.10/site-packages (from matplotlib) (21.3)\r\n",
      "Requirement already satisfied: pillow>=6.2.0 in /opt/conda/lib/python3.10/site-packages (from matplotlib) (9.5.0)\r\n",
      "Requirement already satisfied: pyparsing>=2.3.1 in /opt/conda/lib/python3.10/site-packages (from matplotlib) (3.1.1)\r\n",
      "Requirement already satisfied: python-dateutil>=2.7 in /opt/conda/lib/python3.10/site-packages (from matplotlib) (2.9.0.post0)\r\n",
      "Requirement already satisfied: scipy>=1.3.2 in /opt/conda/lib/python3.10/site-packages (from scikit-learn) (1.11.4)\r\n",
      "Requirement already satisfied: joblib>=1.1.1 in /opt/conda/lib/python3.10/site-packages (from scikit-learn) (1.4.2)\r\n",
      "Requirement already satisfied: threadpoolctl>=2.0.0 in /opt/conda/lib/python3.10/site-packages (from scikit-learn) (3.2.0)\r\n",
      "Requirement already satisfied: mpmath<1.4,>=1.1.0 in /opt/conda/lib/python3.10/site-packages (from sympy) (1.3.0)\r\n",
      "Requirement already satisfied: six>=1.5 in /opt/conda/lib/python3.10/site-packages (from python-dateutil>=2.7->matplotlib) (1.16.0)\r\n",
      "Requirement already satisfied: MarkupSafe>=2.0 in /opt/conda/lib/python3.10/site-packages (from jinja2->torch) (2.1.3)\r\n",
      "Downloading pykan-0.2.3-py3-none-any.whl (95 kB)\r\n",
      "\u001b[2K   \u001b[90m━━━━━━━━━━━━━━━━━━━━━━━━━━━━━━━━━━━━━━━━\u001b[0m \u001b[32m95.2/95.2 kB\u001b[0m \u001b[31m2.2 MB/s\u001b[0m eta \u001b[36m0:00:00\u001b[0m\r\n",
      "\u001b[?25hInstalling collected packages: pykan\r\n",
      "Successfully installed pykan-0.2.3\r\n"
     ]
    }
   ],
   "source": [
    "!pip install pykan torch numpy matplotlib scikit-learn tqdm sympy setuptools"
   ]
  },
  {
   "cell_type": "code",
   "execution_count": 2,
   "id": "10d83cf7",
   "metadata": {
    "_cell_guid": "e5cefb62-18cd-4a39-ab99-49838bc76684",
    "_uuid": "61e97d09-01aa-444e-9b27-f6baedcc8b61",
    "collapsed": false,
    "execution": {
     "iopub.execute_input": "2024-07-30T07:00:22.636672Z",
     "iopub.status.busy": "2024-07-30T07:00:22.636233Z",
     "iopub.status.idle": "2024-07-30T07:00:29.553468Z",
     "shell.execute_reply": "2024-07-30T07:00:29.551976Z"
    },
    "jupyter": {
     "outputs_hidden": false
    },
    "papermill": {
     "duration": 6.932247,
     "end_time": "2024-07-30T07:00:29.556739",
     "exception": false,
     "start_time": "2024-07-30T07:00:22.624492",
     "status": "completed"
    },
    "tags": []
   },
   "outputs": [],
   "source": [
    "import numpy as np\n",
    "import pandas as pd\n",
    "import matplotlib.pyplot as plt\n",
    "from scipy.integrate import solve_ivp\n",
    "import torch\n",
    "import torch.nn as nn\n",
    "from torch import autograd\n",
    "from kan import KAN\n",
    "import math\n",
    "import os"
   ]
  },
  {
   "cell_type": "code",
   "execution_count": 3,
   "id": "49916704",
   "metadata": {
    "_cell_guid": "54a0acd5-f6f8-4b86-9fc0-2a18e1defb74",
    "_uuid": "0deef3b7-1bb4-4710-a7d7-51e7c73a8301",
    "collapsed": false,
    "execution": {
     "iopub.execute_input": "2024-07-30T07:00:29.579211Z",
     "iopub.status.busy": "2024-07-30T07:00:29.578601Z",
     "iopub.status.idle": "2024-07-30T07:00:29.588164Z",
     "shell.execute_reply": "2024-07-30T07:00:29.586666Z"
    },
    "jupyter": {
     "outputs_hidden": false
    },
    "papermill": {
     "duration": 0.025284,
     "end_time": "2024-07-30T07:00:29.592544",
     "exception": false,
     "start_time": "2024-07-30T07:00:29.567260",
     "status": "completed"
    },
    "tags": []
   },
   "outputs": [],
   "source": [
    "from sympy import symbols, Function\n",
    "gamma_sym = symbols('gamma')\n",
    "gamma_func = Function('gamma')\n",
    "\n",
    "# Clear previous definitions\n",
    "del gamma_sym\n",
    "del gamma_func"
   ]
  },
  {
   "cell_type": "code",
   "execution_count": 4,
   "id": "c30984c9",
   "metadata": {
    "_cell_guid": "5f0eb7f7-5c34-40e3-85fc-4cc1e01616ab",
    "_uuid": "51cbd932-8670-476f-a971-8958156f8258",
    "collapsed": false,
    "execution": {
     "iopub.execute_input": "2024-07-30T07:00:29.618785Z",
     "iopub.status.busy": "2024-07-30T07:00:29.618341Z",
     "iopub.status.idle": "2024-07-30T07:00:29.624806Z",
     "shell.execute_reply": "2024-07-30T07:00:29.623513Z"
    },
    "jupyter": {
     "outputs_hidden": false
    },
    "papermill": {
     "duration": 0.0222,
     "end_time": "2024-07-30T07:00:29.627359",
     "exception": false,
     "start_time": "2024-07-30T07:00:29.605159",
     "status": "completed"
    },
    "tags": []
   },
   "outputs": [],
   "source": [
    "# Initialize Constants\n",
    "Omega_val = 2 * np.pi  \n",
    "omega_val = Omega_val * 1.5 \n",
    "lambda_val = omega_val / 2 \n",
    "gamma_val = 1.3\n",
    "omegaSQ_val = omega_val ** 2\n",
    "f_val = gamma_val * omegaSQ_val"
   ]
  },
  {
   "cell_type": "code",
   "execution_count": 5,
   "id": "fa0abe4e",
   "metadata": {
    "_cell_guid": "81ffaffc-d7ca-4f80-b2be-3cb5442e9656",
    "_uuid": "3d937afc-4f64-4a6f-ba4b-fc332ac2a8e5",
    "collapsed": false,
    "execution": {
     "iopub.execute_input": "2024-07-30T07:00:29.650355Z",
     "iopub.status.busy": "2024-07-30T07:00:29.649002Z",
     "iopub.status.idle": "2024-07-30T07:00:29.656684Z",
     "shell.execute_reply": "2024-07-30T07:00:29.655385Z"
    },
    "jupyter": {
     "outputs_hidden": false
    },
    "papermill": {
     "duration": 0.02193,
     "end_time": "2024-07-30T07:00:29.659537",
     "exception": false,
     "start_time": "2024-07-30T07:00:29.637607",
     "status": "completed"
    },
    "tags": []
   },
   "outputs": [],
   "source": [
    "# This is the function for scipy odeint that helps it to solve the diff equation\n",
    "# Differential equation\n",
    "def helper(t, theta):\n",
    "    theta, z = theta\n",
    "    dthetadt = [z, f_val * math.cos(Omega_val * t) - omegaSQ_val * math.sin(theta) - lambda_val * z]\n",
    "    return dthetadt"
   ]
  },
  {
   "cell_type": "code",
   "execution_count": 6,
   "id": "cefd464c",
   "metadata": {
    "_cell_guid": "e7104e2b-b6f7-4df8-972e-6ee7faee2fb9",
    "_uuid": "36376087-fef8-40b1-bc0b-986a47e28beb",
    "collapsed": false,
    "execution": {
     "iopub.execute_input": "2024-07-30T07:00:29.681618Z",
     "iopub.status.busy": "2024-07-30T07:00:29.681177Z",
     "iopub.status.idle": "2024-07-30T07:00:29.862494Z",
     "shell.execute_reply": "2024-07-30T07:00:29.860380Z"
    },
    "jupyter": {
     "outputs_hidden": false
    },
    "papermill": {
     "duration": 0.196978,
     "end_time": "2024-07-30T07:00:29.866739",
     "exception": false,
     "start_time": "2024-07-30T07:00:29.669761",
     "status": "completed"
    },
    "tags": []
   },
   "outputs": [],
   "source": [
    "# Define the driven damped pendulum differential equation\n",
    "#def driven_damped_pendulum(t, y, omega, lambda_, gamma, Omega):\n",
    "#    theta, omega_dot = y\n",
    "#   dydt = [omega_dot, -lambda_ * omega_dot - omega**2 * np.sin(theta) + gamma * np.cos(Omega * t)]\n",
    " #   return dydt\n",
    "    \n",
    "# Initial conditions\n",
    "initial_conditions = [0, 0]\n",
    "start_val = 0\n",
    "end_val = 15\n",
    "\n",
    "# Time points\n",
    "t = np.linspace(start_val, end_val, 3000)\n",
    "\n",
    "# Solve the differential equation using solve_ivp\n",
    "sol = solve_ivp(helper, [start_val, end_val], initial_conditions, t_eval=t, method='LSODA', rtol=1e-6, atol=1e-8)\n",
    "\n",
    "# Solve the differential equation using solve_ivp\n",
    "# sol = solve_ivp(driven_damped_pendulum, [t[0], t[-1]], y0, args=(omega_val, lambda_val, gamma_val, Omega_val), t_eval=t, method='LSODA', rtol=1e-6, atol=1e-8)"
   ]
  },
  {
   "cell_type": "code",
   "execution_count": 7,
   "id": "aefae516",
   "metadata": {
    "_cell_guid": "d361dc3d-23b3-4eb3-829b-fadf7cc0ca1e",
    "_uuid": "d5aead49-f910-49aa-8e24-4e456a28d8fb",
    "collapsed": false,
    "execution": {
     "iopub.execute_input": "2024-07-30T07:00:29.889292Z",
     "iopub.status.busy": "2024-07-30T07:00:29.888896Z",
     "iopub.status.idle": "2024-07-30T07:00:30.546053Z",
     "shell.execute_reply": "2024-07-30T07:00:30.544603Z"
    },
    "jupyter": {
     "outputs_hidden": false
    },
    "papermill": {
     "duration": 0.671693,
     "end_time": "2024-07-30T07:00:30.549043",
     "exception": false,
     "start_time": "2024-07-30T07:00:29.877350",
     "status": "completed"
    },
    "tags": []
   },
   "outputs": [
    {
     "data": {
      "image/png": "[encoded data removed]",
      "text/plain": [
       "<Figure size 1200x800 with 1 Axes>"
      ]
     },
     "metadata": {},
     "output_type": "display_data"
    }
   ],
   "source": [
    "plt.figure(figsize=(12, 8))\n",
    "plt.plot(sol.t, sol.y[0], label='Numerical Solution')\n",
    "plt.xlabel('t')\n",
    "plt.ylabel('phi(t) ')\n",
    "plt.grid(True)\n",
    "plt.savefig('numerical_only.png')\n",
    "plt.show()"
   ]
  },
  {
   "cell_type": "code",
   "execution_count": 8,
   "id": "f028002c",
   "metadata": {
    "_cell_guid": "11211c60-6595-437b-abf0-1fda7af775d8",
    "_uuid": "c2672a6c-778a-459e-b19a-9f5a539cceef",
    "collapsed": false,
    "execution": {
     "iopub.execute_input": "2024-07-30T07:00:30.572862Z",
     "iopub.status.busy": "2024-07-30T07:00:30.572415Z",
     "iopub.status.idle": "2024-07-30T07:00:30.609830Z",
     "shell.execute_reply": "2024-07-30T07:00:30.608423Z"
    },
    "jupyter": {
     "outputs_hidden": false
    },
    "papermill": {
     "duration": 0.052924,
     "end_time": "2024-07-30T07:00:30.613057",
     "exception": false,
     "start_time": "2024-07-30T07:00:30.560133",
     "status": "completed"
    },
    "tags": []
   },
   "outputs": [],
   "source": [
    "# Save ODE solver results to CSV\n",
    "ode_df = pd.DataFrame({'t': sol.t, 'theta': sol.y[0], 'omega_dot': sol.y[1]})\n",
    "ode_df.to_csv('ode_solver_results.csv', index=False)"
   ]
  },
  {
   "cell_type": "code",
   "execution_count": 9,
   "id": "405f263d",
   "metadata": {
    "_cell_guid": "d2d75e99-859f-4eb1-b214-89b2e5bc7d59",
    "_uuid": "a8e6ce47-a87a-4d11-a389-6a1ec7750a8c",
    "collapsed": false,
    "execution": {
     "iopub.execute_input": "2024-07-30T07:00:30.637320Z",
     "iopub.status.busy": "2024-07-30T07:00:30.636858Z",
     "iopub.status.idle": "2024-07-30T07:00:30.689449Z",
     "shell.execute_reply": "2024-07-30T07:00:30.688235Z"
    },
    "jupyter": {
     "outputs_hidden": false
    },
    "papermill": {
     "duration": 0.067678,
     "end_time": "2024-07-30T07:00:30.692436",
     "exception": false,
     "start_time": "2024-07-30T07:00:30.624758",
     "status": "completed"
    },
    "tags": []
   },
   "outputs": [],
   "source": [
    "# Define a separate time interval for the neural network training\n",
    "nn_start_val = 0\n",
    "nn_end_val = 15\n",
    "nn_t = np.linspace(nn_start_val, nn_end_val, 10000)\n",
    "\n",
    "# Prepare training data based on the new time interval\n",
    "x_physics = torch.tensor(nn_t, dtype=torch.float32).view(-1, 1)\n",
    "y_physics = torch.tensor(np.interp(nn_t, t, sol.y[0]), dtype=torch.float32).view(-1, 1)"
   ]
  },
  {
   "cell_type": "code",
   "execution_count": 10,
   "id": "3e7a6d3b",
   "metadata": {
    "_cell_guid": "e480b554-3b65-412e-87a9-6c5a2dffbb8d",
    "_uuid": "81869f09-efa9-411c-b05c-2ada5495f772",
    "collapsed": false,
    "execution": {
     "iopub.execute_input": "2024-07-30T07:00:30.716435Z",
     "iopub.status.busy": "2024-07-30T07:00:30.715968Z",
     "iopub.status.idle": "2024-07-30T07:00:30.727046Z",
     "shell.execute_reply": "2024-07-30T07:00:30.721416Z"
    },
    "jupyter": {
     "outputs_hidden": false
    },
    "papermill": {
     "duration": 0.027021,
     "end_time": "2024-07-30T07:00:30.730230",
     "exception": false,
     "start_time": "2024-07-30T07:00:30.703209",
     "status": "completed"
    },
    "tags": []
   },
   "outputs": [
    {
     "name": "stdout",
     "output_type": "stream",
     "text": [
      "{<class 'torch.Tensor'>}\n"
     ]
    }
   ],
   "source": [
    "print({type(x_physics)})"
   ]
  },
  {
   "cell_type": "code",
   "execution_count": 11,
   "id": "1ec07c1d",
   "metadata": {
    "_cell_guid": "734b26c7-dc57-4b4b-bfc6-4d39a1d74cb3",
    "_uuid": "f5323f7b-830e-4a00-9b8b-dd30887ce868",
    "collapsed": false,
    "execution": {
     "iopub.execute_input": "2024-07-30T07:00:30.755582Z",
     "iopub.status.busy": "2024-07-30T07:00:30.754671Z",
     "iopub.status.idle": "2024-07-30T07:00:32.604298Z",
     "shell.execute_reply": "2024-07-30T07:00:32.602800Z"
    },
    "jupyter": {
     "outputs_hidden": false
    },
    "papermill": {
     "duration": 1.865729,
     "end_time": "2024-07-30T07:00:32.607231",
     "exception": false,
     "start_time": "2024-07-30T07:00:30.741502",
     "status": "completed"
    },
    "tags": []
   },
   "outputs": [
    {
     "name": "stdout",
     "output_type": "stream",
     "text": [
      "checkpoint directory created: ./model\n",
      "saving model version 0.0\n"
     ]
    }
   ],
   "source": [
    "from kan import *\n",
    "# Define the KAN model\n",
    "physics_weight = 1e-3\n",
    "model = KAN(width=[1,9,9,1], grid=5, k=3, seed=0)\n",
    "#model = KAN(width=[1,10,1], grid=5, k=3, grid_eps=1.0) #noise scale base error after pykan updates\n",
    "#model.update_grid_from_samples(x_physics)\n",
    "optimizer = torch.optim.Adam(model.parameters(), lr=1e-2)\n",
    "criterion = nn.MSELoss()\n"
   ]
  },
  {
   "cell_type": "code",
   "execution_count": 12,
   "id": "7f16cc35",
   "metadata": {
    "_cell_guid": "1317bc87-8804-4a9e-8d5c-bd365330d8ad",
    "_uuid": "f97d2f4e-3a45-4c5c-b449-4bf8da3d80b0",
    "collapsed": false,
    "execution": {
     "iopub.execute_input": "2024-07-30T07:00:32.631546Z",
     "iopub.status.busy": "2024-07-30T07:00:32.630897Z",
     "iopub.status.idle": "2024-07-30T07:00:32.638921Z",
     "shell.execute_reply": "2024-07-30T07:00:32.637569Z"
    },
    "jupyter": {
     "outputs_hidden": false
    },
    "papermill": {
     "duration": 0.023088,
     "end_time": "2024-07-30T07:00:32.641643",
     "exception": false,
     "start_time": "2024-07-30T07:00:32.618555",
     "status": "completed"
    },
    "tags": []
   },
   "outputs": [],
   "source": [
    "# Convert to torch.Tensor\n",
    "Omega = torch.tensor(Omega_val, dtype=torch.float32)\n",
    "omega = torch.tensor(omega_val, dtype=torch.float32)\n",
    "lambda_ = torch.tensor(lambda_val, dtype=torch.float32)\n",
    "gamma = torch.tensor(gamma_val, dtype=torch.float32)  \n",
    "omegaSQ = torch.tensor(omegaSQ_val, dtype=torch.float32)\n",
    "f = torch.tensor(f_val, dtype=torch.float32)"
   ]
  },
  {
   "cell_type": "code",
   "execution_count": 13,
   "id": "f84525f8",
   "metadata": {
    "_cell_guid": "4eb764eb-df5d-4338-8ad6-45da25beda45",
    "_uuid": "d56f4697-b78a-4851-a58c-e97852dc12dc",
    "collapsed": false,
    "execution": {
     "iopub.execute_input": "2024-07-30T07:00:32.666051Z",
     "iopub.status.busy": "2024-07-30T07:00:32.665656Z",
     "iopub.status.idle": "2024-07-30T07:54:03.038064Z",
     "shell.execute_reply": "2024-07-30T07:54:03.034618Z"
    },
    "jupyter": {
     "outputs_hidden": false
    },
    "papermill": {
     "duration": 3210.410162,
     "end_time": "2024-07-30T07:54:03.063015",
     "exception": false,
     "start_time": "2024-07-30T07:00:32.652853",
     "status": "completed"
    },
    "tags": []
   },
   "outputs": [
    {
     "name": "stdout",
     "output_type": "stream",
     "text": [
      "Epoch [100/14000], Total Loss: 0.8611\n",
      "Epoch [200/14000], Total Loss: 0.4323\n",
      "Epoch [300/14000], Total Loss: 0.4002\n",
      "Epoch [400/14000], Total Loss: 0.3841\n",
      "Epoch [500/14000], Total Loss: 0.3198\n",
      "Epoch [600/14000], Total Loss: 0.2958\n",
      "Epoch [700/14000], Total Loss: 0.2857\n",
      "Epoch [800/14000], Total Loss: 0.2786\n",
      "Epoch [900/14000], Total Loss: 0.2741\n",
      "Epoch [1000/14000], Total Loss: 0.2706\n",
      "Epoch [1100/14000], Total Loss: 0.2687\n",
      "Epoch [1200/14000], Total Loss: 0.2678\n",
      "Epoch [1300/14000], Total Loss: 0.2651\n",
      "Epoch [1400/14000], Total Loss: 0.2652\n",
      "Epoch [1500/14000], Total Loss: 0.2636\n",
      "Epoch [1600/14000], Total Loss: 0.2638\n",
      "Epoch [1700/14000], Total Loss: 0.2636\n",
      "Epoch [1800/14000], Total Loss: 0.2632\n",
      "Epoch [1900/14000], Total Loss: 0.2635\n",
      "Epoch [2000/14000], Total Loss: 0.2627\n",
      "Epoch [2100/14000], Total Loss: 0.2683\n",
      "Epoch [2200/14000], Total Loss: 0.2642\n",
      "Epoch [2300/14000], Total Loss: 0.2613\n",
      "Epoch [2400/14000], Total Loss: 0.2606\n",
      "Epoch [2500/14000], Total Loss: 0.2636\n",
      "Epoch [2600/14000], Total Loss: 0.2611\n",
      "Epoch [2700/14000], Total Loss: 0.2690\n",
      "Epoch [2800/14000], Total Loss: 0.2637\n",
      "Epoch [2900/14000], Total Loss: 0.2615\n",
      "Epoch [3000/14000], Total Loss: 0.2612\n",
      "Epoch [3100/14000], Total Loss: 0.2650\n",
      "Epoch [3200/14000], Total Loss: 0.2600\n",
      "Epoch [3300/14000], Total Loss: 0.2621\n",
      "Epoch [3400/14000], Total Loss: 0.2599\n",
      "Epoch [3500/14000], Total Loss: 0.2615\n",
      "Epoch [3600/14000], Total Loss: 0.2597\n",
      "Epoch [3700/14000], Total Loss: 0.2605\n",
      "Epoch [3800/14000], Total Loss: 0.2596\n",
      "Epoch [3900/14000], Total Loss: 0.2598\n",
      "Epoch [4000/14000], Total Loss: 0.2592\n",
      "Epoch [4100/14000], Total Loss: 0.2591\n",
      "Epoch [4200/14000], Total Loss: 0.2588\n",
      "Epoch [4300/14000], Total Loss: 0.2583\n",
      "Epoch [4400/14000], Total Loss: 0.2582\n",
      "Epoch [4500/14000], Total Loss: 0.2576\n",
      "Epoch [4600/14000], Total Loss: 0.2572\n",
      "Epoch [4700/14000], Total Loss: 0.2571\n",
      "Epoch [4800/14000], Total Loss: 0.2560\n",
      "Epoch [4900/14000], Total Loss: 0.2561\n",
      "Epoch [5000/14000], Total Loss: 0.2545\n",
      "Epoch [5100/14000], Total Loss: 0.2555\n",
      "Epoch [5200/14000], Total Loss: 0.2744\n",
      "Epoch [5300/14000], Total Loss: 0.2568\n",
      "Epoch [5400/14000], Total Loss: 0.2504\n",
      "Epoch [5500/14000], Total Loss: 0.2542\n",
      "Epoch [5600/14000], Total Loss: 0.2698\n",
      "Epoch [5700/14000], Total Loss: 0.2498\n",
      "Epoch [5800/14000], Total Loss: 0.2500\n",
      "Epoch [5900/14000], Total Loss: 0.2502\n",
      "Epoch [6000/14000], Total Loss: 0.2503\n",
      "Epoch [6100/14000], Total Loss: 0.2488\n",
      "Epoch [6200/14000], Total Loss: 0.2572\n",
      "Epoch [6300/14000], Total Loss: 0.2483\n",
      "Epoch [6400/14000], Total Loss: 0.2540\n",
      "Epoch [6500/14000], Total Loss: 0.2484\n",
      "Epoch [6600/14000], Total Loss: 0.2542\n",
      "Epoch [6700/14000], Total Loss: 0.2484\n",
      "Epoch [6800/14000], Total Loss: 0.2641\n",
      "Epoch [6900/14000], Total Loss: 0.2477\n",
      "Epoch [7000/14000], Total Loss: 0.2474\n",
      "Epoch [7100/14000], Total Loss: 0.2522\n",
      "Epoch [7200/14000], Total Loss: 0.2482\n",
      "Epoch [7300/14000], Total Loss: 0.2490\n",
      "Epoch [7400/14000], Total Loss: 0.2538\n",
      "Epoch [7500/14000], Total Loss: 0.2467\n",
      "Epoch [7600/14000], Total Loss: 0.2480\n",
      "Epoch [7700/14000], Total Loss: 0.2546\n",
      "Epoch [7800/14000], Total Loss: 0.2469\n",
      "Epoch [7900/14000], Total Loss: 0.2550\n",
      "Epoch [8000/14000], Total Loss: 0.2498\n",
      "Epoch [8100/14000], Total Loss: 0.2463\n",
      "Epoch [8200/14000], Total Loss: 0.2473\n",
      "Epoch [8300/14000], Total Loss: 0.2528\n",
      "Epoch [8400/14000], Total Loss: 0.2488\n",
      "Epoch [8500/14000], Total Loss: 0.2458\n",
      "Epoch [8600/14000], Total Loss: 0.2485\n",
      "Epoch [8700/14000], Total Loss: 0.2627\n",
      "Epoch [8800/14000], Total Loss: 0.2655\n",
      "Epoch [8900/14000], Total Loss: 0.2472\n",
      "Epoch [9000/14000], Total Loss: 0.2568\n",
      "Epoch [9100/14000], Total Loss: 0.2496\n",
      "Epoch [9200/14000], Total Loss: 0.2523\n",
      "Epoch [9300/14000], Total Loss: 0.2479\n",
      "Epoch [9400/14000], Total Loss: 0.2448\n",
      "Epoch [9500/14000], Total Loss: 0.2436\n",
      "Epoch [9600/14000], Total Loss: 0.2445\n",
      "Epoch [9700/14000], Total Loss: 0.2587\n",
      "Epoch [9800/14000], Total Loss: 0.2457\n",
      "Epoch [9900/14000], Total Loss: 0.2447\n",
      "Epoch [10000/14000], Total Loss: 0.2440\n",
      "Epoch [10100/14000], Total Loss: 0.2476\n",
      "Epoch [10200/14000], Total Loss: 0.2442\n",
      "Epoch [10300/14000], Total Loss: 0.2442\n",
      "Epoch [10400/14000], Total Loss: 0.2533\n",
      "Epoch [10500/14000], Total Loss: 0.2431\n",
      "Epoch [10600/14000], Total Loss: 0.2426\n",
      "Epoch [10700/14000], Total Loss: 0.2432\n",
      "Epoch [10800/14000], Total Loss: 0.2509\n",
      "Epoch [10900/14000], Total Loss: 0.2424\n",
      "Epoch [11000/14000], Total Loss: 0.2492\n",
      "Epoch [11100/14000], Total Loss: 0.2440\n",
      "Epoch [11200/14000], Total Loss: 0.2436\n",
      "Epoch [11300/14000], Total Loss: 0.2450\n",
      "Epoch [11400/14000], Total Loss: 0.2440\n",
      "Epoch [11500/14000], Total Loss: 0.2519\n",
      "Epoch [11600/14000], Total Loss: 0.2422\n",
      "Epoch [11700/14000], Total Loss: 0.2466\n",
      "Epoch [11800/14000], Total Loss: 0.2688\n",
      "Epoch [11900/14000], Total Loss: 0.2421\n",
      "Epoch [12000/14000], Total Loss: 0.2420\n",
      "Epoch [12100/14000], Total Loss: 0.2419\n",
      "Epoch [12200/14000], Total Loss: 0.2518\n",
      "Epoch [12300/14000], Total Loss: 0.2488\n",
      "Epoch [12400/14000], Total Loss: 0.2419\n",
      "Epoch [12500/14000], Total Loss: 0.2576\n",
      "Epoch [12600/14000], Total Loss: 0.2489\n",
      "Epoch [12700/14000], Total Loss: 0.2448\n",
      "Epoch [12800/14000], Total Loss: 0.2407\n",
      "Epoch [12900/14000], Total Loss: 0.2452\n",
      "Epoch [13000/14000], Total Loss: 0.2408\n",
      "Epoch [13100/14000], Total Loss: 0.2469\n",
      "Epoch [13200/14000], Total Loss: 0.2402\n",
      "Epoch [13300/14000], Total Loss: 0.2434\n",
      "Epoch [13400/14000], Total Loss: 0.2540\n",
      "Epoch [13500/14000], Total Loss: 0.2414\n",
      "Epoch [13600/14000], Total Loss: 0.2443\n",
      "Epoch [13700/14000], Total Loss: 0.2427\n",
      "Epoch [13800/14000], Total Loss: 0.2398\n",
      "Epoch [13900/14000], Total Loss: 0.2418\n",
      "Epoch [14000/14000], Total Loss: 0.2402\n"
     ]
    }
   ],
   "source": [
    "# Training loop\n",
    "\n",
    "epochs = 14000\n",
    "losses = {'total_loss': [], 'boundary_loss': [], 'physics_loss': []}\n",
    "\n",
    "for epoch in range(epochs):\n",
    "    optimizer.zero_grad()\n",
    "    \n",
    "    # Forward pass\n",
    "    outputs = model(x_physics)\n",
    "    \n",
    "    # Compute boundary loss (initial condition)\n",
    "    boundary_loss = criterion(outputs[0], torch.tensor([initial_conditions[0]], dtype=torch.float32))\n",
    "    \n",
    "    # For simplicity, we'll consider physics loss as the total loss in this context\n",
    "    physics_loss = criterion(outputs, y_physics)\n",
    "    \n",
    "    # Total loss\n",
    "    total_loss = boundary_loss + physics_loss\n",
    "    total_loss.backward()\n",
    "    optimizer.step()\n",
    "    \n",
    "    losses['total_loss'].append(total_loss.item())\n",
    "    losses['boundary_loss'].append(boundary_loss.item())\n",
    "    losses['physics_loss'].append(physics_loss.item())\n",
    "\n",
    "    if (epoch+1) % 100 == 0:\n",
    "        print(f'Epoch [{epoch+1}/{epochs}], Total Loss: {total_loss.item():.4f}')\n"
   ]
  },
  {
   "cell_type": "code",
   "execution_count": 14,
   "id": "2cd6f746",
   "metadata": {
    "_cell_guid": "a798bf57-5ffe-4917-bab9-7a819a1eddc2",
    "_uuid": "578b138d-b05f-4b20-a1eb-9199814a1e86",
    "collapsed": false,
    "execution": {
     "iopub.execute_input": "2024-07-30T07:54:03.114222Z",
     "iopub.status.busy": "2024-07-30T07:54:03.113791Z",
     "iopub.status.idle": "2024-07-30T07:54:03.120862Z",
     "shell.execute_reply": "2024-07-30T07:54:03.119666Z"
    },
    "jupyter": {
     "outputs_hidden": false
    },
    "papermill": {
     "duration": 0.035184,
     "end_time": "2024-07-30T07:54:03.123661",
     "exception": false,
     "start_time": "2024-07-30T07:54:03.088477",
     "status": "completed"
    },
    "tags": []
   },
   "outputs": [
    {
     "name": "stdout",
     "output_type": "stream",
     "text": [
      "\n",
      "Final Losses:\n",
      "Total Loss: 0.2402\n",
      "Boundary Loss: 0.0000\n",
      "Physics Loss: 0.2402\n"
     ]
    }
   ],
   "source": [
    "# Print final losses\n",
    "print(\"\\nFinal Losses:\")\n",
    "print(f\"Total Loss: {losses['total_loss'][-1]:.4f}\")\n",
    "print(f\"Boundary Loss: {losses['boundary_loss'][-1]:.4f}\")\n",
    "print(f\"Physics Loss: {losses['physics_loss'][-1]:.4f}\")\n"
   ]
  },
  {
   "cell_type": "code",
   "execution_count": 15,
   "id": "b9643b4f",
   "metadata": {
    "_cell_guid": "3e72eed7-63bb-49d5-a3e7-0832aa6681b9",
    "_uuid": "8003487e-fb85-4270-aca3-2dd80b3a5f98",
    "collapsed": false,
    "execution": {
     "iopub.execute_input": "2024-07-30T07:54:03.173803Z",
     "iopub.status.busy": "2024-07-30T07:54:03.173356Z",
     "iopub.status.idle": "2024-07-30T07:54:03.295044Z",
     "shell.execute_reply": "2024-07-30T07:54:03.293976Z"
    },
    "jupyter": {
     "outputs_hidden": false
    },
    "papermill": {
     "duration": 0.150081,
     "end_time": "2024-07-30T07:54:03.297763",
     "exception": false,
     "start_time": "2024-07-30T07:54:03.147682",
     "status": "completed"
    },
    "tags": []
   },
   "outputs": [],
   "source": [
    "# Save KAN loss values to CSV\n",
    "loss_df = pd.DataFrame(losses)\n",
    "loss_df.to_csv('kan_loss_values.csv', index=False)"
   ]
  },
  {
   "cell_type": "code",
   "execution_count": 16,
   "id": "ed06fbf9",
   "metadata": {
    "_cell_guid": "b9407889-8484-4c1f-a2bb-8fe5fb1934cd",
    "_uuid": "61b1b40e-0320-4cce-9ac6-ea7fef58759e",
    "collapsed": false,
    "execution": {
     "iopub.execute_input": "2024-07-30T07:54:03.348186Z",
     "iopub.status.busy": "2024-07-30T07:54:03.347764Z",
     "iopub.status.idle": "2024-07-30T07:54:03.483444Z",
     "shell.execute_reply": "2024-07-30T07:54:03.482230Z"
    },
    "jupyter": {
     "outputs_hidden": false
    },
    "papermill": {
     "duration": 0.163982,
     "end_time": "2024-07-30T07:54:03.486073",
     "exception": false,
     "start_time": "2024-07-30T07:54:03.322091",
     "status": "completed"
    },
    "tags": []
   },
   "outputs": [],
   "source": [
    "# Predict using the KAN model\n",
    "y_kan = model(x_physics).detach().numpy()\n",
    "kan_df = pd.DataFrame({'t': nn_t, 'theta': y_kan.squeeze()})\n",
    "kan_df.to_csv('kan_results.csv', index=False)"
   ]
  },
  {
   "cell_type": "code",
   "execution_count": 17,
   "id": "6c42c036",
   "metadata": {
    "_cell_guid": "a13c5829-0152-4aac-abc0-bceaf6e35ba6",
    "_uuid": "4c00f31c-6390-4664-9f82-38888f3db278",
    "collapsed": false,
    "execution": {
     "iopub.execute_input": "2024-07-30T07:54:03.537263Z",
     "iopub.status.busy": "2024-07-30T07:54:03.536043Z",
     "iopub.status.idle": "2024-07-30T07:54:04.090460Z",
     "shell.execute_reply": "2024-07-30T07:54:04.089079Z"
    },
    "jupyter": {
     "outputs_hidden": false
    },
    "papermill": {
     "duration": 0.583009,
     "end_time": "2024-07-30T07:54:04.093061",
     "exception": false,
     "start_time": "2024-07-30T07:54:03.510052",
     "status": "completed"
    },
    "tags": []
   },
   "outputs": [
    {
     "data": {
      "image/png": "[encoded data removed]",
      "text/plain": [
       "<Figure size 1200x800 with 1 Axes>"
      ]
     },
     "metadata": {},
     "output_type": "display_data"
    }
   ],
   "source": [
    "# Plot both the numerical and KAN solutions \n",
    "plt.figure(figsize=(12, 8))  \n",
    "plt.plot(sol.t, sol.y[0], label='Numerical Solution')\n",
    "plt.plot(nn_t, y_kan, label='KAN Solution')\n",
    "plt.xlabel('t')\n",
    "plt.ylabel('phi(t)')\n",
    "plt.legend()\n",
    "plt.title('Numerical vs KAN Solution')\n",
    "plt.savefig('/kaggle/working/KAN_vs_Numerical_1_1.png')\n",
    "plt.show()"
   ]
  },
  {
   "cell_type": "code",
   "execution_count": 18,
   "id": "d6acff25",
   "metadata": {
    "_cell_guid": "b4529a1c-4684-4916-a922-8bb54f0d5a1d",
    "_uuid": "4c97e74d-b076-4d26-ba7b-276ac5c8fb69",
    "collapsed": false,
    "execution": {
     "iopub.execute_input": "2024-07-30T07:54:04.144435Z",
     "iopub.status.busy": "2024-07-30T07:54:04.143997Z",
     "iopub.status.idle": "2024-07-30T07:54:04.659400Z",
     "shell.execute_reply": "2024-07-30T07:54:04.658209Z"
    },
    "jupyter": {
     "outputs_hidden": false
    },
    "papermill": {
     "duration": 0.543932,
     "end_time": "2024-07-30T07:54:04.662102",
     "exception": false,
     "start_time": "2024-07-30T07:54:04.118170",
     "status": "completed"
    },
    "tags": []
   },
   "outputs": [
    {
     "data": {
      "image/png": "[encoded data removed]",
      "text/plain": [
       "<Figure size 1200x800 with 1 Axes>"
      ]
     },
     "metadata": {},
     "output_type": "display_data"
    }
   ],
   "source": [
    "# Plot both the numerical and KAN solutions \n",
    "plt.figure(figsize=(12, 8))  \n",
    "plt.plot(nn_t, y_kan, label='KAN Solution')\n",
    "plt.xlabel('t')\n",
    "plt.ylabel('phi(t)')\n",
    "plt.legend()\n",
    "plt.title('KAN Solution Only')\n",
    "\n",
    "\n",
    "plt.savefig('/kaggle/working/KAN_only_1_3.png')\n",
    "plt.show()"
   ]
  },
  {
   "cell_type": "code",
   "execution_count": 19,
   "id": "5c32386c",
   "metadata": {
    "_cell_guid": "de37d557-b66c-4cab-b155-89de71933860",
    "_uuid": "5a9a1596-922d-49a0-a903-d6636d230884",
    "collapsed": false,
    "execution": {
     "iopub.execute_input": "2024-07-30T07:54:04.715435Z",
     "iopub.status.busy": "2024-07-30T07:54:04.715010Z",
     "iopub.status.idle": "2024-07-30T07:54:04.719700Z",
     "shell.execute_reply": "2024-07-30T07:54:04.718580Z"
    },
    "jupyter": {
     "outputs_hidden": false
    },
    "papermill": {
     "duration": 0.033989,
     "end_time": "2024-07-30T07:54:04.722087",
     "exception": false,
     "start_time": "2024-07-30T07:54:04.688098",
     "status": "completed"
    },
    "tags": []
   },
   "outputs": [],
   "source": [
    "# Plot the KAN grid\n",
    "\n",
    "#model.plot()"
   ]
  },
  {
   "cell_type": "code",
   "execution_count": 20,
   "id": "c329b001",
   "metadata": {
    "_cell_guid": "6c88392d-c9d9-4e92-9335-d183036690ca",
    "_uuid": "ff9dce3f-e783-494d-b922-7685379108a2",
    "collapsed": false,
    "execution": {
     "iopub.execute_input": "2024-07-30T07:54:04.775124Z",
     "iopub.status.busy": "2024-07-30T07:54:04.774719Z",
     "iopub.status.idle": "2024-07-30T07:54:04.779460Z",
     "shell.execute_reply": "2024-07-30T07:54:04.778364Z"
    },
    "jupyter": {
     "outputs_hidden": false
    },
    "papermill": {
     "duration": 0.034417,
     "end_time": "2024-07-30T07:54:04.781853",
     "exception": false,
     "start_time": "2024-07-30T07:54:04.747436",
     "status": "completed"
    },
    "tags": []
   },
   "outputs": [],
   "source": [
    "# Try time up to 20\n",
    "#"
   ]
  }
 ],
 "metadata": {
  "kaggle": {
   "accelerator": "none",
   "dataSources": [],
   "isGpuEnabled": false,
   "isInternetEnabled": true,
   "language": "python",
   "sourceType": "notebook"
  },
  "kernelspec": {
   "display_name": "Python 3",
   "language": "python",
   "name": "python3"
  },
  "language_info": {
   "codemirror_mode": {
    "name": "ipython",
    "version": 3
   },
   "file_extension": ".py",
   "mimetype": "text/x-python",
   "name": "python",
   "nbconvert_exporter": "python",
   "pygments_lexer": "ipython3",
   "version": "3.10.13"
  },
  "papermill": {
   "default_parameters": {},
   "duration": 3245.450005,
   "end_time": "2024-07-30T07:54:07.089423",
   "environment_variables": {},
   "exception": null,
   "input_path": "__notebook__.ipynb",
   "output_path": "__notebook__.ipynb",
   "parameters": {},
   "start_time": "2024-07-30T07:00:01.639418",
   "version": "2.5.0"
  }
 },
 "nbformat": 4,
 "nbformat_minor": 5
}
