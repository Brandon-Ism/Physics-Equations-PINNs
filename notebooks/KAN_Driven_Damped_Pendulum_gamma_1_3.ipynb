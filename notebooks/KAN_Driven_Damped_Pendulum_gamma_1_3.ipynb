{
 "cells": [
  {
   "cell_type": "code",
   "execution_count": null,
   "id": "cf3a26e2",
   "metadata": {
    "_cell_guid": "425450ef-8130-40f5-b041-daec62601de4",
    "_uuid": "b175275b-8c09-4a20-8717-1c82c44f182a",
    "collapsed": false,
    "jupyter": {
     "outputs_hidden": false
    },
    "papermill": {
     "duration": 0.006657,
     "end_time": "2024-07-30T05:25:45.225217",
     "exception": false,
     "start_time": "2024-07-30T05:25:45.218560",
     "status": "completed"
    },
    "tags": []
   },
   "outputs": [],
   "source": []
  },
  {
   "cell_type": "markdown",
   "id": "d39a75c1",
   "metadata": {
    "_cell_guid": "1e007119-baf2-4bfb-b616-d461b76b505b",
    "_uuid": "50e13cae-2cb6-43f2-905b-61c766b1f299",
    "papermill": {
     "duration": 0.006467,
     "end_time": "2024-07-30T05:25:45.238158",
     "exception": false,
     "start_time": "2024-07-30T05:25:45.231691",
     "status": "completed"
    },
    "tags": []
   },
   "source": [
    "## Solution of a Driven Damped Pendulum using a Kolmogorov-Arnold Network (KAN)\n",
    "\n",
    "***Author: Brandon Ismalej (brandon.ismalej.671@my.csun.edu) - (https://github.com/Brandon-Ism)***"
   ]
  },
  {
   "cell_type": "code",
   "execution_count": 1,
   "id": "87881c27",
   "metadata": {
    "_cell_guid": "fffbb33f-a1e9-4f6b-8d70-e6695fc5503b",
    "_uuid": "41a386e0-c76b-45fa-8a22-c11e88355eb0",
    "collapsed": false,
    "execution": {
     "iopub.execute_input": "2024-07-30T05:25:45.252122Z",
     "iopub.status.busy": "2024-07-30T05:25:45.251689Z",
     "iopub.status.idle": "2024-07-30T05:25:59.469891Z",
     "shell.execute_reply": "2024-07-30T05:25:59.468552Z"
    },
    "jupyter": {
     "outputs_hidden": false
    },
    "papermill": {
     "duration": 14.228191,
     "end_time": "2024-07-30T05:25:59.472509",
     "exception": false,
     "start_time": "2024-07-30T05:25:45.244318",
     "status": "completed"
    },
    "tags": []
   },
   "outputs": [
    {
     "name": "stdout",
     "output_type": "stream",
     "text": [
      "Collecting pykan\r\n",
      "  Downloading pykan-0.2.3-py3-none-any.whl.metadata (14 kB)\r\n",
      "Requirement already satisfied: torch in /opt/conda/lib/python3.10/site-packages (2.1.2+cpu)\r\n",
      "Requirement already satisfied: numpy in /opt/conda/lib/python3.10/site-packages (1.26.4)\r\n",
      "Requirement already satisfied: matplotlib in /opt/conda/lib/python3.10/site-packages (3.7.5)\r\n",
      "Requirement already satisfied: scikit-learn in /opt/conda/lib/python3.10/site-packages (1.2.2)\r\n",
      "Requirement already satisfied: tqdm in /opt/conda/lib/python3.10/site-packages (4.66.4)\r\n",
      "Requirement already satisfied: sympy in /opt/conda/lib/python3.10/site-packages (1.13.0)\r\n",
      "Requirement already satisfied: setuptools in /opt/conda/lib/python3.10/site-packages (69.0.3)\r\n",
      "Requirement already satisfied: filelock in /opt/conda/lib/python3.10/site-packages (from torch) (3.13.1)\r\n",
      "Requirement already satisfied: typing-extensions in /opt/conda/lib/python3.10/site-packages (from torch) (4.9.0)\r\n",
      "Requirement already satisfied: networkx in /opt/conda/lib/python3.10/site-packages (from torch) (3.2.1)\r\n",
      "Requirement already satisfied: jinja2 in /opt/conda/lib/python3.10/site-packages (from torch) (3.1.2)\r\n",
      "Requirement already satisfied: fsspec in /opt/conda/lib/python3.10/site-packages (from torch) (2024.5.0)\r\n",
      "Requirement already satisfied: contourpy>=1.0.1 in /opt/conda/lib/python3.10/site-packages (from matplotlib) (1.2.0)\r\n",
      "Requirement already satisfied: cycler>=0.10 in /opt/conda/lib/python3.10/site-packages (from matplotlib) (0.12.1)\r\n",
      "Requirement already satisfied: fonttools>=4.22.0 in /opt/conda/lib/python3.10/site-packages (from matplotlib) (4.47.0)\r\n",
      "Requirement already satisfied: kiwisolver>=1.0.1 in /opt/conda/lib/python3.10/site-packages (from matplotlib) (1.4.5)\r\n",
      "Requirement already satisfied: packaging>=20.0 in /opt/conda/lib/python3.10/site-packages (from matplotlib) (21.3)\r\n",
      "Requirement already satisfied: pillow>=6.2.0 in /opt/conda/lib/python3.10/site-packages (from matplotlib) (9.5.0)\r\n",
      "Requirement already satisfied: pyparsing>=2.3.1 in /opt/conda/lib/python3.10/site-packages (from matplotlib) (3.1.1)\r\n",
      "Requirement already satisfied: python-dateutil>=2.7 in /opt/conda/lib/python3.10/site-packages (from matplotlib) (2.9.0.post0)\r\n",
      "Requirement already satisfied: scipy>=1.3.2 in /opt/conda/lib/python3.10/site-packages (from scikit-learn) (1.11.4)\r\n",
      "Requirement already satisfied: joblib>=1.1.1 in /opt/conda/lib/python3.10/site-packages (from scikit-learn) (1.4.2)\r\n",
      "Requirement already satisfied: threadpoolctl>=2.0.0 in /opt/conda/lib/python3.10/site-packages (from scikit-learn) (3.2.0)\r\n",
      "Requirement already satisfied: mpmath<1.4,>=1.1.0 in /opt/conda/lib/python3.10/site-packages (from sympy) (1.3.0)\r\n",
      "Requirement already satisfied: six>=1.5 in /opt/conda/lib/python3.10/site-packages (from python-dateutil>=2.7->matplotlib) (1.16.0)\r\n",
      "Requirement already satisfied: MarkupSafe>=2.0 in /opt/conda/lib/python3.10/site-packages (from jinja2->torch) (2.1.3)\r\n",
      "Downloading pykan-0.2.3-py3-none-any.whl (95 kB)\r\n",
      "\u001b[2K   \u001b[90m━━━━━━━━━━━━━━━━━━━━━━━━━━━━━━━━━━━━━━━━\u001b[0m \u001b[32m95.2/95.2 kB\u001b[0m \u001b[31m2.2 MB/s\u001b[0m eta \u001b[36m0:00:00\u001b[0m\r\n",
      "\u001b[?25hInstalling collected packages: pykan\r\n",
      "Successfully installed pykan-0.2.3\r\n"
     ]
    }
   ],
   "source": [
    "!pip install pykan torch numpy matplotlib scikit-learn tqdm sympy setuptools"
   ]
  },
  {
   "cell_type": "code",
   "execution_count": 2,
   "id": "2051ff95",
   "metadata": {
    "_cell_guid": "e5cefb62-18cd-4a39-ab99-49838bc76684",
    "_uuid": "61e97d09-01aa-444e-9b27-f6baedcc8b61",
    "collapsed": false,
    "execution": {
     "iopub.execute_input": "2024-07-30T05:25:59.488926Z",
     "iopub.status.busy": "2024-07-30T05:25:59.488494Z",
     "iopub.status.idle": "2024-07-30T05:26:05.655729Z",
     "shell.execute_reply": "2024-07-30T05:26:05.654465Z"
    },
    "jupyter": {
     "outputs_hidden": false
    },
    "papermill": {
     "duration": 6.178563,
     "end_time": "2024-07-30T05:26:05.658328",
     "exception": false,
     "start_time": "2024-07-30T05:25:59.479765",
     "status": "completed"
    },
    "tags": []
   },
   "outputs": [],
   "source": [
    "import numpy as np\n",
    "import pandas as pd\n",
    "import matplotlib.pyplot as plt\n",
    "from scipy.integrate import solve_ivp\n",
    "import torch\n",
    "import torch.nn as nn\n",
    "from torch import autograd\n",
    "from kan import KAN\n",
    "import math\n",
    "import os"
   ]
  },
  {
   "cell_type": "code",
   "execution_count": 3,
   "id": "435331dd",
   "metadata": {
    "_cell_guid": "54a0acd5-f6f8-4b86-9fc0-2a18e1defb74",
    "_uuid": "0deef3b7-1bb4-4710-a7d7-51e7c73a8301",
    "collapsed": false,
    "execution": {
     "iopub.execute_input": "2024-07-30T05:26:05.674290Z",
     "iopub.status.busy": "2024-07-30T05:26:05.673749Z",
     "iopub.status.idle": "2024-07-30T05:26:05.807630Z",
     "shell.execute_reply": "2024-07-30T05:26:05.806177Z"
    },
    "jupyter": {
     "outputs_hidden": false
    },
    "papermill": {
     "duration": 0.144587,
     "end_time": "2024-07-30T05:26:05.810052",
     "exception": false,
     "start_time": "2024-07-30T05:26:05.665465",
     "status": "completed"
    },
    "tags": []
   },
   "outputs": [],
   "source": [
    "from sympy import symbols, Function\n",
    "gamma_sym = symbols('gamma')\n",
    "gamma_func = Function('gamma')\n",
    "\n",
    "# Clear previous definitions\n",
    "del gamma_sym\n",
    "del gamma_func"
   ]
  },
  {
   "cell_type": "code",
   "execution_count": 4,
   "id": "afa8a5b7",
   "metadata": {
    "_cell_guid": "5f0eb7f7-5c34-40e3-85fc-4cc1e01616ab",
    "_uuid": "51cbd932-8670-476f-a971-8958156f8258",
    "collapsed": false,
    "execution": {
     "iopub.execute_input": "2024-07-30T05:26:05.827321Z",
     "iopub.status.busy": "2024-07-30T05:26:05.826323Z",
     "iopub.status.idle": "2024-07-30T05:26:05.831861Z",
     "shell.execute_reply": "2024-07-30T05:26:05.830856Z"
    },
    "jupyter": {
     "outputs_hidden": false
    },
    "papermill": {
     "duration": 0.016415,
     "end_time": "2024-07-30T05:26:05.834047",
     "exception": false,
     "start_time": "2024-07-30T05:26:05.817632",
     "status": "completed"
    },
    "tags": []
   },
   "outputs": [],
   "source": [
    "# Initialize Constants\n",
    "Omega_val = 2 * np.pi  \n",
    "omega_val = Omega_val * 1.5 \n",
    "lambda_val = omega_val / 2 \n",
    "gamma_val = 1.3\n",
    "omegaSQ_val = omega_val ** 2\n",
    "f_val = gamma_val * omegaSQ_val"
   ]
  },
  {
   "cell_type": "code",
   "execution_count": 5,
   "id": "8675d83e",
   "metadata": {
    "_cell_guid": "81ffaffc-d7ca-4f80-b2be-3cb5442e9656",
    "_uuid": "3d937afc-4f64-4a6f-ba4b-fc332ac2a8e5",
    "collapsed": false,
    "execution": {
     "iopub.execute_input": "2024-07-30T05:26:05.850269Z",
     "iopub.status.busy": "2024-07-30T05:26:05.849225Z",
     "iopub.status.idle": "2024-07-30T05:26:05.855451Z",
     "shell.execute_reply": "2024-07-30T05:26:05.854196Z"
    },
    "jupyter": {
     "outputs_hidden": false
    },
    "papermill": {
     "duration": 0.016584,
     "end_time": "2024-07-30T05:26:05.857695",
     "exception": false,
     "start_time": "2024-07-30T05:26:05.841111",
     "status": "completed"
    },
    "tags": []
   },
   "outputs": [],
   "source": [
    "# This is the function for scipy odeint that helps it to solve the diff equation\n",
    "# Differential equation\n",
    "def helper(t, theta):\n",
    "    theta, z = theta\n",
    "    dthetadt = [z, f_val * math.cos(Omega_val * t) - omegaSQ_val * math.sin(theta) - lambda_val * z]\n",
    "    return dthetadt"
   ]
  },
  {
   "cell_type": "code",
   "execution_count": 6,
   "id": "9e948206",
   "metadata": {
    "_cell_guid": "e7104e2b-b6f7-4df8-972e-6ee7faee2fb9",
    "_uuid": "36376087-fef8-40b1-bc0b-986a47e28beb",
    "collapsed": false,
    "execution": {
     "iopub.execute_input": "2024-07-30T05:26:05.873799Z",
     "iopub.status.busy": "2024-07-30T05:26:05.872962Z",
     "iopub.status.idle": "2024-07-30T05:26:05.987601Z",
     "shell.execute_reply": "2024-07-30T05:26:05.986568Z"
    },
    "jupyter": {
     "outputs_hidden": false
    },
    "papermill": {
     "duration": 0.125545,
     "end_time": "2024-07-30T05:26:05.990336",
     "exception": false,
     "start_time": "2024-07-30T05:26:05.864791",
     "status": "completed"
    },
    "tags": []
   },
   "outputs": [],
   "source": [
    "# Define the driven damped pendulum differential equation\n",
    "#def driven_damped_pendulum(t, y, omega, lambda_, gamma, Omega):\n",
    "#    theta, omega_dot = y\n",
    "#   dydt = [omega_dot, -lambda_ * omega_dot - omega**2 * np.sin(theta) + gamma * np.cos(Omega * t)]\n",
    " #   return dydt\n",
    "    \n",
    "# Initial conditions\n",
    "initial_conditions = [0, 0]\n",
    "start_val = 0\n",
    "end_val = 15\n",
    "\n",
    "# Time points\n",
    "t = np.linspace(start_val, end_val, 3000)\n",
    "\n",
    "# Solve the differential equation using solve_ivp\n",
    "sol = solve_ivp(helper, [start_val, end_val], initial_conditions, t_eval=t, method='LSODA', rtol=1e-6, atol=1e-8)\n",
    "\n",
    "# Solve the differential equation using solve_ivp\n",
    "# sol = solve_ivp(driven_damped_pendulum, [t[0], t[-1]], y0, args=(omega_val, lambda_val, gamma_val, Omega_val), t_eval=t, method='LSODA', rtol=1e-6, atol=1e-8)"
   ]
  },
  {
   "cell_type": "code",
   "execution_count": 7,
   "id": "2f4b9337",
   "metadata": {
    "_cell_guid": "d361dc3d-23b3-4eb3-829b-fadf7cc0ca1e",
    "_uuid": "d5aead49-f910-49aa-8e24-4e456a28d8fb",
    "collapsed": false,
    "execution": {
     "iopub.execute_input": "2024-07-30T05:26:06.006528Z",
     "iopub.status.busy": "2024-07-30T05:26:06.006153Z",
     "iopub.status.idle": "2024-07-30T05:26:06.440348Z",
     "shell.execute_reply": "2024-07-30T05:26:06.439220Z"
    },
    "jupyter": {
     "outputs_hidden": false
    },
    "papermill": {
     "duration": 0.44547,
     "end_time": "2024-07-30T05:26:06.443108",
     "exception": false,
     "start_time": "2024-07-30T05:26:05.997638",
     "status": "completed"
    },
    "tags": []
   },
   "outputs": [
    {
     "data": {
      "image/png": "[encoded data removed]",
      "text/plain": [
       "<Figure size 1200x800 with 1 Axes>"
      ]
     },
     "metadata": {},
     "output_type": "display_data"
    }
   ],
   "source": [
    "plt.figure(figsize=(12, 8))\n",
    "plt.plot(sol.t, sol.y[0], label='Numerical Solution')\n",
    "plt.xlabel('t')\n",
    "plt.ylabel('phi(t) ')\n",
    "plt.grid(True)\n",
    "plt.savefig('numerical_only.png')\n",
    "plt.show()"
   ]
  },
  {
   "cell_type": "code",
   "execution_count": 8,
   "id": "0a482370",
   "metadata": {
    "_cell_guid": "11211c60-6595-437b-abf0-1fda7af775d8",
    "_uuid": "c2672a6c-778a-459e-b19a-9f5a539cceef",
    "collapsed": false,
    "execution": {
     "iopub.execute_input": "2024-07-30T05:26:06.460431Z",
     "iopub.status.busy": "2024-07-30T05:26:06.460048Z",
     "iopub.status.idle": "2024-07-30T05:26:06.488679Z",
     "shell.execute_reply": "2024-07-30T05:26:06.487540Z"
    },
    "jupyter": {
     "outputs_hidden": false
    },
    "papermill": {
     "duration": 0.04044,
     "end_time": "2024-07-30T05:26:06.491408",
     "exception": false,
     "start_time": "2024-07-30T05:26:06.450968",
     "status": "completed"
    },
    "tags": []
   },
   "outputs": [],
   "source": [
    "# Save ODE solver results to CSV\n",
    "ode_df = pd.DataFrame({'t': sol.t, 'theta': sol.y[0], 'omega_dot': sol.y[1]})\n",
    "ode_df.to_csv('ode_solver_results.csv', index=False)"
   ]
  },
  {
   "cell_type": "code",
   "execution_count": 9,
   "id": "c4998477",
   "metadata": {
    "_cell_guid": "d2d75e99-859f-4eb1-b214-89b2e5bc7d59",
    "_uuid": "a8e6ce47-a87a-4d11-a389-6a1ec7750a8c",
    "collapsed": false,
    "execution": {
     "iopub.execute_input": "2024-07-30T05:26:06.510176Z",
     "iopub.status.busy": "2024-07-30T05:26:06.509767Z",
     "iopub.status.idle": "2024-07-30T05:26:06.561673Z",
     "shell.execute_reply": "2024-07-30T05:26:06.560600Z"
    },
    "jupyter": {
     "outputs_hidden": false
    },
    "papermill": {
     "duration": 0.064099,
     "end_time": "2024-07-30T05:26:06.564371",
     "exception": false,
     "start_time": "2024-07-30T05:26:06.500272",
     "status": "completed"
    },
    "tags": []
   },
   "outputs": [],
   "source": [
    "# Define a separate time interval for the neural network training\n",
    "nn_start_val = 0\n",
    "nn_end_val = 15\n",
    "nn_t = np.linspace(nn_start_val, nn_end_val, 8000)\n",
    "\n",
    "# Prepare training data based on the new time interval\n",
    "x_physics = torch.tensor(nn_t, dtype=torch.float32).view(-1, 1)\n",
    "y_physics = torch.tensor(np.interp(nn_t, t, sol.y[0]), dtype=torch.float32).view(-1, 1)"
   ]
  },
  {
   "cell_type": "code",
   "execution_count": 10,
   "id": "2f87d96c",
   "metadata": {
    "_cell_guid": "e480b554-3b65-412e-87a9-6c5a2dffbb8d",
    "_uuid": "81869f09-efa9-411c-b05c-2ada5495f772",
    "collapsed": false,
    "execution": {
     "iopub.execute_input": "2024-07-30T05:26:06.581746Z",
     "iopub.status.busy": "2024-07-30T05:26:06.581363Z",
     "iopub.status.idle": "2024-07-30T05:26:06.586952Z",
     "shell.execute_reply": "2024-07-30T05:26:06.585724Z"
    },
    "jupyter": {
     "outputs_hidden": false
    },
    "papermill": {
     "duration": 0.016937,
     "end_time": "2024-07-30T05:26:06.589417",
     "exception": false,
     "start_time": "2024-07-30T05:26:06.572480",
     "status": "completed"
    },
    "tags": []
   },
   "outputs": [
    {
     "name": "stdout",
     "output_type": "stream",
     "text": [
      "{<class 'torch.Tensor'>}\n"
     ]
    }
   ],
   "source": [
    "print({type(x_physics)})"
   ]
  },
  {
   "cell_type": "code",
   "execution_count": 11,
   "id": "d3150cec",
   "metadata": {
    "_cell_guid": "734b26c7-dc57-4b4b-bfc6-4d39a1d74cb3",
    "_uuid": "f5323f7b-830e-4a00-9b8b-dd30887ce868",
    "collapsed": false,
    "execution": {
     "iopub.execute_input": "2024-07-30T05:26:06.606503Z",
     "iopub.status.busy": "2024-07-30T05:26:06.606136Z",
     "iopub.status.idle": "2024-07-30T05:26:08.160108Z",
     "shell.execute_reply": "2024-07-30T05:26:08.158854Z"
    },
    "jupyter": {
     "outputs_hidden": false
    },
    "papermill": {
     "duration": 1.565542,
     "end_time": "2024-07-30T05:26:08.162768",
     "exception": false,
     "start_time": "2024-07-30T05:26:06.597226",
     "status": "completed"
    },
    "tags": []
   },
   "outputs": [
    {
     "name": "stdout",
     "output_type": "stream",
     "text": [
      "checkpoint directory created: ./model\n",
      "saving model version 0.0\n"
     ]
    }
   ],
   "source": [
    "from kan import *\n",
    "# Define the KAN model\n",
    "physics_weight = 1e-3\n",
    "model = KAN(width=[1,9,9,1], grid=5, k=3, seed=0)\n",
    "#model = KAN(width=[1,10,1], grid=5, k=3, grid_eps=1.0) #noise scale base error after pykan updates\n",
    "#model.update_grid_from_samples(x_physics)\n",
    "optimizer = torch.optim.Adam(model.parameters(), lr=1e-2)\n",
    "criterion = nn.MSELoss()\n"
   ]
  },
  {
   "cell_type": "code",
   "execution_count": 12,
   "id": "9f9b1e52",
   "metadata": {
    "_cell_guid": "1317bc87-8804-4a9e-8d5c-bd365330d8ad",
    "_uuid": "f97d2f4e-3a45-4c5c-b449-4bf8da3d80b0",
    "collapsed": false,
    "execution": {
     "iopub.execute_input": "2024-07-30T05:26:08.180826Z",
     "iopub.status.busy": "2024-07-30T05:26:08.180263Z",
     "iopub.status.idle": "2024-07-30T05:26:08.187088Z",
     "shell.execute_reply": "2024-07-30T05:26:08.185927Z"
    },
    "jupyter": {
     "outputs_hidden": false
    },
    "papermill": {
     "duration": 0.018281,
     "end_time": "2024-07-30T05:26:08.189375",
     "exception": false,
     "start_time": "2024-07-30T05:26:08.171094",
     "status": "completed"
    },
    "tags": []
   },
   "outputs": [],
   "source": [
    "# Convert to torch.Tensor\n",
    "Omega = torch.tensor(Omega_val, dtype=torch.float32)\n",
    "omega = torch.tensor(omega_val, dtype=torch.float32)\n",
    "lambda_ = torch.tensor(lambda_val, dtype=torch.float32)\n",
    "gamma = torch.tensor(gamma_val, dtype=torch.float32)  \n",
    "omegaSQ = torch.tensor(omegaSQ_val, dtype=torch.float32)\n",
    "f = torch.tensor(f_val, dtype=torch.float32)"
   ]
  },
  {
   "cell_type": "code",
   "execution_count": 13,
   "id": "82beedc0",
   "metadata": {
    "_cell_guid": "4eb764eb-df5d-4338-8ad6-45da25beda45",
    "_uuid": "d56f4697-b78a-4851-a58c-e97852dc12dc",
    "collapsed": false,
    "execution": {
     "iopub.execute_input": "2024-07-30T05:26:08.206665Z",
     "iopub.status.busy": "2024-07-30T05:26:08.206301Z",
     "iopub.status.idle": "2024-07-30T05:49:23.335636Z",
     "shell.execute_reply": "2024-07-30T05:49:23.334482Z"
    },
    "jupyter": {
     "outputs_hidden": false
    },
    "papermill": {
     "duration": 1395.153271,
     "end_time": "2024-07-30T05:49:23.350615",
     "exception": false,
     "start_time": "2024-07-30T05:26:08.197344",
     "status": "completed"
    },
    "tags": []
   },
   "outputs": [
    {
     "name": "stdout",
     "output_type": "stream",
     "text": [
      "Epoch [100/8000], Total Loss: 0.8611\n",
      "Epoch [200/8000], Total Loss: 0.4323\n",
      "Epoch [300/8000], Total Loss: 0.4002\n",
      "Epoch [400/8000], Total Loss: 0.3841\n",
      "Epoch [500/8000], Total Loss: 0.3206\n",
      "Epoch [600/8000], Total Loss: 0.2944\n",
      "Epoch [700/8000], Total Loss: 0.2861\n",
      "Epoch [800/8000], Total Loss: 0.2799\n",
      "Epoch [900/8000], Total Loss: 0.2742\n",
      "Epoch [1000/8000], Total Loss: 0.2723\n",
      "Epoch [1100/8000], Total Loss: 0.2682\n",
      "Epoch [1200/8000], Total Loss: 0.2663\n",
      "Epoch [1300/8000], Total Loss: 0.2650\n",
      "Epoch [1400/8000], Total Loss: 0.2642\n",
      "Epoch [1500/8000], Total Loss: 0.2646\n",
      "Epoch [1600/8000], Total Loss: 0.2659\n",
      "Epoch [1700/8000], Total Loss: 0.2634\n",
      "Epoch [1800/8000], Total Loss: 0.2623\n",
      "Epoch [1900/8000], Total Loss: 0.2654\n",
      "Epoch [2000/8000], Total Loss: 0.2663\n",
      "Epoch [2100/8000], Total Loss: 0.2614\n",
      "Epoch [2200/8000], Total Loss: 0.2641\n",
      "Epoch [2300/8000], Total Loss: 0.2613\n",
      "Epoch [2400/8000], Total Loss: 0.2616\n",
      "Epoch [2500/8000], Total Loss: 0.2626\n",
      "Epoch [2600/8000], Total Loss: 0.2614\n",
      "Epoch [2700/8000], Total Loss: 0.2734\n",
      "Epoch [2800/8000], Total Loss: 0.2600\n",
      "Epoch [2900/8000], Total Loss: 0.2602\n",
      "Epoch [3000/8000], Total Loss: 0.2650\n",
      "Epoch [3100/8000], Total Loss: 0.2603\n",
      "Epoch [3200/8000], Total Loss: 0.2590\n",
      "Epoch [3300/8000], Total Loss: 0.2588\n",
      "Epoch [3400/8000], Total Loss: 0.2592\n",
      "Epoch [3500/8000], Total Loss: 0.2628\n",
      "Epoch [3600/8000], Total Loss: 0.2636\n",
      "Epoch [3700/8000], Total Loss: 0.2601\n",
      "Epoch [3800/8000], Total Loss: 0.2588\n",
      "Epoch [3900/8000], Total Loss: 0.2582\n",
      "Epoch [4000/8000], Total Loss: 0.2593\n",
      "Epoch [4100/8000], Total Loss: 0.2574\n",
      "Epoch [4200/8000], Total Loss: 0.2585\n",
      "Epoch [4300/8000], Total Loss: 0.2589\n",
      "Epoch [4400/8000], Total Loss: 0.2569\n",
      "Epoch [4500/8000], Total Loss: 0.2619\n",
      "Epoch [4600/8000], Total Loss: 0.2579\n",
      "Epoch [4700/8000], Total Loss: 0.2550\n",
      "Epoch [4800/8000], Total Loss: 0.2560\n",
      "Epoch [4900/8000], Total Loss: 0.2541\n",
      "Epoch [5000/8000], Total Loss: 0.2533\n",
      "Epoch [5100/8000], Total Loss: 0.2571\n",
      "Epoch [5200/8000], Total Loss: 0.2558\n",
      "Epoch [5300/8000], Total Loss: 0.2517\n",
      "Epoch [5400/8000], Total Loss: 0.2559\n",
      "Epoch [5500/8000], Total Loss: 0.2529\n",
      "Epoch [5600/8000], Total Loss: 0.2514\n",
      "Epoch [5700/8000], Total Loss: 0.2565\n",
      "Epoch [5800/8000], Total Loss: 0.2497\n",
      "Epoch [5900/8000], Total Loss: 0.2510\n",
      "Epoch [6000/8000], Total Loss: 0.2563\n",
      "Epoch [6100/8000], Total Loss: 0.2491\n",
      "Epoch [6200/8000], Total Loss: 0.2506\n",
      "Epoch [6300/8000], Total Loss: 0.2518\n",
      "Epoch [6400/8000], Total Loss: 0.2485\n",
      "Epoch [6500/8000], Total Loss: 0.2489\n",
      "Epoch [6600/8000], Total Loss: 0.2536\n",
      "Epoch [6700/8000], Total Loss: 0.2580\n",
      "Epoch [6800/8000], Total Loss: 0.2501\n",
      "Epoch [6900/8000], Total Loss: 0.2485\n",
      "Epoch [7000/8000], Total Loss: 0.2486\n",
      "Epoch [7100/8000], Total Loss: 0.2516\n",
      "Epoch [7200/8000], Total Loss: 0.2489\n",
      "Epoch [7300/8000], Total Loss: 0.2487\n",
      "Epoch [7400/8000], Total Loss: 0.2488\n",
      "Epoch [7500/8000], Total Loss: 0.2473\n",
      "Epoch [7600/8000], Total Loss: 0.2501\n",
      "Epoch [7700/8000], Total Loss: 0.2528\n",
      "Epoch [7800/8000], Total Loss: 0.2515\n",
      "Epoch [7900/8000], Total Loss: 0.2489\n",
      "Epoch [8000/8000], Total Loss: 0.2497\n"
     ]
    }
   ],
   "source": [
    "# Training loop\n",
    "\n",
    "epochs = 8000\n",
    "losses = {'total_loss': [], 'boundary_loss': [], 'physics_loss': []}\n",
    "\n",
    "for epoch in range(epochs):\n",
    "    optimizer.zero_grad()\n",
    "    \n",
    "    # Forward pass\n",
    "    outputs = model(x_physics)\n",
    "    \n",
    "    # Compute boundary loss (initial condition)\n",
    "    boundary_loss = criterion(outputs[0], torch.tensor([initial_conditions[0]], dtype=torch.float32))\n",
    "    \n",
    "    # For simplicity, we'll consider physics loss as the total loss in this context\n",
    "    physics_loss = criterion(outputs, y_physics)\n",
    "    \n",
    "    # Total loss\n",
    "    total_loss = boundary_loss + physics_loss\n",
    "    total_loss.backward()\n",
    "    optimizer.step()\n",
    "    \n",
    "    losses['total_loss'].append(total_loss.item())\n",
    "    losses['boundary_loss'].append(boundary_loss.item())\n",
    "    losses['physics_loss'].append(physics_loss.item())\n",
    "\n",
    "    if (epoch+1) % 100 == 0:\n",
    "        print(f'Epoch [{epoch+1}/{epochs}], Total Loss: {total_loss.item():.4f}')\n"
   ]
  },
  {
   "cell_type": "code",
   "execution_count": 14,
   "id": "9d504a46",
   "metadata": {
    "_cell_guid": "a798bf57-5ffe-4917-bab9-7a819a1eddc2",
    "_uuid": "578b138d-b05f-4b20-a1eb-9199814a1e86",
    "collapsed": false,
    "execution": {
     "iopub.execute_input": "2024-07-30T05:49:23.378062Z",
     "iopub.status.busy": "2024-07-30T05:49:23.377663Z",
     "iopub.status.idle": "2024-07-30T05:49:23.384251Z",
     "shell.execute_reply": "2024-07-30T05:49:23.382988Z"
    },
    "jupyter": {
     "outputs_hidden": false
    },
    "papermill": {
     "duration": 0.023417,
     "end_time": "2024-07-30T05:49:23.386797",
     "exception": false,
     "start_time": "2024-07-30T05:49:23.363380",
     "status": "completed"
    },
    "tags": []
   },
   "outputs": [
    {
     "name": "stdout",
     "output_type": "stream",
     "text": [
      "\n",
      "Final Losses:\n",
      "Total Loss: 0.2497\n",
      "Boundary Loss: 0.0000\n",
      "Physics Loss: 0.2497\n"
     ]
    }
   ],
   "source": [
    "# Print final losses\n",
    "print(\"\\nFinal Losses:\")\n",
    "print(f\"Total Loss: {losses['total_loss'][-1]:.4f}\")\n",
    "print(f\"Boundary Loss: {losses['boundary_loss'][-1]:.4f}\")\n",
    "print(f\"Physics Loss: {losses['physics_loss'][-1]:.4f}\")\n"
   ]
  },
  {
   "cell_type": "code",
   "execution_count": 15,
   "id": "63e9a17a",
   "metadata": {
    "_cell_guid": "3e72eed7-63bb-49d5-a3e7-0832aa6681b9",
    "_uuid": "8003487e-fb85-4270-aca3-2dd80b3a5f98",
    "collapsed": false,
    "execution": {
     "iopub.execute_input": "2024-07-30T05:49:23.414887Z",
     "iopub.status.busy": "2024-07-30T05:49:23.414477Z",
     "iopub.status.idle": "2024-07-30T05:49:23.467427Z",
     "shell.execute_reply": "2024-07-30T05:49:23.466259Z"
    },
    "jupyter": {
     "outputs_hidden": false
    },
    "papermill": {
     "duration": 0.070183,
     "end_time": "2024-07-30T05:49:23.470027",
     "exception": false,
     "start_time": "2024-07-30T05:49:23.399844",
     "status": "completed"
    },
    "tags": []
   },
   "outputs": [],
   "source": [
    "# Save KAN loss values to CSV\n",
    "loss_df = pd.DataFrame(losses)\n",
    "loss_df.to_csv('kan_loss_values.csv', index=False)"
   ]
  },
  {
   "cell_type": "code",
   "execution_count": 16,
   "id": "63844ce9",
   "metadata": {
    "_cell_guid": "b9407889-8484-4c1f-a2bb-8fe5fb1934cd",
    "_uuid": "61b1b40e-0320-4cce-9ac6-ea7fef58759e",
    "collapsed": false,
    "execution": {
     "iopub.execute_input": "2024-07-30T05:49:23.498428Z",
     "iopub.status.busy": "2024-07-30T05:49:23.498033Z",
     "iopub.status.idle": "2024-07-30T05:49:23.602799Z",
     "shell.execute_reply": "2024-07-30T05:49:23.601643Z"
    },
    "jupyter": {
     "outputs_hidden": false
    },
    "papermill": {
     "duration": 0.122144,
     "end_time": "2024-07-30T05:49:23.605412",
     "exception": false,
     "start_time": "2024-07-30T05:49:23.483268",
     "status": "completed"
    },
    "tags": []
   },
   "outputs": [],
   "source": [
    "# Predict using the KAN model\n",
    "y_kan = model(x_physics).detach().numpy()\n",
    "kan_df = pd.DataFrame({'t': nn_t, 'theta': y_kan.squeeze()})\n",
    "kan_df.to_csv('kan_results.csv', index=False)"
   ]
  },
  {
   "cell_type": "code",
   "execution_count": 17,
   "id": "4d52b2d6",
   "metadata": {
    "_cell_guid": "a13c5829-0152-4aac-abc0-bceaf6e35ba6",
    "_uuid": "4c00f31c-6390-4664-9f82-38888f3db278",
    "collapsed": false,
    "execution": {
     "iopub.execute_input": "2024-07-30T05:49:23.633063Z",
     "iopub.status.busy": "2024-07-30T05:49:23.632672Z",
     "iopub.status.idle": "2024-07-30T05:49:24.125396Z",
     "shell.execute_reply": "2024-07-30T05:49:24.124189Z"
    },
    "jupyter": {
     "outputs_hidden": false
    },
    "papermill": {
     "duration": 0.509306,
     "end_time": "2024-07-30T05:49:24.127799",
     "exception": false,
     "start_time": "2024-07-30T05:49:23.618493",
     "status": "completed"
    },
    "tags": []
   },
   "outputs": [
    {
     "data": {
      "image/png": "[encoded data removed]",
      "text/plain": [
       "<Figure size 1200x800 with 1 Axes>"
      ]
     },
     "metadata": {},
     "output_type": "display_data"
    }
   ],
   "source": [
    "# Plot both the numerical and KAN solutions \n",
    "plt.figure(figsize=(12, 8))  \n",
    "plt.plot(sol.t, sol.y[0], label='Numerical Solution')\n",
    "plt.plot(nn_t, y_kan, label='KAN Solution')\n",
    "plt.xlabel('t')\n",
    "plt.ylabel('phi(t)')\n",
    "plt.legend()\n",
    "plt.title('Numerical vs KAN Solution')\n",
    "plt.savefig('/kaggle/working/KAN_vs_Numerical_1_1.png')\n",
    "plt.show()"
   ]
  },
  {
   "cell_type": "code",
   "execution_count": 18,
   "id": "aa52d3c7",
   "metadata": {
    "_cell_guid": "b4529a1c-4684-4916-a922-8bb54f0d5a1d",
    "_uuid": "4c97e74d-b076-4d26-ba7b-276ac5c8fb69",
    "collapsed": false,
    "execution": {
     "iopub.execute_input": "2024-07-30T05:49:24.156992Z",
     "iopub.status.busy": "2024-07-30T05:49:24.156560Z",
     "iopub.status.idle": "2024-07-30T05:49:24.636691Z",
     "shell.execute_reply": "2024-07-30T05:49:24.635498Z"
    },
    "jupyter": {
     "outputs_hidden": false
    },
    "papermill": {
     "duration": 0.49728,
     "end_time": "2024-07-30T05:49:24.638893",
     "exception": false,
     "start_time": "2024-07-30T05:49:24.141613",
     "status": "completed"
    },
    "tags": []
   },
   "outputs": [
    {
     "data": {
      "image/png": "[encoded data removed]",
      "text/plain": [
       "<Figure size 1200x800 with 1 Axes>"
      ]
     },
     "metadata": {},
     "output_type": "display_data"
    }
   ],
   "source": [
    "# Plot both the numerical and KAN solutions \n",
    "plt.figure(figsize=(12, 8))  \n",
    "plt.plot(nn_t, y_kan, label='KAN Solution')\n",
    "plt.xlabel('t')\n",
    "plt.ylabel('phi(t)')\n",
    "plt.legend()\n",
    "plt.title('KAN Solution Only')\n",
    "\n",
    "\n",
    "plt.savefig('/kaggle/working/KAN_only_1_3.png')\n",
    "plt.show()"
   ]
  },
  {
   "cell_type": "code",
   "execution_count": 19,
   "id": "c77ffe96",
   "metadata": {
    "_cell_guid": "de37d557-b66c-4cab-b155-89de71933860",
    "_uuid": "5a9a1596-922d-49a0-a903-d6636d230884",
    "collapsed": false,
    "execution": {
     "iopub.execute_input": "2024-07-30T05:49:24.669576Z",
     "iopub.status.busy": "2024-07-30T05:49:24.669194Z",
     "iopub.status.idle": "2024-07-30T05:49:24.673498Z",
     "shell.execute_reply": "2024-07-30T05:49:24.672484Z"
    },
    "jupyter": {
     "outputs_hidden": false
    },
    "papermill": {
     "duration": 0.022019,
     "end_time": "2024-07-30T05:49:24.675585",
     "exception": false,
     "start_time": "2024-07-30T05:49:24.653566",
     "status": "completed"
    },
    "tags": []
   },
   "outputs": [],
   "source": [
    "# Plot the KAN grid\n",
    "\n",
    "#model.plot()"
   ]
  },
  {
   "cell_type": "code",
   "execution_count": 20,
   "id": "50cd5e77",
   "metadata": {
    "_cell_guid": "6c88392d-c9d9-4e92-9335-d183036690ca",
    "_uuid": "ff9dce3f-e783-494d-b922-7685379108a2",
    "collapsed": false,
    "execution": {
     "iopub.execute_input": "2024-07-30T05:49:24.706049Z",
     "iopub.status.busy": "2024-07-30T05:49:24.705639Z",
     "iopub.status.idle": "2024-07-30T05:49:24.710553Z",
     "shell.execute_reply": "2024-07-30T05:49:24.709511Z"
    },
    "jupyter": {
     "outputs_hidden": false
    },
    "papermill": {
     "duration": 0.022545,
     "end_time": "2024-07-30T05:49:24.712771",
     "exception": false,
     "start_time": "2024-07-30T05:49:24.690226",
     "status": "completed"
    },
    "tags": []
   },
   "outputs": [],
   "source": [
    "# Try time up to 20\n",
    "#"
   ]
  }
 ],
 "metadata": {
  "kaggle": {
   "accelerator": "none",
   "dataSources": [],
   "isGpuEnabled": false,
   "isInternetEnabled": true,
   "language": "python",
   "sourceType": "notebook"
  },
  "kernelspec": {
   "display_name": "Python 3",
   "language": "python",
   "name": "python3"
  },
  "language_info": {
   "codemirror_mode": {
    "name": "ipython",
    "version": 3
   },
   "file_extension": ".py",
   "mimetype": "text/x-python",
   "name": "python",
   "nbconvert_exporter": "python",
   "pygments_lexer": "ipython3",
   "version": "3.10.13"
  },
  "papermill": {
   "default_parameters": {},
   "duration": 1423.602688,
   "end_time": "2024-07-30T05:49:25.953486",
   "environment_variables": {},
   "exception": null,
   "input_path": "__notebook__.ipynb",
   "output_path": "__notebook__.ipynb",
   "parameters": {},
   "start_time": "2024-07-30T05:25:42.350798",
   "version": "2.5.0"
  }
 },
 "nbformat": 4,
 "nbformat_minor": 5
}
