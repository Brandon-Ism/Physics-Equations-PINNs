{
 "cells": [
  {
   "cell_type": "code",
   "execution_count": null,
   "id": "653cf469",
   "metadata": {
    "_cell_guid": "425450ef-8130-40f5-b041-daec62601de4",
    "_uuid": "b175275b-8c09-4a20-8717-1c82c44f182a",
    "collapsed": false,
    "jupyter": {
     "outputs_hidden": false
    },
    "papermill": {
     "duration": 0.006977,
     "end_time": "2024-07-29T06:07:43.585360",
     "exception": false,
     "start_time": "2024-07-29T06:07:43.578383",
     "status": "completed"
    },
    "tags": []
   },
   "outputs": [],
   "source": []
  },
  {
   "cell_type": "markdown",
   "id": "ecb95f36",
   "metadata": {
    "_cell_guid": "1e007119-baf2-4bfb-b616-d461b76b505b",
    "_uuid": "50e13cae-2cb6-43f2-905b-61c766b1f299",
    "papermill": {
     "duration": 0.006261,
     "end_time": "2024-07-29T06:07:43.598311",
     "exception": false,
     "start_time": "2024-07-29T06:07:43.592050",
     "status": "completed"
    },
    "tags": []
   },
   "source": [
    "## Solution of a Driven Damped Pendulum using a Kolmogorov-Arnold Network (KAN)\n",
    "\n",
    "***Author: Brandon Ismalej (brandon.ismalej.671@my.csun.edu) - (https://github.com/Brandon-Ism)***"
   ]
  },
  {
   "cell_type": "code",
   "execution_count": 1,
   "id": "19aff5b3",
   "metadata": {
    "_cell_guid": "fffbb33f-a1e9-4f6b-8d70-e6695fc5503b",
    "_uuid": "41a386e0-c76b-45fa-8a22-c11e88355eb0",
    "collapsed": false,
    "execution": {
     "iopub.execute_input": "2024-07-29T06:07:43.613264Z",
     "iopub.status.busy": "2024-07-29T06:07:43.612879Z",
     "iopub.status.idle": "2024-07-29T06:07:57.130409Z",
     "shell.execute_reply": "2024-07-29T06:07:57.129087Z"
    },
    "jupyter": {
     "outputs_hidden": false
    },
    "papermill": {
     "duration": 13.528496,
     "end_time": "2024-07-29T06:07:57.133397",
     "exception": false,
     "start_time": "2024-07-29T06:07:43.604901",
     "status": "completed"
    },
    "tags": []
   },
   "outputs": [
    {
     "name": "stdout",
     "output_type": "stream",
     "text": [
      "Collecting pykan\r\n",
      "  Downloading pykan-0.2.3-py3-none-any.whl.metadata (14 kB)\r\n",
      "Requirement already satisfied: torch in /opt/conda/lib/python3.10/site-packages (2.1.2+cpu)\r\n",
      "Requirement already satisfied: numpy in /opt/conda/lib/python3.10/site-packages (1.26.4)\r\n",
      "Requirement already satisfied: matplotlib in /opt/conda/lib/python3.10/site-packages (3.7.5)\r\n",
      "Requirement already satisfied: scikit-learn in /opt/conda/lib/python3.10/site-packages (1.2.2)\r\n",
      "Requirement already satisfied: tqdm in /opt/conda/lib/python3.10/site-packages (4.66.4)\r\n",
      "Requirement already satisfied: sympy in /opt/conda/lib/python3.10/site-packages (1.13.0)\r\n",
      "Requirement already satisfied: setuptools in /opt/conda/lib/python3.10/site-packages (69.0.3)\r\n",
      "Requirement already satisfied: filelock in /opt/conda/lib/python3.10/site-packages (from torch) (3.13.1)\r\n",
      "Requirement already satisfied: typing-extensions in /opt/conda/lib/python3.10/site-packages (from torch) (4.9.0)\r\n",
      "Requirement already satisfied: networkx in /opt/conda/lib/python3.10/site-packages (from torch) (3.2.1)\r\n",
      "Requirement already satisfied: jinja2 in /opt/conda/lib/python3.10/site-packages (from torch) (3.1.2)\r\n",
      "Requirement already satisfied: fsspec in /opt/conda/lib/python3.10/site-packages (from torch) (2024.5.0)\r\n",
      "Requirement already satisfied: contourpy>=1.0.1 in /opt/conda/lib/python3.10/site-packages (from matplotlib) (1.2.0)\r\n",
      "Requirement already satisfied: cycler>=0.10 in /opt/conda/lib/python3.10/site-packages (from matplotlib) (0.12.1)\r\n",
      "Requirement already satisfied: fonttools>=4.22.0 in /opt/conda/lib/python3.10/site-packages (from matplotlib) (4.47.0)\r\n",
      "Requirement already satisfied: kiwisolver>=1.0.1 in /opt/conda/lib/python3.10/site-packages (from matplotlib) (1.4.5)\r\n",
      "Requirement already satisfied: packaging>=20.0 in /opt/conda/lib/python3.10/site-packages (from matplotlib) (21.3)\r\n",
      "Requirement already satisfied: pillow>=6.2.0 in /opt/conda/lib/python3.10/site-packages (from matplotlib) (9.5.0)\r\n",
      "Requirement already satisfied: pyparsing>=2.3.1 in /opt/conda/lib/python3.10/site-packages (from matplotlib) (3.1.1)\r\n",
      "Requirement already satisfied: python-dateutil>=2.7 in /opt/conda/lib/python3.10/site-packages (from matplotlib) (2.9.0.post0)\r\n",
      "Requirement already satisfied: scipy>=1.3.2 in /opt/conda/lib/python3.10/site-packages (from scikit-learn) (1.11.4)\r\n",
      "Requirement already satisfied: joblib>=1.1.1 in /opt/conda/lib/python3.10/site-packages (from scikit-learn) (1.4.2)\r\n",
      "Requirement already satisfied: threadpoolctl>=2.0.0 in /opt/conda/lib/python3.10/site-packages (from scikit-learn) (3.2.0)\r\n",
      "Requirement already satisfied: mpmath<1.4,>=1.1.0 in /opt/conda/lib/python3.10/site-packages (from sympy) (1.3.0)\r\n",
      "Requirement already satisfied: six>=1.5 in /opt/conda/lib/python3.10/site-packages (from python-dateutil>=2.7->matplotlib) (1.16.0)\r\n",
      "Requirement already satisfied: MarkupSafe>=2.0 in /opt/conda/lib/python3.10/site-packages (from jinja2->torch) (2.1.3)\r\n",
      "Downloading pykan-0.2.3-py3-none-any.whl (95 kB)\r\n",
      "\u001b[2K   \u001b[90m━━━━━━━━━━━━━━━━━━━━━━━━━━━━━━━━━━━━━━━━\u001b[0m \u001b[32m95.2/95.2 kB\u001b[0m \u001b[31m2.6 MB/s\u001b[0m eta \u001b[36m0:00:00\u001b[0m\r\n",
      "\u001b[?25hInstalling collected packages: pykan\r\n",
      "Successfully installed pykan-0.2.3\r\n"
     ]
    }
   ],
   "source": [
    "!pip install pykan torch numpy matplotlib scikit-learn tqdm sympy setuptools"
   ]
  },
  {
   "cell_type": "code",
   "execution_count": 2,
   "id": "3c42a80f",
   "metadata": {
    "_cell_guid": "e5cefb62-18cd-4a39-ab99-49838bc76684",
    "_uuid": "61e97d09-01aa-444e-9b27-f6baedcc8b61",
    "collapsed": false,
    "execution": {
     "iopub.execute_input": "2024-07-29T06:07:57.150387Z",
     "iopub.status.busy": "2024-07-29T06:07:57.149971Z",
     "iopub.status.idle": "2024-07-29T06:08:02.588010Z",
     "shell.execute_reply": "2024-07-29T06:08:02.586890Z"
    },
    "jupyter": {
     "outputs_hidden": false
    },
    "papermill": {
     "duration": 5.449628,
     "end_time": "2024-07-29T06:08:02.590606",
     "exception": false,
     "start_time": "2024-07-29T06:07:57.140978",
     "status": "completed"
    },
    "tags": []
   },
   "outputs": [],
   "source": [
    "import numpy as np\n",
    "import pandas as pd\n",
    "import matplotlib.pyplot as plt\n",
    "from scipy.integrate import solve_ivp\n",
    "import torch\n",
    "import torch.nn as nn\n",
    "from torch import autograd\n",
    "from kan import KAN\n",
    "import math\n",
    "import os"
   ]
  },
  {
   "cell_type": "code",
   "execution_count": 3,
   "id": "d575fc61",
   "metadata": {
    "_cell_guid": "54a0acd5-f6f8-4b86-9fc0-2a18e1defb74",
    "_uuid": "0deef3b7-1bb4-4710-a7d7-51e7c73a8301",
    "collapsed": false,
    "execution": {
     "iopub.execute_input": "2024-07-29T06:08:02.607587Z",
     "iopub.status.busy": "2024-07-29T06:08:02.607068Z",
     "iopub.status.idle": "2024-07-29T06:08:02.614497Z",
     "shell.execute_reply": "2024-07-29T06:08:02.613416Z"
    },
    "jupyter": {
     "outputs_hidden": false
    },
    "papermill": {
     "duration": 0.018528,
     "end_time": "2024-07-29T06:08:02.616882",
     "exception": false,
     "start_time": "2024-07-29T06:08:02.598354",
     "status": "completed"
    },
    "tags": []
   },
   "outputs": [],
   "source": [
    "from sympy import symbols, Function\n",
    "gamma_sym = symbols('gamma')\n",
    "gamma_func = Function('gamma')\n",
    "\n",
    "# Clear previous definitions\n",
    "del gamma_sym\n",
    "del gamma_func"
   ]
  },
  {
   "cell_type": "code",
   "execution_count": 4,
   "id": "e4f9e020",
   "metadata": {
    "_cell_guid": "5f0eb7f7-5c34-40e3-85fc-4cc1e01616ab",
    "_uuid": "51cbd932-8670-476f-a971-8958156f8258",
    "collapsed": false,
    "execution": {
     "iopub.execute_input": "2024-07-29T06:08:02.633375Z",
     "iopub.status.busy": "2024-07-29T06:08:02.632971Z",
     "iopub.status.idle": "2024-07-29T06:08:02.638449Z",
     "shell.execute_reply": "2024-07-29T06:08:02.637354Z"
    },
    "jupyter": {
     "outputs_hidden": false
    },
    "papermill": {
     "duration": 0.016234,
     "end_time": "2024-07-29T06:08:02.640637",
     "exception": false,
     "start_time": "2024-07-29T06:08:02.624403",
     "status": "completed"
    },
    "tags": []
   },
   "outputs": [],
   "source": [
    "# Initialize Constants\n",
    "Omega_val = 2 * np.pi  \n",
    "omega_val = Omega_val * 1.5 \n",
    "lambda_val = omega_val / 2 \n",
    "gamma_val = 1.3\n",
    "omegaSQ_val = omega_val ** 2\n",
    "f_val = gamma_val * omegaSQ_val"
   ]
  },
  {
   "cell_type": "code",
   "execution_count": 5,
   "id": "8402e587",
   "metadata": {
    "_cell_guid": "81ffaffc-d7ca-4f80-b2be-3cb5442e9656",
    "_uuid": "3d937afc-4f64-4a6f-ba4b-fc332ac2a8e5",
    "collapsed": false,
    "execution": {
     "iopub.execute_input": "2024-07-29T06:08:02.657664Z",
     "iopub.status.busy": "2024-07-29T06:08:02.656998Z",
     "iopub.status.idle": "2024-07-29T06:08:02.662739Z",
     "shell.execute_reply": "2024-07-29T06:08:02.661671Z"
    },
    "jupyter": {
     "outputs_hidden": false
    },
    "papermill": {
     "duration": 0.016631,
     "end_time": "2024-07-29T06:08:02.665006",
     "exception": false,
     "start_time": "2024-07-29T06:08:02.648375",
     "status": "completed"
    },
    "tags": []
   },
   "outputs": [],
   "source": [
    "# This is the function for scipy odeint that helps it to solve the diff equation\n",
    "# Differential equation\n",
    "def helper(t, theta):\n",
    "    theta, z = theta\n",
    "    dthetadt = [z, f_val * math.cos(Omega_val * t) - omegaSQ_val * math.sin(theta) - lambda_val * z]\n",
    "    return dthetadt"
   ]
  },
  {
   "cell_type": "code",
   "execution_count": 6,
   "id": "39251ea7",
   "metadata": {
    "_cell_guid": "e7104e2b-b6f7-4df8-972e-6ee7faee2fb9",
    "_uuid": "36376087-fef8-40b1-bc0b-986a47e28beb",
    "collapsed": false,
    "execution": {
     "iopub.execute_input": "2024-07-29T06:08:02.682241Z",
     "iopub.status.busy": "2024-07-29T06:08:02.681281Z",
     "iopub.status.idle": "2024-07-29T06:08:02.774235Z",
     "shell.execute_reply": "2024-07-29T06:08:02.773260Z"
    },
    "jupyter": {
     "outputs_hidden": false
    },
    "papermill": {
     "duration": 0.104019,
     "end_time": "2024-07-29T06:08:02.776647",
     "exception": false,
     "start_time": "2024-07-29T06:08:02.672628",
     "status": "completed"
    },
    "tags": []
   },
   "outputs": [],
   "source": [
    "# Define the driven damped pendulum differential equation\n",
    "#def driven_damped_pendulum(t, y, omega, lambda_, gamma, Omega):\n",
    "#    theta, omega_dot = y\n",
    "#   dydt = [omega_dot, -lambda_ * omega_dot - omega**2 * np.sin(theta) + gamma * np.cos(Omega * t)]\n",
    " #   return dydt\n",
    "\n",
    "\n",
    "    \n",
    "# Initial conditions\n",
    "y0 = [0, 0]\n",
    "start_val = 0\n",
    "end_val = 15\n",
    "\n",
    "initial_conditions = [0, 0]\n",
    "\n",
    "# Time points\n",
    "t = np.linspace(start_val, end_val, 1000)\n",
    "\n",
    "\n",
    "sol = solve_ivp(helper, [start_val, end_val], initial_conditions, t_eval=t, method='LSODA', rtol=1e-6, atol=1e-8)    \n",
    "\n",
    "# Solve the differential equation using solve_ivp\n",
    "# sol = solve_ivp(driven_damped_pendulum, [t[0], t[-1]], y0, args=(omega_val, lambda_val, gamma_val, Omega_val), t_eval=t, method='LSODA', rtol=1e-6, atol=1e-8)"
   ]
  },
  {
   "cell_type": "code",
   "execution_count": 7,
   "id": "096e142f",
   "metadata": {
    "_cell_guid": "d361dc3d-23b3-4eb3-829b-fadf7cc0ca1e",
    "_uuid": "d5aead49-f910-49aa-8e24-4e456a28d8fb",
    "collapsed": false,
    "execution": {
     "iopub.execute_input": "2024-07-29T06:08:02.793949Z",
     "iopub.status.busy": "2024-07-29T06:08:02.793554Z",
     "iopub.status.idle": "2024-07-29T06:08:03.344622Z",
     "shell.execute_reply": "2024-07-29T06:08:03.343418Z"
    },
    "jupyter": {
     "outputs_hidden": false
    },
    "papermill": {
     "duration": 0.562095,
     "end_time": "2024-07-29T06:08:03.346987",
     "exception": false,
     "start_time": "2024-07-29T06:08:02.784892",
     "status": "completed"
    },
    "tags": []
   },
   "outputs": [
    {
     "data": {
      "image/png": "[encoded data removed]",
      "text/plain": [
       "<Figure size 1200x800 with 1 Axes>"
      ]
     },
     "metadata": {},
     "output_type": "display_data"
    }
   ],
   "source": [
    "plt.figure(figsize=(12, 8))\n",
    "plt.plot(sol.t, sol.y[0], label='Numerical Solution')\n",
    "plt.xlabel('t')\n",
    "plt.ylabel('phi(t) ')\n",
    "plt.grid(True)\n",
    "#plt.legend(loc='center left', bbox_to_anchor=(1, 0.5))\n",
    "plt.savefig('numerical_only.png')\n",
    "plt.show()"
   ]
  },
  {
   "cell_type": "code",
   "execution_count": 8,
   "id": "4b1da67e",
   "metadata": {
    "_cell_guid": "11211c60-6595-437b-abf0-1fda7af775d8",
    "_uuid": "c2672a6c-778a-459e-b19a-9f5a539cceef",
    "collapsed": false,
    "execution": {
     "iopub.execute_input": "2024-07-29T06:08:03.365200Z",
     "iopub.status.busy": "2024-07-29T06:08:03.364054Z",
     "iopub.status.idle": "2024-07-29T06:08:03.384654Z",
     "shell.execute_reply": "2024-07-29T06:08:03.383514Z"
    },
    "jupyter": {
     "outputs_hidden": false
    },
    "papermill": {
     "duration": 0.032319,
     "end_time": "2024-07-29T06:08:03.387213",
     "exception": false,
     "start_time": "2024-07-29T06:08:03.354894",
     "status": "completed"
    },
    "tags": []
   },
   "outputs": [],
   "source": [
    "# Save ODE solver results to CSV\n",
    "ode_df = pd.DataFrame({'t': sol.t, 'theta': sol.y[0], 'omega_dot': sol.y[1]})\n",
    "ode_df.to_csv('ode_solver_results.csv', index=False)"
   ]
  },
  {
   "cell_type": "code",
   "execution_count": 9,
   "id": "dce8c324",
   "metadata": {
    "_cell_guid": "d2d75e99-859f-4eb1-b214-89b2e5bc7d59",
    "_uuid": "a8e6ce47-a87a-4d11-a389-6a1ec7750a8c",
    "collapsed": false,
    "execution": {
     "iopub.execute_input": "2024-07-29T06:08:03.405376Z",
     "iopub.status.busy": "2024-07-29T06:08:03.404946Z",
     "iopub.status.idle": "2024-07-29T06:08:03.453511Z",
     "shell.execute_reply": "2024-07-29T06:08:03.452420Z"
    },
    "jupyter": {
     "outputs_hidden": false
    },
    "papermill": {
     "duration": 0.060627,
     "end_time": "2024-07-29T06:08:03.456065",
     "exception": false,
     "start_time": "2024-07-29T06:08:03.395438",
     "status": "completed"
    },
    "tags": []
   },
   "outputs": [],
   "source": [
    "# Generate training data\n",
    "x = torch.tensor(t, dtype=torch.float32).view(-1, 1)\n",
    "y = torch.tensor(sol.y[0], dtype=torch.float32).view(-1, 1)\n",
    "x_physics = torch.linspace(0, 1, 5000).view(-1,1).requires_grad_(True) # sample locations over the problem domain\n",
    "x_boundary = torch.tensor([[0.0]]).requires_grad_(True)"
   ]
  },
  {
   "cell_type": "code",
   "execution_count": 10,
   "id": "378e2744",
   "metadata": {
    "_cell_guid": "e480b554-3b65-412e-87a9-6c5a2dffbb8d",
    "_uuid": "81869f09-efa9-411c-b05c-2ada5495f772",
    "collapsed": false,
    "execution": {
     "iopub.execute_input": "2024-07-29T06:08:03.474421Z",
     "iopub.status.busy": "2024-07-29T06:08:03.473414Z",
     "iopub.status.idle": "2024-07-29T06:08:03.478950Z",
     "shell.execute_reply": "2024-07-29T06:08:03.477993Z"
    },
    "jupyter": {
     "outputs_hidden": false
    },
    "papermill": {
     "duration": 0.017251,
     "end_time": "2024-07-29T06:08:03.481377",
     "exception": false,
     "start_time": "2024-07-29T06:08:03.464126",
     "status": "completed"
    },
    "tags": []
   },
   "outputs": [
    {
     "name": "stdout",
     "output_type": "stream",
     "text": [
      "{<class 'torch.Tensor'>}\n"
     ]
    }
   ],
   "source": [
    "print({type(x_physics)})"
   ]
  },
  {
   "cell_type": "code",
   "execution_count": 11,
   "id": "8f118d8a",
   "metadata": {
    "_cell_guid": "734b26c7-dc57-4b4b-bfc6-4d39a1d74cb3",
    "_uuid": "f5323f7b-830e-4a00-9b8b-dd30887ce868",
    "collapsed": false,
    "execution": {
     "iopub.execute_input": "2024-07-29T06:08:03.500128Z",
     "iopub.status.busy": "2024-07-29T06:08:03.499088Z",
     "iopub.status.idle": "2024-07-29T06:08:05.231412Z",
     "shell.execute_reply": "2024-07-29T06:08:05.230435Z"
    },
    "jupyter": {
     "outputs_hidden": false
    },
    "papermill": {
     "duration": 1.74429,
     "end_time": "2024-07-29T06:08:05.233899",
     "exception": false,
     "start_time": "2024-07-29T06:08:03.489609",
     "status": "completed"
    },
    "tags": []
   },
   "outputs": [
    {
     "name": "stdout",
     "output_type": "stream",
     "text": [
      "checkpoint directory created: ./model\n",
      "saving model version 0.0\n"
     ]
    }
   ],
   "source": [
    "from kan import *\n",
    "# Define the KAN model\n",
    "physics_weight = 1e-3\n",
    "model = KAN(width=[1,10,10,1], grid=5, k=3, seed=0)\n",
    "#model = KAN(width=[1,10,1], grid=5, k=3, grid_eps=1.0) #noise scale base error after pykan updates\n",
    "model.update_grid_from_samples(x_physics)\n",
    "optimizer = torch.optim.Adam(model.parameters(), lr=1e-2)"
   ]
  },
  {
   "cell_type": "code",
   "execution_count": 12,
   "id": "8bc7f8bc",
   "metadata": {
    "_cell_guid": "1317bc87-8804-4a9e-8d5c-bd365330d8ad",
    "_uuid": "f97d2f4e-3a45-4c5c-b449-4bf8da3d80b0",
    "collapsed": false,
    "execution": {
     "iopub.execute_input": "2024-07-29T06:08:05.252787Z",
     "iopub.status.busy": "2024-07-29T06:08:05.251646Z",
     "iopub.status.idle": "2024-07-29T06:08:05.259085Z",
     "shell.execute_reply": "2024-07-29T06:08:05.257835Z"
    },
    "jupyter": {
     "outputs_hidden": false
    },
    "papermill": {
     "duration": 0.018936,
     "end_time": "2024-07-29T06:08:05.261142",
     "exception": false,
     "start_time": "2024-07-29T06:08:05.242206",
     "status": "completed"
    },
    "tags": []
   },
   "outputs": [],
   "source": [
    "# Convert to torch.Tensor\n",
    "Omega = torch.tensor(Omega_val, dtype=torch.float32)\n",
    "omega = torch.tensor(omega_val, dtype=torch.float32)\n",
    "lambda_ = torch.tensor(lambda_val, dtype=torch.float32)\n",
    "gamma = torch.tensor(gamma_val, dtype=torch.float32)  \n",
    "omegaSQ = torch.tensor(omegaSQ_val, dtype=torch.float32)\n",
    "f = torch.tensor(f_val, dtype=torch.float32)"
   ]
  },
  {
   "cell_type": "code",
   "execution_count": null,
   "id": "49e40e74",
   "metadata": {
    "_cell_guid": "40d40c1c-402c-4a77-bc62-9820ff69cd9c",
    "_uuid": "8fbcdd4d-4607-412e-9138-10e8250bfaf8",
    "collapsed": false,
    "jupyter": {
     "outputs_hidden": false
    },
    "papermill": {
     "duration": 0.008081,
     "end_time": "2024-07-29T06:08:05.278222",
     "exception": false,
     "start_time": "2024-07-29T06:08:05.270141",
     "status": "completed"
    },
    "tags": []
   },
   "outputs": [],
   "source": []
  },
  {
   "cell_type": "code",
   "execution_count": 13,
   "id": "b0fabe48",
   "metadata": {
    "_cell_guid": "4eb764eb-df5d-4338-8ad6-45da25beda45",
    "_uuid": "d56f4697-b78a-4851-a58c-e97852dc12dc",
    "collapsed": false,
    "execution": {
     "iopub.execute_input": "2024-07-29T06:08:05.296680Z",
     "iopub.status.busy": "2024-07-29T06:08:05.295641Z",
     "iopub.status.idle": "2024-07-29T06:49:35.449666Z",
     "shell.execute_reply": "2024-07-29T06:49:35.448441Z"
    },
    "jupyter": {
     "outputs_hidden": false
    },
    "papermill": {
     "duration": 2490.175787,
     "end_time": "2024-07-29T06:49:35.462150",
     "exception": false,
     "start_time": "2024-07-29T06:08:05.286363",
     "status": "completed"
    },
    "tags": []
   },
   "outputs": [
    {
     "name": "stdout",
     "output_type": "stream",
     "text": [
      "Epoch [100/4000], Total Loss: 0.6167\n",
      "Epoch [200/4000], Total Loss: 0.6159\n",
      "Epoch [300/4000], Total Loss: 0.6157\n",
      "Epoch [400/4000], Total Loss: 0.6157\n",
      "Epoch [500/4000], Total Loss: 0.6156\n",
      "Epoch [600/4000], Total Loss: 0.6158\n",
      "Epoch [700/4000], Total Loss: 0.6156\n",
      "Epoch [800/4000], Total Loss: 0.6275\n",
      "Epoch [900/4000], Total Loss: 0.6156\n",
      "Epoch [1000/4000], Total Loss: 0.6161\n",
      "Epoch [1100/4000], Total Loss: 0.6162\n",
      "Epoch [1200/4000], Total Loss: 0.6158\n",
      "Epoch [1300/4000], Total Loss: 0.6160\n",
      "Epoch [1400/4000], Total Loss: 0.6156\n",
      "Epoch [1500/4000], Total Loss: 0.6160\n",
      "Epoch [1600/4000], Total Loss: 0.6157\n",
      "Epoch [1700/4000], Total Loss: 0.6170\n",
      "Epoch [1800/4000], Total Loss: 0.6170\n",
      "Epoch [1900/4000], Total Loss: 0.6171\n",
      "Epoch [2000/4000], Total Loss: 0.6156\n",
      "Epoch [2100/4000], Total Loss: 0.6156\n",
      "Epoch [2200/4000], Total Loss: 0.6161\n",
      "Epoch [2300/4000], Total Loss: 0.6160\n",
      "Epoch [2400/4000], Total Loss: 0.6160\n",
      "Epoch [2500/4000], Total Loss: 0.6155\n",
      "Epoch [2600/4000], Total Loss: 0.6156\n",
      "Epoch [2700/4000], Total Loss: 0.6157\n",
      "Epoch [2800/4000], Total Loss: 0.6160\n",
      "Epoch [2900/4000], Total Loss: 0.6159\n",
      "Epoch [3000/4000], Total Loss: 0.6159\n",
      "Epoch [3100/4000], Total Loss: 0.6155\n",
      "Epoch [3200/4000], Total Loss: 0.6157\n",
      "Epoch [3300/4000], Total Loss: 0.6160\n",
      "Epoch [3400/4000], Total Loss: 0.6176\n",
      "Epoch [3500/4000], Total Loss: 0.6156\n",
      "Epoch [3600/4000], Total Loss: 0.6155\n",
      "Epoch [3700/4000], Total Loss: 0.6156\n",
      "Epoch [3800/4000], Total Loss: 0.6156\n",
      "Epoch [3900/4000], Total Loss: 0.6155\n",
      "Epoch [4000/4000], Total Loss: 0.6155\n"
     ]
    }
   ],
   "source": [
    "# Training loop\n",
    "\n",
    "epochs = 4000\n",
    "losses = {'boundaryloss': [], 'physicsloss': [], 'totalloss': []}\n",
    "\n",
    "for i in range(epochs):\n",
    "    optimizer.zero_grad()\n",
    "    \n",
    "    # Compute the \"physics loss\"\n",
    "    yhp = model(x_physics)\n",
    "    dx  = torch.autograd.grad(yhp, x_physics, torch.ones_like(yhp), create_graph=True)[0] # computes dy/dx\n",
    "    dx2 = torch.autograd.grad(dx, x_physics, torch.ones_like(dx), create_graph=True)[0]  # computes d^2y/dx^2\n",
    "    physics = dx2 - omegaSQ * torch.sin(yhp) - lambda_ * dx + f * torch.cos(Omega * x_physics)  # residual of the helper differential equation\n",
    "    physicsloss = physics_weight * torch.mean(physics**2)\n",
    "\n",
    "    \n",
    "    # Compute the \"boundary loss\"\n",
    "    y_boundary = model(x_boundary)\n",
    "    dx_boundary = torch.autograd.grad(y_boundary, x_boundary, torch.ones_like(y_boundary), create_graph=True)[0]\n",
    "    boundaryloss = torch.squeeze((y_boundary - 0.0)**2 + dx_boundary**2)\n",
    "    \n",
    "    # Combine losses\n",
    "    loss = boundaryloss + physicsloss\n",
    "    loss.backward()  # Backpropagation\n",
    "    optimizer.step()  # Update parameters\n",
    "    \n",
    "    # Store losses\n",
    "    losses['boundaryloss'].append(boundaryloss.detach().item())\n",
    "    losses['physicsloss'].append(physicsloss.detach().item())\n",
    "    losses['totalloss'].append(loss.detach().item())\n",
    "\n",
    "    if (i+1) % 100 == 0:\n",
    "        print(f'Epoch [{i+1}/{epochs}], Total Loss: {loss.item():.4f}')"
   ]
  },
  {
   "cell_type": "code",
   "execution_count": 14,
   "id": "69e4cb92",
   "metadata": {
    "_cell_guid": "a798bf57-5ffe-4917-bab9-7a819a1eddc2",
    "_uuid": "578b138d-b05f-4b20-a1eb-9199814a1e86",
    "collapsed": false,
    "execution": {
     "iopub.execute_input": "2024-07-29T06:49:35.485919Z",
     "iopub.status.busy": "2024-07-29T06:49:35.484923Z",
     "iopub.status.idle": "2024-07-29T06:49:35.491196Z",
     "shell.execute_reply": "2024-07-29T06:49:35.490205Z"
    },
    "jupyter": {
     "outputs_hidden": false
    },
    "papermill": {
     "duration": 0.020867,
     "end_time": "2024-07-29T06:49:35.493712",
     "exception": false,
     "start_time": "2024-07-29T06:49:35.472845",
     "status": "completed"
    },
    "tags": []
   },
   "outputs": [
    {
     "name": "stdout",
     "output_type": "stream",
     "text": [
      "\n",
      "Final Losses:\n",
      "Boundary Loss: 0.3152\n",
      "Physics Loss: 0.3003\n",
      "Total Loss: 0.6155\n"
     ]
    }
   ],
   "source": [
    "# Print final losses\n",
    "print(\"\\nFinal Losses:\")\n",
    "print(f\"Boundary Loss: {losses['boundaryloss'][-1]:.4f}\")\n",
    "print(f\"Physics Loss: {losses['physicsloss'][-1]:.4f}\")\n",
    "print(f\"Total Loss: {losses['totalloss'][-1]:.4f}\")"
   ]
  },
  {
   "cell_type": "code",
   "execution_count": 15,
   "id": "417e9647",
   "metadata": {
    "_cell_guid": "3e72eed7-63bb-49d5-a3e7-0832aa6681b9",
    "_uuid": "8003487e-fb85-4270-aca3-2dd80b3a5f98",
    "collapsed": false,
    "execution": {
     "iopub.execute_input": "2024-07-29T06:49:35.517112Z",
     "iopub.status.busy": "2024-07-29T06:49:35.516704Z",
     "iopub.status.idle": "2024-07-29T06:49:35.546067Z",
     "shell.execute_reply": "2024-07-29T06:49:35.544914Z"
    },
    "jupyter": {
     "outputs_hidden": false
    },
    "papermill": {
     "duration": 0.043834,
     "end_time": "2024-07-29T06:49:35.548536",
     "exception": false,
     "start_time": "2024-07-29T06:49:35.504702",
     "status": "completed"
    },
    "tags": []
   },
   "outputs": [],
   "source": [
    "# Save KAN loss values to CSV\n",
    "loss_df = pd.DataFrame(losses)\n",
    "loss_df.to_csv('kan_loss_values.csv', index=False)"
   ]
  },
  {
   "cell_type": "code",
   "execution_count": 16,
   "id": "1c754b0d",
   "metadata": {
    "_cell_guid": "b9407889-8484-4c1f-a2bb-8fe5fb1934cd",
    "_uuid": "61b1b40e-0320-4cce-9ac6-ea7fef58759e",
    "collapsed": false,
    "execution": {
     "iopub.execute_input": "2024-07-29T06:49:35.572749Z",
     "iopub.status.busy": "2024-07-29T06:49:35.571986Z",
     "iopub.status.idle": "2024-07-29T06:49:35.607690Z",
     "shell.execute_reply": "2024-07-29T06:49:35.606175Z"
    },
    "jupyter": {
     "outputs_hidden": false
    },
    "papermill": {
     "duration": 0.050668,
     "end_time": "2024-07-29T06:49:35.610204",
     "exception": false,
     "start_time": "2024-07-29T06:49:35.559536",
     "status": "completed"
    },
    "tags": []
   },
   "outputs": [],
   "source": [
    "# Predict using the KAN model\n",
    "x_test = torch.tensor(t, dtype=torch.float32).view(-1, 1)\n",
    "y_kan = model(x_test).detach().numpy()"
   ]
  },
  {
   "cell_type": "code",
   "execution_count": 17,
   "id": "1df355ad",
   "metadata": {
    "_cell_guid": "ff67e304-fe6c-4764-8def-3566a3519e6d",
    "_uuid": "05a43a21-7449-4a9d-9360-bdf5e0765e10",
    "collapsed": false,
    "execution": {
     "iopub.execute_input": "2024-07-29T06:49:35.633850Z",
     "iopub.status.busy": "2024-07-29T06:49:35.633047Z",
     "iopub.status.idle": "2024-07-29T06:49:35.643621Z",
     "shell.execute_reply": "2024-07-29T06:49:35.642714Z"
    },
    "jupyter": {
     "outputs_hidden": false
    },
    "papermill": {
     "duration": 0.024833,
     "end_time": "2024-07-29T06:49:35.645934",
     "exception": false,
     "start_time": "2024-07-29T06:49:35.621101",
     "status": "completed"
    },
    "tags": []
   },
   "outputs": [],
   "source": [
    "# Save KAN results to CSV\n",
    "kan_df = pd.DataFrame({'t': t, 'theta': y_kan.squeeze()})\n",
    "kan_df.to_csv('kan_results.csv', index=False)"
   ]
  },
  {
   "cell_type": "code",
   "execution_count": 18,
   "id": "0a43526a",
   "metadata": {
    "_cell_guid": "a13c5829-0152-4aac-abc0-bceaf6e35ba6",
    "_uuid": "4c00f31c-6390-4664-9f82-38888f3db278",
    "collapsed": false,
    "execution": {
     "iopub.execute_input": "2024-07-29T06:49:35.669176Z",
     "iopub.status.busy": "2024-07-29T06:49:35.668767Z",
     "iopub.status.idle": "2024-07-29T06:49:36.117771Z",
     "shell.execute_reply": "2024-07-29T06:49:36.116700Z"
    },
    "jupyter": {
     "outputs_hidden": false
    },
    "papermill": {
     "duration": 0.463332,
     "end_time": "2024-07-29T06:49:36.120124",
     "exception": false,
     "start_time": "2024-07-29T06:49:35.656792",
     "status": "completed"
    },
    "tags": []
   },
   "outputs": [
    {
     "data": {
      "image/png": "[encoded data removed]",
      "text/plain": [
       "<Figure size 1200x800 with 1 Axes>"
      ]
     },
     "metadata": {},
     "output_type": "display_data"
    }
   ],
   "source": [
    "# Plot both the numerical and KAN solutions \n",
    "plt.figure(figsize=(12, 8))  \n",
    "plt.plot(sol.t, sol.y[0], label='Numerical Solution')\n",
    "plt.plot(t, y_kan, label='KAN Solution')\n",
    "plt.xlabel('t')\n",
    "plt.ylabel('phi(t)')\n",
    "plt.legend()\n",
    "plt.title('Numerical vs KAN Solution')\n",
    "\n",
    "\n",
    "plt.savefig('/kaggle/working/KAN_vs_Numerical_1_1.png')\n",
    "plt.show()"
   ]
  },
  {
   "cell_type": "code",
   "execution_count": 19,
   "id": "26a0852c",
   "metadata": {
    "_cell_guid": "b4529a1c-4684-4916-a922-8bb54f0d5a1d",
    "_uuid": "4c97e74d-b076-4d26-ba7b-276ac5c8fb69",
    "collapsed": false,
    "execution": {
     "iopub.execute_input": "2024-07-29T06:49:36.144708Z",
     "iopub.status.busy": "2024-07-29T06:49:36.144340Z",
     "iopub.status.idle": "2024-07-29T06:49:36.562412Z",
     "shell.execute_reply": "2024-07-29T06:49:36.561351Z"
    },
    "jupyter": {
     "outputs_hidden": false
    },
    "papermill": {
     "duration": 0.432877,
     "end_time": "2024-07-29T06:49:36.564578",
     "exception": false,
     "start_time": "2024-07-29T06:49:36.131701",
     "status": "completed"
    },
    "tags": []
   },
   "outputs": [
    {
     "data": {
      "image/png": "[encoded data removed]",
      "text/plain": [
       "<Figure size 1200x800 with 1 Axes>"
      ]
     },
     "metadata": {},
     "output_type": "display_data"
    }
   ],
   "source": [
    "# Plot both the numerical and KAN solutions \n",
    "plt.figure(figsize=(12, 8))  \n",
    "plt.plot(t, y_kan, label='KAN Solution')\n",
    "plt.xlabel('t')\n",
    "plt.ylabel('phi(t)')\n",
    "plt.legend()\n",
    "plt.title('KAN Solution Only')\n",
    "\n",
    "\n",
    "plt.savefig('/kaggle/working/KAN_only_1_3.png')\n",
    "plt.show()"
   ]
  },
  {
   "cell_type": "code",
   "execution_count": 20,
   "id": "26b3be5e",
   "metadata": {
    "_cell_guid": "de37d557-b66c-4cab-b155-89de71933860",
    "_uuid": "5a9a1596-922d-49a0-a903-d6636d230884",
    "collapsed": false,
    "execution": {
     "iopub.execute_input": "2024-07-29T06:49:36.590722Z",
     "iopub.status.busy": "2024-07-29T06:49:36.590334Z",
     "iopub.status.idle": "2024-07-29T06:49:36.594764Z",
     "shell.execute_reply": "2024-07-29T06:49:36.593838Z"
    },
    "jupyter": {
     "outputs_hidden": false
    },
    "papermill": {
     "duration": 0.020038,
     "end_time": "2024-07-29T06:49:36.596964",
     "exception": false,
     "start_time": "2024-07-29T06:49:36.576926",
     "status": "completed"
    },
    "tags": []
   },
   "outputs": [],
   "source": [
    "# Plot the KAN grid\n",
    "\n",
    "#model.plot()"
   ]
  },
  {
   "cell_type": "code",
   "execution_count": 21,
   "id": "3ef51432",
   "metadata": {
    "_cell_guid": "6c88392d-c9d9-4e92-9335-d183036690ca",
    "_uuid": "ff9dce3f-e783-494d-b922-7685379108a2",
    "collapsed": false,
    "execution": {
     "iopub.execute_input": "2024-07-29T06:49:36.623249Z",
     "iopub.status.busy": "2024-07-29T06:49:36.622820Z",
     "iopub.status.idle": "2024-07-29T06:49:36.627356Z",
     "shell.execute_reply": "2024-07-29T06:49:36.626339Z"
    },
    "jupyter": {
     "outputs_hidden": false
    },
    "papermill": {
     "duration": 0.02022,
     "end_time": "2024-07-29T06:49:36.629580",
     "exception": false,
     "start_time": "2024-07-29T06:49:36.609360",
     "status": "completed"
    },
    "tags": []
   },
   "outputs": [],
   "source": [
    "# Try time up to 20\n",
    "#"
   ]
  }
 ],
 "metadata": {
  "kaggle": {
   "accelerator": "none",
   "dataSources": [],
   "isGpuEnabled": false,
   "isInternetEnabled": true,
   "language": "python",
   "sourceType": "notebook"
  },
  "kernelspec": {
   "display_name": "Python 3",
   "language": "python",
   "name": "python3"
  },
  "language_info": {
   "codemirror_mode": {
    "name": "ipython",
    "version": 3
   },
   "file_extension": ".py",
   "mimetype": "text/x-python",
   "name": "python",
   "nbconvert_exporter": "python",
   "pygments_lexer": "ipython3",
   "version": "3.10.13"
  },
  "papermill": {
   "default_parameters": {},
   "duration": 2517.021855,
   "end_time": "2024-07-29T06:49:37.969133",
   "environment_variables": {},
   "exception": null,
   "input_path": "__notebook__.ipynb",
   "output_path": "__notebook__.ipynb",
   "parameters": {},
   "start_time": "2024-07-29T06:07:40.947278",
   "version": "2.5.0"
  }
 },
 "nbformat": 4,
 "nbformat_minor": 5
}
