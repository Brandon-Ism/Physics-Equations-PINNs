{
 "cells": [
  {
   "cell_type": "markdown",
   "metadata": {},
   "source": [
    "# Numerical Solution of a Damped Driven Pendulum Using Traditional ODE Solvers\n",
    "\n",
    "***Author: Brandon I. (brandon.ismalej.671@my.csun.edu)***"
   ]
  },
  {
   "cell_type": "markdown",
   "metadata": {},
   "source": [
    "## Introduction\n",
    "This notebook explores the numerical solution of a damped driven pendulum, a classic problem in dynamics, using traditional ODE solving techniques implemented using SciPy. \n",
    "We focus on understanding the system's response under damping and external forcing conditions."
   ]
  },
  {
   "cell_type": "code",
   "execution_count": 3,
   "metadata": {},
   "outputs": [
    {
     "ename": "ModuleNotFoundError",
     "evalue": "No module named 'numpy'",
     "output_type": "error",
     "traceback": [
      "\u001b[0;31m---------------------------------------------------------------------------\u001b[0m",
      "\u001b[0;31mModuleNotFoundError\u001b[0m                       Traceback (most recent call last)",
      "Cell \u001b[0;32mIn[3], line 1\u001b[0m\n\u001b[0;32m----> 1\u001b[0m \u001b[38;5;28;01mimport\u001b[39;00m \u001b[38;5;21;01mnumpy\u001b[39;00m \u001b[38;5;28;01mas\u001b[39;00m \u001b[38;5;21;01mnp\u001b[39;00m\n\u001b[1;32m      2\u001b[0m \u001b[38;5;28;01mfrom\u001b[39;00m \u001b[38;5;21;01mscipy\u001b[39;00m\u001b[38;5;21;01m.\u001b[39;00m\u001b[38;5;21;01mintegrate\u001b[39;00m \u001b[38;5;28;01mimport\u001b[39;00m solve_ivp\n\u001b[1;32m      3\u001b[0m \u001b[38;5;28;01mimport\u001b[39;00m \u001b[38;5;21;01mmatplotlib\u001b[39;00m\u001b[38;5;21;01m.\u001b[39;00m\u001b[38;5;21;01mpyplot\u001b[39;00m \u001b[38;5;28;01mas\u001b[39;00m \u001b[38;5;21;01mplt\u001b[39;00m \n",
      "\u001b[0;31mModuleNotFoundError\u001b[0m: No module named 'numpy'"
     ]
    }
   ],
   "source": [
    "import numpy as np\n",
    "from scipy.integrate import solve_ivp\n",
    "import matplotlib.pyplot as plt "
   ]
  },
  {
   "cell_type": "code",
   "execution_count": null,
   "metadata": {},
   "outputs": [
    {
     "ename": "",
     "evalue": "",
     "output_type": "error",
     "traceback": [
      "\u001b[1;31mRunning cells with 'Python 3.10.12' requires the ipykernel package.\n",
      "\u001b[1;31mRun the following command to install 'ipykernel' into the Python environment. \n",
      "\u001b[1;31mCommand: '/bin/python3 -m pip install ipykernel -U --user --force-reinstall'"
     ]
    }
   ],
   "source": [
    "# Initialize Constants\n",
    "Omega = 2 * np.pi # Driving frequency\n",
    "omega = Omega * 1.5 # Natural frequency\n",
    "lambda_ = omega / 2 # Damping coefficient\n",
    "gamma = 1.98 # Driving strength, is in units of omega^2"
   ]
  },
  {
   "cell_type": "markdown",
   "metadata": {},
   "source": [
    "### Mathematical Model\n",
    "The equation of motion for the damped driven pendulum is given by:\n",
    "\n",
    "\\begin{align}\n",
    "m \\ddot{\\theta} + \\lambda \\dot{\\theta} + \\omega^2 \\sin(\\theta) = \\gamma \\omega^2 \\cos(\\Omega t) \n",
    "\\end{align}\n",
    "\n",
    "\\begin{align*}\n",
    "&\\text{where:} \\\\\n",
    "&m \\quad \\text{is the mass}, \\\\\n",
    "&\\lambda \\quad \\text{is the damping coefficient}, \\\\\n",
    "&\\omega \\quad \\text{is the natural frequency}, \\\\\n",
    "&\\gamma \\quad \\text{is the driving amplitude}, \\\\\n",
    "&\\Omega \\quad \\text{is the driving frequency}.\n",
    "\\end{align*}\n"
   ]
  },
  {
   "cell_type": "code",
   "execution_count": null,
   "metadata": {},
   "outputs": [
    {
     "ename": "",
     "evalue": "",
     "output_type": "error",
     "traceback": [
      "\u001b[1;31mRunning cells with 'Python 3.10.12' requires the ipykernel package.\n",
      "\u001b[1;31mRun the following command to install 'ipykernel' into the Python environment. \n",
      "\u001b[1;31mCommand: '/bin/python3 -m pip install ipykernel -U --user --force-reinstall'"
     ]
    }
   ],
   "source": [
    "# Defining the differential equation.\n",
    "def damped_driven_pendulum(t, y):\n",
    "    return [y[1], -lambda_ * y[1] - omega**2 * np.sin(y[0]) + gamma * omega**2 * np.cos(Omega * t)]"
   ]
  },
  {
   "cell_type": "code",
   "execution_count": null,
   "metadata": {},
   "outputs": [
    {
     "ename": "",
     "evalue": "",
     "output_type": "error",
     "traceback": [
      "\u001b[1;31mRunning cells with 'Python 3.10.12' requires the ipykernel package.\n",
      "\u001b[1;31mRun the following command to install 'ipykernel' into the Python environment. \n",
      "\u001b[1;31mCommand: '/bin/python3 -m pip install ipykernel -U --user --force-reinstall'"
     ]
    }
   ],
   "source": [
    "# Initial conditions\n",
    "y0 = [0,0.15]\n",
    "t_span = (0,600)\n",
    "t_eval = np.linspace(500,550,1000)"
   ]
  },
  {
   "cell_type": "code",
   "execution_count": null,
   "metadata": {},
   "outputs": [
    {
     "ename": "",
     "evalue": "",
     "output_type": "error",
     "traceback": [
      "\u001b[1;31mRunning cells with 'Python 3.10.12' requires the ipykernel package.\n",
      "\u001b[1;31mRun the following command to install 'ipykernel' into the Python environment. \n",
      "\u001b[1;31mCommand: '/bin/python3 -m pip install ipykernel -U --user --force-reinstall'"
     ]
    }
   ],
   "source": [
    "# Solve ODE\n",
    "sol = solve_ivp(damped_driven_pendulum, t_span, y0, t_eval=t_eval)"
   ]
  },
  {
   "cell_type": "code",
   "execution_count": null,
   "metadata": {},
   "outputs": [
    {
     "ename": "",
     "evalue": "",
     "output_type": "error",
     "traceback": [
      "\u001b[1;31mRunning cells with 'Python 3.10.12' requires the ipykernel package.\n",
      "\u001b[1;31mRun the following command to install 'ipykernel' into the Python environment. \n",
      "\u001b[1;31mCommand: '/bin/python3 -m pip install ipykernel -U --user --force-reinstall'"
     ]
    }
   ],
   "source": [
    "# Plotting\n",
    "plt.plot(sol.t, sol.y[0] / np.pi, label = 'Phi(t)/Pi', linewidth = 2)\n",
    "plt.xlabel('t')\n",
    "plt.ylabel('Phi(t)/Pi')\n",
    "plt.title('Damped Driven Pendulum Dynamics')\n",
    "plt.legend()\n",
    "plt.show()"
   ]
  },
  {
   "cell_type": "code",
   "execution_count": null,
   "metadata": {},
   "outputs": [
    {
     "ename": "",
     "evalue": "",
     "output_type": "error",
     "traceback": [
      "\u001b[1;31mRunning cells with 'Python 3.10.12' requires the ipykernel package.\n",
      "\u001b[1;31mRun the following command to install 'ipykernel' into the Python environment. \n",
      "\u001b[1;31mCommand: '/bin/python3 -m pip install ipykernel -U --user --force-reinstall'"
     ]
    }
   ],
   "source": [
    "# Evaluating at integer time steps\n",
    "t_int = np.arange(500,601)\n",
    "sol_int = solve_ivp(damped_driven_pendulum, t_span, y0, t_eval=t_int)\n",
    "print(sol_int.y[0] / np.pi)"
   ]
  },
  {
   "cell_type": "code",
   "execution_count": null,
   "metadata": {},
   "outputs": [],
   "source": [
    "def explore_gamma(gamma_min, gamma_max, delta_gamma, t_min, t_max):\n",
    "    gamma_values = np.arange(gamma_min, gamma_max + delta_gamma, delta_gamma)\n",
    "    results = []\n",
    "\n",
    "    for gamma in gamma_values:\n",
    "        sol = solve_ivp(lambda t, y: [y[1], gamma * omega**2 * np.cos(Omega * t) - lambda_ * y[1] - omega**2 * np.sin(y[0])],\n",
    "                        (0, t_max), [0, 0], t_eval=np.arange(t_min, t_max + 1))\n",
    "        phi_mod = (sol.y[0] + np.pi) % (2 * np.pi) - np.pi\n",
    "        results.append((gamma, phi_mod))\n",
    "\n",
    "    return results\n",
    "\n",
    "# Example usage\n",
    "gamma_results = explore_gamma(0.3, 0.3003, 0.0001, 500, 600)\n",
    "print(gamma_results)\n"
   ]
  }
 ],
 "metadata": {
  "kernelspec": {
   "display_name": "Python 3",
   "language": "python",
   "name": "python3"
  },
  "language_info": {
   "codemirror_mode": {
    "name": "ipython",
    "version": 3
   },
   "file_extension": ".py",
   "mimetype": "text/x-python",
   "name": "python",
   "nbconvert_exporter": "python",
   "pygments_lexer": "ipython3",
   "version": "3.10.12"
  }
 },
 "nbformat": 4,
 "nbformat_minor": 2
}
