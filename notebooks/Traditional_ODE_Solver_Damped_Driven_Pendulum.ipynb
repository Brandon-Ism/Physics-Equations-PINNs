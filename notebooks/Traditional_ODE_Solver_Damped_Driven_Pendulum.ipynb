{
 "cells": [
  {
   "cell_type": "markdown",
   "metadata": {},
   "source": [
    "# Numerical Solution of a Damped Driven Pendulum Using Traditional ODE Solvers\n",
    "\n",
    "***Author: Brandon I. (brandon.ismalej.671@my.csun.edu)***"
   ]
  },
  {
   "cell_type": "markdown",
   "metadata": {},
   "source": [
    "## Introduction\n",
    "This notebook explores the numerical solution of a damped driven pendulum, a classic problem in dynamics, using traditional ODE solving techniques implemented using SciPy. \n",
    "We focus on understanding the system's response under damping and external forcing conditions."
   ]
  },
  {
   "cell_type": "markdown",
   "metadata": {},
   "source": [
    "## Mathematical Model\n",
    "The equation of motion for the damped driven pendulum is given by:\n",
    "\n",
    "\\begin{align}\n",
    "m \\ddot{\\theta} + \\lambda \\dot{\\theta} + \\omega^2 \\sin(\\theta) = \\gamma \\omega^2 \\cos(\\Omega t) \n",
    "\\end{align}\n",
    "\n",
    "\\begin{align*}\n",
    "&\\text{where:} \\\\\n",
    "&m \\quad \\text{is the mass}, \\\\\n",
    "&\\lambda \\quad \\text{is the damping coefficient}, \\\\\n",
    "&\\omega \\quad \\text{is the natural frequency}, \\\\\n",
    "&\\gamma \\quad \\text{is the driving amplitude}, \\\\\n",
    "&\\Omega \\quad \\text{is the driving frequency}.\n",
    "\\end{align*}\n"
   ]
  }
 ],
 "metadata": {
  "kernelspec": {
   "display_name": "Python 3",
   "language": "python",
   "name": "python3"
  },
  "language_info": {
   "name": "python",
   "version": "3.10.12"
  }
 },
 "nbformat": 4,
 "nbformat_minor": 2
}
