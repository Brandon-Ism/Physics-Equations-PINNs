{
 "cells": [
  {
   "cell_type": "markdown",
   "metadata": {},
   "source": [
    "# Numerical Solution of a Damped Driven Pendulum Using Traditional ODE Solvers\n",
    "\n",
    "***Author: Brandon I. (brandon.ismalej.671@my.csun.edu)***"
   ]
  },
  {
   "cell_type": "markdown",
   "metadata": {},
   "source": [
    "## Introduction\n",
    "This notebook explores the numerical solution of a damped driven pendulum, a classic problem in dynamics, using traditional ODE solving techniques implemented using SciPy. \n",
    "We focus on understanding the system's response under damping and external forcing conditions."
   ]
  },
  {
   "cell_type": "code",
   "execution_count": 6,
   "metadata": {},
   "outputs": [],
   "source": [
    "import numpy as np\n",
    "from scipy.integrate import solve_ivp\n",
    "import matplotlib.pyplot as plt "
   ]
  },
  {
   "cell_type": "code",
   "execution_count": 7,
   "metadata": {},
   "outputs": [],
   "source": [
    "# Initialize Constants\n",
    "Omega = 2 * np.pi # Driving frequency\n",
    "omega = Omega * 1.5 # Natural frequency\n",
    "lambda_ = omega / 2 # Damping coefficient\n",
    "gamma = 1.077 # Driving strength, is in units of omega^2"
   ]
  },
  {
   "cell_type": "markdown",
   "metadata": {},
   "source": [
    "### Mathematical Model\n",
    "The equation of motion for the damped driven pendulum is given by:\n",
    "\n",
    "\\begin{align}\n",
    "m \\ddot{\\theta} + \\lambda \\dot{\\theta} + \\omega^2 \\sin(\\theta) = \\gamma \\omega^2 \\cos(\\Omega t) \n",
    "\\end{align}\n",
    "\n",
    "\\begin{align*}\n",
    "&\\text{where:} \\\\\n",
    "&m \\quad \\text{is the mass}, \\\\\n",
    "&\\lambda \\quad \\text{is the damping coefficient}, \\\\\n",
    "&\\omega \\quad \\text{is the natural frequency}, \\\\\n",
    "&\\gamma \\quad \\text{is the driving amplitude}, \\\\\n",
    "&\\Omega \\quad \\text{is the driving frequency}.\n",
    "\\end{align*}\n"
   ]
  },
  {
   "cell_type": "code",
   "execution_count": 8,
   "metadata": {},
   "outputs": [],
   "source": [
    "def damped_driven_pendulum(t, y):\n",
    "    return [y[1], -lambda_ * y[1] - omega**2 * np.sin(y[0]) + gamma * omega**2 * np.cos(Omega * t)]"
   ]
  }
 ],
 "metadata": {
  "kernelspec": {
   "display_name": "Python 3",
   "language": "python",
   "name": "python3"
  },
  "language_info": {
   "codemirror_mode": {
    "name": "ipython",
    "version": 3
   },
   "file_extension": ".py",
   "mimetype": "text/x-python",
   "name": "python",
   "nbconvert_exporter": "python",
   "pygments_lexer": "ipython3",
   "version": "3.10.12"
  }
 },
 "nbformat": 4,
 "nbformat_minor": 2
}
