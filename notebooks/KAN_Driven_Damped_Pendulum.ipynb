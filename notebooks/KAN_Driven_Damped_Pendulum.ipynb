{
 "cells": [
  {
   "cell_type": "markdown",
   "metadata": {},
   "source": [
    "## Solution of a Damped Driven Pendulum using a Kolmogorov-Arnold Network\n",
    "\n",
    "***Author: Brandon I. (brandon.ismalej.671@my.csun.edu)***\n",
    "\n",
    " NOTE: This notebook was written as a part of my assigned research duty and will be used as a component in the final deliverable. "
   ]
  },
  {
   "cell_type": "markdown",
   "metadata": {},
   "source": []
  }
 ],
 "metadata": {
  "kernelspec": {
   "display_name": ".venv",
   "language": "python",
   "name": "python3"
  },
  "language_info": {
   "name": "python",
   "version": "3.10.12"
  }
 },
 "nbformat": 4,
 "nbformat_minor": 2
}
