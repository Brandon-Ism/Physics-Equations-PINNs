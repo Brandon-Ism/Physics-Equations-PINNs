{
 "cells": [
  {
   "cell_type": "markdown",
   "metadata": {},
   "source": [
    "## Solution of a Damped Driven Pendulum using a Kolmogorov-Arnold Network (KAN)\n",
    "\n",
    "***Author: Brandon I. (brandon.ismalej.671@my.csun.edu)***\n",
    "\n",
    " NOTE: This notebook was written as a part of my assigned research duty and will be used as a component in the final deliverable. "
   ]
  },
  {
   "cell_type": "markdown",
   "metadata": {},
   "source": [
    "## Introduction\n",
    "\n",
    "This notebook explores the solution of a driven damped pendulum using a Kolmogorov-Arnold Network (KAN).\n",
    "This notebook aims to provide supporting data on the accuracy on the implementation of a Physics-Informed Neural Network (PINN) using a KAN, in comparison with other methods, such as a Mutil-Layer Perceptrons (MLPs) and other traditional ordinary differential equation (ODE) solvers like SciPy. "
   ]
  },
  {
   "cell_type": "code",
   "execution_count": 5,
   "metadata": {},
   "outputs": [],
   "source": [
    "# The following Python libraries must be installed before attempting to run the contents on this notebook.\n",
    "# pip install pykan torch numpy matplotlib scikit-learn tqdm\n"
   ]
  },
  {
   "cell_type": "code",
   "execution_count": 16,
   "metadata": {},
   "outputs": [],
   "source": [
    "from kan import *\n",
    "import torch\n",
    "import matplotlib.pyplot as plt\n",
    "from torch import autograd\n",
    "from tqdm import tqdm"
   ]
  },
  {
   "cell_type": "code",
   "execution_count": 17,
   "metadata": {},
   "outputs": [],
   "source": [
    "# Initialize Constants\n",
    "Omega = 2 * np.pi # Driving frequency\n",
    "omega = Omega * 1.5 # Natural frequency\n",
    "lambda_ = omega / 2 # Damping coefficient\n",
    "gamma = 1.077 # Driving strength"
   ]
  },
  {
   "cell_type": "code",
   "execution_count": null,
   "metadata": {},
   "outputs": [],
   "source": []
  }
 ],
 "metadata": {
  "kernelspec": {
   "display_name": ".venv",
   "language": "python",
   "name": "python3"
  },
  "language_info": {
   "codemirror_mode": {
    "name": "ipython",
    "version": 3
   },
   "file_extension": ".py",
   "mimetype": "text/x-python",
   "name": "python",
   "nbconvert_exporter": "python",
   "pygments_lexer": "ipython3",
   "version": "3.10.12"
  }
 },
 "nbformat": 4,
 "nbformat_minor": 2
}
