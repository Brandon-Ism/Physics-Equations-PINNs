{
 "cells": [
  {
   "cell_type": "markdown",
   "metadata": {},
   "source": [
    "## Solution of a Damped Driven Pendulum using a Kolmogorov-Arnold Network (KAN)\n",
    "\n",
    "***Author: Brandon I. (brandon.ismalej.671@my.csun.edu)***\n",
    "\n",
    " NOTE: This notebook was written as a part of my assigned research duty and will be used as a component in the final deliverable. "
   ]
  },
  {
   "cell_type": "markdown",
   "metadata": {},
   "source": [
    "## Introduction\n",
    "\n",
    "This notebook explores the solution of a driven damped pendulum using a Kolmogorov-Arnold Network (KAN).\n",
    "This notebook aims to provide supporting data on the accuracy on the implementation of a Physics-Informed Neural Network (PINN) using a KAN, in comparison with other methods, such as a Mutil-Layer Perceptrons (MLPs) and other traditional ordinary differential equation (ODE) solvers like SciPy. "
   ]
  }
 ],
 "metadata": {
  "kernelspec": {
   "display_name": ".venv",
   "language": "python",
   "name": "python3"
  },
  "language_info": {
   "name": "python",
   "version": "3.10.12"
  }
 },
 "nbformat": 4,
 "nbformat_minor": 2
}
