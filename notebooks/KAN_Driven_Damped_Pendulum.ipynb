{
 "cells": [
  {
   "cell_type": "markdown",
   "id": "8f1dd8b4",
   "metadata": {
    "_cell_guid": "5d8eeb36-27fd-4f68-998e-ab1aa91e404c",
    "_uuid": "68f745ed-1dc1-436a-bd6b-a17bfcdb3d40",
    "papermill": {
     "duration": 0.008379,
     "end_time": "2024-07-25T17:21:52.914389",
     "exception": false,
     "start_time": "2024-07-25T17:21:52.906010",
     "status": "completed"
    },
    "tags": []
   },
   "source": [
    "## Solution of a Driven Damped Pendulum using a Kolmogorov-Arnold Network (KAN)\n",
    "\n",
    "***Author: Brandon Ismalej (brandon.ismalej.671@my.csun.edu) - (https://github.com/Brandon-Ism)***"
   ]
  },
  {
   "cell_type": "code",
   "execution_count": 1,
   "id": "353ba773",
   "metadata": {
    "_cell_guid": "59d9f22a-0374-4717-8833-3bc05bddd5ba",
    "_uuid": "b435cd46-7a36-47f2-bc69-098887f9a823",
    "collapsed": false,
    "execution": {
     "iopub.execute_input": "2024-07-25T17:21:52.932637Z",
     "iopub.status.busy": "2024-07-25T17:21:52.932103Z",
     "iopub.status.idle": "2024-07-25T17:22:09.921008Z",
     "shell.execute_reply": "2024-07-25T17:22:09.919760Z"
    },
    "jupyter": {
     "outputs_hidden": false
    },
    "papermill": {
     "duration": 17.001422,
     "end_time": "2024-07-25T17:22:09.923725",
     "exception": false,
     "start_time": "2024-07-25T17:21:52.922303",
     "status": "completed"
    },
    "tags": []
   },
   "outputs": [
    {
     "name": "stdout",
     "output_type": "stream",
     "text": [
      "Collecting pykan\r\n",
      "  Downloading pykan-0.2.1-py3-none-any.whl.metadata (14 kB)\r\n",
      "Requirement already satisfied: torch in /opt/conda/lib/python3.10/site-packages (2.1.2+cpu)\r\n",
      "Requirement already satisfied: numpy in /opt/conda/lib/python3.10/site-packages (1.26.4)\r\n",
      "Requirement already satisfied: matplotlib in /opt/conda/lib/python3.10/site-packages (3.7.5)\r\n",
      "Requirement already satisfied: scikit-learn in /opt/conda/lib/python3.10/site-packages (1.2.2)\r\n",
      "Requirement already satisfied: tqdm in /opt/conda/lib/python3.10/site-packages (4.66.4)\r\n",
      "Requirement already satisfied: sympy in /opt/conda/lib/python3.10/site-packages (1.13.0)\r\n",
      "Requirement already satisfied: setuptools in /opt/conda/lib/python3.10/site-packages (69.0.3)\r\n",
      "Requirement already satisfied: filelock in /opt/conda/lib/python3.10/site-packages (from torch) (3.13.1)\r\n",
      "Requirement already satisfied: typing-extensions in /opt/conda/lib/python3.10/site-packages (from torch) (4.9.0)\r\n",
      "Requirement already satisfied: networkx in /opt/conda/lib/python3.10/site-packages (from torch) (3.2.1)\r\n",
      "Requirement already satisfied: jinja2 in /opt/conda/lib/python3.10/site-packages (from torch) (3.1.2)\r\n",
      "Requirement already satisfied: fsspec in /opt/conda/lib/python3.10/site-packages (from torch) (2024.5.0)\r\n",
      "Requirement already satisfied: contourpy>=1.0.1 in /opt/conda/lib/python3.10/site-packages (from matplotlib) (1.2.0)\r\n",
      "Requirement already satisfied: cycler>=0.10 in /opt/conda/lib/python3.10/site-packages (from matplotlib) (0.12.1)\r\n",
      "Requirement already satisfied: fonttools>=4.22.0 in /opt/conda/lib/python3.10/site-packages (from matplotlib) (4.47.0)\r\n",
      "Requirement already satisfied: kiwisolver>=1.0.1 in /opt/conda/lib/python3.10/site-packages (from matplotlib) (1.4.5)\r\n",
      "Requirement already satisfied: packaging>=20.0 in /opt/conda/lib/python3.10/site-packages (from matplotlib) (21.3)\r\n",
      "Requirement already satisfied: pillow>=6.2.0 in /opt/conda/lib/python3.10/site-packages (from matplotlib) (9.5.0)\r\n",
      "Requirement already satisfied: pyparsing>=2.3.1 in /opt/conda/lib/python3.10/site-packages (from matplotlib) (3.1.1)\r\n",
      "Requirement already satisfied: python-dateutil>=2.7 in /opt/conda/lib/python3.10/site-packages (from matplotlib) (2.9.0.post0)\r\n",
      "Requirement already satisfied: scipy>=1.3.2 in /opt/conda/lib/python3.10/site-packages (from scikit-learn) (1.11.4)\r\n",
      "Requirement already satisfied: joblib>=1.1.1 in /opt/conda/lib/python3.10/site-packages (from scikit-learn) (1.4.2)\r\n",
      "Requirement already satisfied: threadpoolctl>=2.0.0 in /opt/conda/lib/python3.10/site-packages (from scikit-learn) (3.2.0)\r\n",
      "Requirement already satisfied: mpmath<1.4,>=1.1.0 in /opt/conda/lib/python3.10/site-packages (from sympy) (1.3.0)\r\n",
      "Requirement already satisfied: six>=1.5 in /opt/conda/lib/python3.10/site-packages (from python-dateutil>=2.7->matplotlib) (1.16.0)\r\n",
      "Requirement already satisfied: MarkupSafe>=2.0 in /opt/conda/lib/python3.10/site-packages (from jinja2->torch) (2.1.3)\r\n",
      "Downloading pykan-0.2.1-py3-none-any.whl (74 kB)\r\n",
      "\u001b[2K   \u001b[90m━━━━━━━━━━━━━━━━━━━━━━━━━━━━━━━━━━━━━━━━\u001b[0m \u001b[32m74.2/74.2 kB\u001b[0m \u001b[31m2.7 MB/s\u001b[0m eta \u001b[36m0:00:00\u001b[0m\r\n",
      "\u001b[?25hInstalling collected packages: pykan\r\n",
      "Successfully installed pykan-0.2.1\r\n"
     ]
    }
   ],
   "source": [
    "!pip install pykan torch numpy matplotlib scikit-learn tqdm sympy setuptools"
   ]
  },
  {
   "cell_type": "code",
   "execution_count": 2,
   "id": "a5290f38",
   "metadata": {
    "_cell_guid": "785cc72e-9002-4f47-8046-3a785903dcd9",
    "_uuid": "62afd436-ac95-4c64-ab96-2db4955861ea",
    "collapsed": false,
    "execution": {
     "iopub.execute_input": "2024-07-25T17:22:09.944128Z",
     "iopub.status.busy": "2024-07-25T17:22:09.943086Z",
     "iopub.status.idle": "2024-07-25T17:22:15.856232Z",
     "shell.execute_reply": "2024-07-25T17:22:15.855072Z"
    },
    "jupyter": {
     "outputs_hidden": false
    },
    "papermill": {
     "duration": 5.926381,
     "end_time": "2024-07-25T17:22:15.859170",
     "exception": false,
     "start_time": "2024-07-25T17:22:09.932789",
     "status": "completed"
    },
    "tags": []
   },
   "outputs": [],
   "source": [
    "import numpy as np\n",
    "import pandas as pd\n",
    "import matplotlib.pyplot as plt\n",
    "from scipy.integrate import solve_ivp\n",
    "import torch\n",
    "import torch.nn as nn\n",
    "from torch import autograd\n",
    "from kan import KAN\n",
    "import os"
   ]
  },
  {
   "cell_type": "code",
   "execution_count": 3,
   "id": "60719948",
   "metadata": {
    "_cell_guid": "6924e723-1ea8-48c2-88f8-f1f504d016f9",
    "_uuid": "dcdd6524-a17e-4641-9688-373e2fa987fc",
    "collapsed": false,
    "execution": {
     "iopub.execute_input": "2024-07-25T17:22:15.881699Z",
     "iopub.status.busy": "2024-07-25T17:22:15.880365Z",
     "iopub.status.idle": "2024-07-25T17:22:15.886625Z",
     "shell.execute_reply": "2024-07-25T17:22:15.885605Z"
    },
    "jupyter": {
     "outputs_hidden": false
    },
    "papermill": {
     "duration": 0.019611,
     "end_time": "2024-07-25T17:22:15.889050",
     "exception": false,
     "start_time": "2024-07-25T17:22:15.869439",
     "status": "completed"
    },
    "tags": []
   },
   "outputs": [],
   "source": [
    "from sympy import symbols, Function\n",
    "gamma_sym = symbols('gamma')\n",
    "gamma_func = Function('gamma')\n",
    "\n",
    "# Clear previous definitions\n",
    "del gamma_sym\n",
    "del gamma_func"
   ]
  },
  {
   "cell_type": "code",
   "execution_count": 4,
   "id": "6f1bbaeb",
   "metadata": {
    "_cell_guid": "41048f0f-b358-4ad0-af91-041222ec00d3",
    "_uuid": "ef00c6d5-6d7b-486d-85e5-7f05a15412f0",
    "collapsed": false,
    "execution": {
     "iopub.execute_input": "2024-07-25T17:22:15.909657Z",
     "iopub.status.busy": "2024-07-25T17:22:15.909207Z",
     "iopub.status.idle": "2024-07-25T17:22:15.915058Z",
     "shell.execute_reply": "2024-07-25T17:22:15.914007Z"
    },
    "jupyter": {
     "outputs_hidden": false
    },
    "papermill": {
     "duration": 0.018563,
     "end_time": "2024-07-25T17:22:15.917363",
     "exception": false,
     "start_time": "2024-07-25T17:22:15.898800",
     "status": "completed"
    },
    "tags": []
   },
   "outputs": [],
   "source": [
    "# Initialize Constants\n",
    "Omega_val = 2 * np.pi  \n",
    "omega_val = Omega_val * 1.5 \n",
    "lambda_val = omega_val / 2 \n",
    "gamma_val = 0.8\n",
    "omegaSQ_val = omega_val ** 2\n",
    "f_val = gamma_val * omegaSQ_val"
   ]
  },
  {
   "cell_type": "code",
   "execution_count": 5,
   "id": "023525a6",
   "metadata": {
    "_cell_guid": "6ebae6af-d0ed-41ac-b075-6597faadc74e",
    "_uuid": "89dea9d4-f895-4ee3-8ad8-ec0714be9c91",
    "collapsed": false,
    "execution": {
     "iopub.execute_input": "2024-07-25T17:22:15.937194Z",
     "iopub.status.busy": "2024-07-25T17:22:15.936737Z",
     "iopub.status.idle": "2024-07-25T17:22:16.167785Z",
     "shell.execute_reply": "2024-07-25T17:22:16.166797Z"
    },
    "jupyter": {
     "outputs_hidden": false
    },
    "papermill": {
     "duration": 0.244228,
     "end_time": "2024-07-25T17:22:16.170570",
     "exception": false,
     "start_time": "2024-07-25T17:22:15.926342",
     "status": "completed"
    },
    "tags": []
   },
   "outputs": [],
   "source": [
    "# Define the driven damped pendulum differential equation\n",
    "def driven_damped_pendulum(t, y, omega, lambda_, gamma, Omega):\n",
    "    theta, omega_dot = y\n",
    "    dydt = [omega_dot, -lambda_ * omega_dot - omega**2 * np.sin(theta) + gamma * np.cos(Omega * t)]\n",
    "    return dydt\n",
    "\n",
    "# Initial conditions\n",
    "y0 = [0.0, 0.0]\n",
    "\n",
    "# Time points\n",
    "t = np.linspace(0, 15, 15000)\n",
    "\n",
    "# Solve the differential equation using solve_ivp\n",
    "sol = solve_ivp(driven_damped_pendulum, [t[0], t[-1]], y0, args=(omega_val, lambda_val, gamma_val, Omega_val), t_eval=t, method='LSODA', rtol=1e-6, atol=1e-8)"
   ]
  },
  {
   "cell_type": "code",
   "execution_count": 6,
   "id": "6757be94",
   "metadata": {
    "execution": {
     "iopub.execute_input": "2024-07-25T17:22:16.190062Z",
     "iopub.status.busy": "2024-07-25T17:22:16.189631Z",
     "iopub.status.idle": "2024-07-25T17:22:16.316861Z",
     "shell.execute_reply": "2024-07-25T17:22:16.315834Z"
    },
    "papermill": {
     "duration": 0.14019,
     "end_time": "2024-07-25T17:22:16.319647",
     "exception": false,
     "start_time": "2024-07-25T17:22:16.179457",
     "status": "completed"
    },
    "tags": []
   },
   "outputs": [],
   "source": [
    "# Save ODE solver results to CSV\n",
    "ode_df = pd.DataFrame({'t': sol.t, 'theta': sol.y[0], 'omega_dot': sol.y[1]})\n",
    "ode_df.to_csv('ode_solver_results.csv', index=False)\n"
   ]
  },
  {
   "cell_type": "code",
   "execution_count": 7,
   "id": "f3b092a1",
   "metadata": {
    "_cell_guid": "9f380b32-bd07-4507-8820-d6310327beb8",
    "_uuid": "81e25335-7220-46f6-b8db-25ea81a40589",
    "collapsed": false,
    "execution": {
     "iopub.execute_input": "2024-07-25T17:22:16.340582Z",
     "iopub.status.busy": "2024-07-25T17:22:16.339732Z",
     "iopub.status.idle": "2024-07-25T17:22:16.393415Z",
     "shell.execute_reply": "2024-07-25T17:22:16.392368Z"
    },
    "jupyter": {
     "outputs_hidden": false
    },
    "papermill": {
     "duration": 0.067757,
     "end_time": "2024-07-25T17:22:16.396438",
     "exception": false,
     "start_time": "2024-07-25T17:22:16.328681",
     "status": "completed"
    },
    "tags": []
   },
   "outputs": [],
   "source": [
    "# Generate training data\n",
    "x = torch.tensor(t, dtype=torch.float32).view(-1, 1)\n",
    "y = torch.tensor(sol.y[0], dtype=torch.float32).view(-1, 1)\n",
    "x_physics = torch.linspace(0, 15, 15000).view(-1,1).requires_grad_(True) # sample locations over the problem domain\n",
    "x_boundary = torch.tensor([[0.0]]).requires_grad_(True)"
   ]
  },
  {
   "cell_type": "code",
   "execution_count": 8,
   "id": "37803a17",
   "metadata": {
    "_cell_guid": "d585596b-2c73-49f7-81f4-e24b78e94f8b",
    "_uuid": "782a2712-bf9d-4894-bbd0-be7781016551",
    "collapsed": false,
    "execution": {
     "iopub.execute_input": "2024-07-25T17:22:16.416684Z",
     "iopub.status.busy": "2024-07-25T17:22:16.416254Z",
     "iopub.status.idle": "2024-07-25T17:22:16.422191Z",
     "shell.execute_reply": "2024-07-25T17:22:16.421120Z"
    },
    "jupyter": {
     "outputs_hidden": false
    },
    "papermill": {
     "duration": 0.019162,
     "end_time": "2024-07-25T17:22:16.424611",
     "exception": false,
     "start_time": "2024-07-25T17:22:16.405449",
     "status": "completed"
    },
    "tags": []
   },
   "outputs": [
    {
     "name": "stdout",
     "output_type": "stream",
     "text": [
      "{<class 'torch.Tensor'>}\n"
     ]
    }
   ],
   "source": [
    "print({type(x_physics)})"
   ]
  },
  {
   "cell_type": "code",
   "execution_count": 9,
   "id": "e0f6dd3f",
   "metadata": {
    "_cell_guid": "117ea5ec-45be-4493-bcc3-7391acf10102",
    "_uuid": "f4591d67-1d78-4758-936e-0de3583283db",
    "collapsed": false,
    "execution": {
     "iopub.execute_input": "2024-07-25T17:22:16.444217Z",
     "iopub.status.busy": "2024-07-25T17:22:16.443807Z",
     "iopub.status.idle": "2024-07-25T17:22:19.335347Z",
     "shell.execute_reply": "2024-07-25T17:22:19.334153Z"
    },
    "jupyter": {
     "outputs_hidden": false
    },
    "papermill": {
     "duration": 2.9046,
     "end_time": "2024-07-25T17:22:19.338266",
     "exception": false,
     "start_time": "2024-07-25T17:22:16.433666",
     "status": "completed"
    },
    "tags": []
   },
   "outputs": [],
   "source": [
    "from kan import *\n",
    "# Define the KAN model\n",
    "physics_weight = 1e-3\n",
    "model = KAN(width=[1,15,15,1], grid=5, k=3, seed=0)\n",
    "#model = KAN(width=[1,10,1], grid=5, k=3, grid_eps=1.0) #noise scale base error after pykan updates\n",
    "model.update_grid_from_samples(x_physics)\n",
    "optimizer = torch.optim.Adam(model.parameters(), lr=1e-2)"
   ]
  },
  {
   "cell_type": "code",
   "execution_count": 10,
   "id": "59d7ed8c",
   "metadata": {
    "_cell_guid": "f98b7333-6498-471c-8048-4816387eb063",
    "_uuid": "939e23a9-581c-4c4a-9314-1f0903b9f4c3",
    "collapsed": false,
    "execution": {
     "iopub.execute_input": "2024-07-25T17:22:19.359464Z",
     "iopub.status.busy": "2024-07-25T17:22:19.357976Z",
     "iopub.status.idle": "2024-07-25T17:22:19.366133Z",
     "shell.execute_reply": "2024-07-25T17:22:19.365114Z"
    },
    "jupyter": {
     "outputs_hidden": false
    },
    "papermill": {
     "duration": 0.021315,
     "end_time": "2024-07-25T17:22:19.368684",
     "exception": false,
     "start_time": "2024-07-25T17:22:19.347369",
     "status": "completed"
    },
    "tags": []
   },
   "outputs": [],
   "source": [
    "# Convert to torch.Tensor\n",
    "Omega = torch.tensor(Omega_val, dtype=torch.float32)\n",
    "omega = torch.tensor(omega_val, dtype=torch.float32)\n",
    "lambda_ = torch.tensor(lambda_val, dtype=torch.float32)\n",
    "gamma = torch.tensor(gamma_val, dtype=torch.float32)  \n",
    "omegaSQ = torch.tensor(omegaSQ_val, dtype=torch.float32)\n",
    "f = torch.tensor(f_val, dtype=torch.float32)"
   ]
  },
  {
   "cell_type": "code",
   "execution_count": null,
   "id": "ff63df5f",
   "metadata": {
    "_cell_guid": "dc2f83ff-c8e6-44a8-8d93-a5852ecd7883",
    "_uuid": "3959a336-356f-4beb-804d-c648a6b97216",
    "collapsed": false,
    "jupyter": {
     "outputs_hidden": false
    },
    "papermill": {
     "duration": 0.008758,
     "end_time": "2024-07-25T17:22:19.386511",
     "exception": false,
     "start_time": "2024-07-25T17:22:19.377753",
     "status": "completed"
    },
    "tags": []
   },
   "outputs": [],
   "source": []
  },
  {
   "cell_type": "code",
   "execution_count": 11,
   "id": "1b238407",
   "metadata": {
    "_cell_guid": "a0173ada-cce0-4bb6-964d-f8c1582c456b",
    "_uuid": "c9a4b1d2-0bc8-4234-9ce3-5585ab420f54",
    "collapsed": false,
    "execution": {
     "iopub.execute_input": "2024-07-25T17:22:19.406799Z",
     "iopub.status.busy": "2024-07-25T17:22:19.405512Z",
     "iopub.status.idle": "2024-07-26T04:31:09.013326Z",
     "shell.execute_reply": "2024-07-26T04:31:09.011784Z"
    },
    "jupyter": {
     "outputs_hidden": false
    },
    "papermill": {
     "duration": 40129.62135,
     "end_time": "2024-07-26T04:31:09.016756",
     "exception": false,
     "start_time": "2024-07-25T17:22:19.395406",
     "status": "completed"
    },
    "tags": []
   },
   "outputs": [
    {
     "name": "stdout",
     "output_type": "stream",
     "text": [
      "Epoch [1000/14500], Total Loss: 0.0004\n",
      "Epoch [2000/14500], Total Loss: 0.0003\n",
      "Epoch [3000/14500], Total Loss: 0.0003\n",
      "Epoch [4000/14500], Total Loss: 0.0003\n",
      "Epoch [5000/14500], Total Loss: 0.0002\n",
      "Epoch [6000/14500], Total Loss: 0.0001\n",
      "Epoch [7000/14500], Total Loss: 0.0009\n",
      "Epoch [8000/14500], Total Loss: 0.0000\n",
      "Epoch [9000/14500], Total Loss: 0.0000\n",
      "Epoch [10000/14500], Total Loss: 0.0000\n",
      "Epoch [11000/14500], Total Loss: 0.0000\n",
      "Epoch [12000/14500], Total Loss: 0.0000\n",
      "Epoch [13000/14500], Total Loss: 0.0000\n",
      "Epoch [14000/14500], Total Loss: 0.0000\n"
     ]
    }
   ],
   "source": [
    "# Training loop\n",
    "\n",
    "epochs = 14500\n",
    "losses = {'boundaryloss': [], 'physicsloss': [], 'totalloss': []}\n",
    "\n",
    "for i in range(epochs):\n",
    "    optimizer.zero_grad()\n",
    "    \n",
    "    # Compute the \"physics loss\"\n",
    "    yhp = model(x_physics)\n",
    "    dx  = torch.autograd.grad(yhp, x_physics, torch.ones_like(yhp), create_graph=True)[0] # computes dy/dx\n",
    "    dx2 = torch.autograd.grad(dx, x_physics, torch.ones_like(dx), create_graph=True)[0]  # computes d^2y/dx^2\n",
    "    physics = dx2 + lambda_ * dx + omega**2 * torch.sin(yhp) - gamma * torch.cos(Omega * x_physics)  # residual of the driven damped pendulum differential equation\n",
    "    physicsloss = physics_weight * torch.mean(physics**2)\n",
    "    \n",
    "    # Compute the \"boundary loss\"\n",
    "    y_boundary = model(x_boundary)\n",
    "    dx_boundary = torch.autograd.grad(y_boundary, x_boundary, torch.ones_like(y_boundary), create_graph=True)[0]\n",
    "    boundaryloss = torch.squeeze((y_boundary - 0.0)**2 + dx_boundary**2)\n",
    "    \n",
    "    # Combine losses\n",
    "    loss = boundaryloss + physicsloss\n",
    "    loss.backward()  # Backpropagation\n",
    "    optimizer.step()  # Update parameters\n",
    "    \n",
    "    # Store losses\n",
    "    losses['boundaryloss'].append(boundaryloss.detach().item())\n",
    "    losses['physicsloss'].append(physicsloss.detach().item())\n",
    "    losses['totalloss'].append(loss.detach().item())\n",
    "\n",
    "    if (i+1) % 1000 == 0:\n",
    "        print(f'Epoch [{i+1}/{epochs}], Total Loss: {loss.item():.4f}')"
   ]
  },
  {
   "cell_type": "code",
   "execution_count": 12,
   "id": "fc75fe65",
   "metadata": {
    "_cell_guid": "353854a1-d6e1-4e1b-8f69-1adde5640a1a",
    "_uuid": "7b45c174-a317-41f0-bf7d-1b26b8dbe4df",
    "collapsed": false,
    "execution": {
     "iopub.execute_input": "2024-07-26T04:31:09.040106Z",
     "iopub.status.busy": "2024-07-26T04:31:09.039679Z",
     "iopub.status.idle": "2024-07-26T04:31:09.045785Z",
     "shell.execute_reply": "2024-07-26T04:31:09.044768Z"
    },
    "jupyter": {
     "outputs_hidden": false
    },
    "papermill": {
     "duration": 0.020988,
     "end_time": "2024-07-26T04:31:09.048841",
     "exception": false,
     "start_time": "2024-07-26T04:31:09.027853",
     "status": "completed"
    },
    "tags": []
   },
   "outputs": [
    {
     "name": "stdout",
     "output_type": "stream",
     "text": [
      "\n",
      "Final Losses:\n",
      "Boundary Loss: 0.0000\n",
      "Physics Loss: 0.0000\n",
      "Total Loss: 0.0000\n"
     ]
    }
   ],
   "source": [
    "# Print final losses\n",
    "print(\"\\nFinal Losses:\")\n",
    "print(f\"Boundary Loss: {losses['boundaryloss'][-1]:.4f}\")\n",
    "print(f\"Physics Loss: {losses['physicsloss'][-1]:.4f}\")\n",
    "print(f\"Total Loss: {losses['totalloss'][-1]:.4f}\")"
   ]
  },
  {
   "cell_type": "code",
   "execution_count": 13,
   "id": "d67428a9",
   "metadata": {
    "execution": {
     "iopub.execute_input": "2024-07-26T04:31:09.071335Z",
     "iopub.status.busy": "2024-07-26T04:31:09.070936Z",
     "iopub.status.idle": "2024-07-26T04:31:09.202302Z",
     "shell.execute_reply": "2024-07-26T04:31:09.201308Z"
    },
    "papermill": {
     "duration": 0.146066,
     "end_time": "2024-07-26T04:31:09.205344",
     "exception": false,
     "start_time": "2024-07-26T04:31:09.059278",
     "status": "completed"
    },
    "tags": []
   },
   "outputs": [],
   "source": [
    "# Save KAN loss values to CSV\n",
    "loss_df = pd.DataFrame(losses)\n",
    "loss_df.to_csv('kan_loss_values.csv', index=False)\n"
   ]
  },
  {
   "cell_type": "code",
   "execution_count": 14,
   "id": "475b55e6",
   "metadata": {
    "_cell_guid": "37f4ec8a-e372-446c-96eb-47911999a70a",
    "_uuid": "8257ed73-7936-413c-8598-b21c74184459",
    "collapsed": false,
    "execution": {
     "iopub.execute_input": "2024-07-26T04:31:09.230009Z",
     "iopub.status.busy": "2024-07-26T04:31:09.229616Z",
     "iopub.status.idle": "2024-07-26T04:31:09.476645Z",
     "shell.execute_reply": "2024-07-26T04:31:09.475379Z"
    },
    "jupyter": {
     "outputs_hidden": false
    },
    "papermill": {
     "duration": 0.261766,
     "end_time": "2024-07-26T04:31:09.479448",
     "exception": false,
     "start_time": "2024-07-26T04:31:09.217682",
     "status": "completed"
    },
    "tags": []
   },
   "outputs": [],
   "source": [
    "# Predict using the KAN model\n",
    "x_test = torch.tensor(t, dtype=torch.float32).view(-1, 1)\n",
    "y_kan = model(x_test).detach().numpy()"
   ]
  },
  {
   "cell_type": "code",
   "execution_count": 15,
   "id": "a9410816",
   "metadata": {
    "execution": {
     "iopub.execute_input": "2024-07-26T04:31:09.502761Z",
     "iopub.status.busy": "2024-07-26T04:31:09.502343Z",
     "iopub.status.idle": "2024-07-26T04:31:09.571622Z",
     "shell.execute_reply": "2024-07-26T04:31:09.570612Z"
    },
    "papermill": {
     "duration": 0.083855,
     "end_time": "2024-07-26T04:31:09.574312",
     "exception": false,
     "start_time": "2024-07-26T04:31:09.490457",
     "status": "completed"
    },
    "tags": []
   },
   "outputs": [],
   "source": [
    "# Save KAN results to CSV\n",
    "kan_df = pd.DataFrame({'t': t, 'theta': y_kan.squeeze()})\n",
    "kan_df.to_csv('kan_results.csv', index=False)"
   ]
  },
  {
   "cell_type": "markdown",
   "id": "c72b0f3a",
   "metadata": {
    "_cell_guid": "949bba2c-23da-4230-b57a-5d983112cf9f",
    "_uuid": "e732526a-daff-41d7-88a9-f1df8d1fab25",
    "papermill": {
     "duration": 0.010301,
     "end_time": "2024-07-26T04:31:09.595289",
     "exception": false,
     "start_time": "2024-07-26T04:31:09.584988",
     "status": "completed"
    },
    "tags": []
   },
   "source": []
  },
  {
   "cell_type": "code",
   "execution_count": 16,
   "id": "15cd01e7",
   "metadata": {
    "_cell_guid": "89dcc15e-85d1-4226-89f6-4d68eaa5080b",
    "_uuid": "c2be89f8-a2aa-468d-8d3c-d505fb5d03fd",
    "collapsed": false,
    "execution": {
     "iopub.execute_input": "2024-07-26T04:31:09.618736Z",
     "iopub.status.busy": "2024-07-26T04:31:09.617590Z",
     "iopub.status.idle": "2024-07-26T04:31:10.214151Z",
     "shell.execute_reply": "2024-07-26T04:31:10.213046Z"
    },
    "jupyter": {
     "outputs_hidden": false
    },
    "papermill": {
     "duration": 0.611734,
     "end_time": "2024-07-26T04:31:10.217559",
     "exception": false,
     "start_time": "2024-07-26T04:31:09.605825",
     "status": "completed"
    },
    "tags": []
   },
   "outputs": [
    {
     "data": {
      "image/png": "[encoded data removed]",
      "text/plain": [
       "<Figure size 1200x800 with 1 Axes>"
      ]
     },
     "metadata": {},
     "output_type": "display_data"
    }
   ],
   "source": [
    "# Plot both the numerical and KAN solutions \n",
    "plt.figure(figsize=(12, 8))  \n",
    "plt.plot(sol.t, sol.y[0], label='Numerical Solution')\n",
    "plt.plot(t, y_kan, label='KAN Solution')\n",
    "plt.xlabel('t')\n",
    "plt.ylabel('phi(t)')\n",
    "plt.legend()\n",
    "plt.title('Numerical vs KAN Solution')\n",
    "\n",
    "# limits for zooming in\n",
    "plt.xlim(0, 20)  \n",
    "plt.ylim(-0.05, 0.05)  \n",
    "\n",
    "plt.savefig('/kaggle/working/KAN_0008.png')\n",
    "plt.show()"
   ]
  },
  {
   "cell_type": "code",
   "execution_count": 17,
   "id": "664966af",
   "metadata": {
    "_cell_guid": "2b84e640-6ae9-48f5-b37c-53d81b172c80",
    "_uuid": "bdf2b29c-f270-4d67-b83d-f0d054d4acc9",
    "collapsed": false,
    "execution": {
     "iopub.execute_input": "2024-07-26T04:31:10.244795Z",
     "iopub.status.busy": "2024-07-26T04:31:10.243932Z",
     "iopub.status.idle": "2024-07-26T04:31:10.248643Z",
     "shell.execute_reply": "2024-07-26T04:31:10.247444Z"
    },
    "jupyter": {
     "outputs_hidden": false
    },
    "papermill": {
     "duration": 0.020569,
     "end_time": "2024-07-26T04:31:10.250966",
     "exception": false,
     "start_time": "2024-07-26T04:31:10.230397",
     "status": "completed"
    },
    "tags": []
   },
   "outputs": [],
   "source": [
    "# Plot the KAN grid\n",
    "\n",
    "#model.plot()"
   ]
  },
  {
   "cell_type": "code",
   "execution_count": 18,
   "id": "8b0c0f8c",
   "metadata": {
    "_cell_guid": "9fbd4a9c-1ee7-4467-8b9c-7d338939a2da",
    "_uuid": "23da37a9-d5fa-465b-9639-800e38ad3de5",
    "collapsed": false,
    "execution": {
     "iopub.execute_input": "2024-07-26T04:31:10.276460Z",
     "iopub.status.busy": "2024-07-26T04:31:10.276099Z",
     "iopub.status.idle": "2024-07-26T04:31:10.280874Z",
     "shell.execute_reply": "2024-07-26T04:31:10.279770Z"
    },
    "jupyter": {
     "outputs_hidden": false
    },
    "papermill": {
     "duration": 0.020251,
     "end_time": "2024-07-26T04:31:10.283325",
     "exception": false,
     "start_time": "2024-07-26T04:31:10.263074",
     "status": "completed"
    },
    "tags": []
   },
   "outputs": [],
   "source": [
    "# Try time up to 20\n",
    "#"
   ]
  }
 ],
 "metadata": {
  "kaggle": {
   "accelerator": "none",
   "dataSources": [],
   "isGpuEnabled": false,
   "isInternetEnabled": true,
   "language": "python",
   "sourceType": "notebook"
  },
  "kernelspec": {
   "display_name": "Python 3",
   "language": "python",
   "name": "python3"
  },
  "language_info": {
   "codemirror_mode": {
    "name": "ipython",
    "version": 3
   },
   "file_extension": ".py",
   "mimetype": "text/x-python",
   "name": "python",
   "nbconvert_exporter": "python",
   "pygments_lexer": "ipython3",
   "version": "3.10.13"
  },
  "papermill": {
   "default_parameters": {},
   "duration": 40162.189941,
   "end_time": "2024-07-26T04:31:11.814988",
   "environment_variables": {},
   "exception": null,
   "input_path": "__notebook__.ipynb",
   "output_path": "__notebook__.ipynb",
   "parameters": {},
   "start_time": "2024-07-25T17:21:49.625047",
   "version": "2.5.0"
  }
 },
 "nbformat": 4,
 "nbformat_minor": 5
}
